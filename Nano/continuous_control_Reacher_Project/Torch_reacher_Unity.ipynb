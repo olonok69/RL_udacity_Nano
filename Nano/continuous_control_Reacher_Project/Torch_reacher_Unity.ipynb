{
 "cells": [
  {
   "cell_type": "code",
   "execution_count": 1,
   "id": "807f79ac",
   "metadata": {},
   "outputs": [],
   "source": [
    "import random\n",
    "from typing import List, Tuple\n",
    "\n",
    "import gym\n",
    "import matplotlib.pyplot as plt\n",
    "import numpy as np\n",
    "import torch\n",
    "import torch.nn as nn\n",
    "import torch.nn.functional as F\n",
    "import torch.optim as optim\n",
    "from IPython.display import clear_output\n",
    "from torch.distributions import Normal\n",
    "from unityagents import UnityEnvironment\n",
    "import numpy as np"
   ]
  },
  {
   "cell_type": "code",
   "execution_count": 2,
   "id": "0a35f1cd",
   "metadata": {},
   "outputs": [],
   "source": [
    "def initialize_uniformly(layer: nn.Linear, init_w: float = 3e-3):\n",
    "    \"\"\"Initialize the weights and bias in [-init_w, init_w].\"\"\"\n",
    "    layer.weight.data.uniform_(-init_w, init_w)\n",
    "    layer.bias.data.uniform_(-init_w, init_w)\n",
    "\n",
    "\n",
    "class Actor(nn.Module):\n",
    "    def __init__(self, in_dim: int, out_dim: int):\n",
    "        \"\"\"Initialize.\"\"\"\n",
    "        super(Actor, self).__init__()\n",
    "        \n",
    "        self.hidden1 = nn.Linear(in_dim, 128)\n",
    "        self.mu_layer = nn.Linear(128, out_dim)     \n",
    "        self.log_std_layer = nn.Linear(128, out_dim)   \n",
    "        \n",
    "        initialize_uniformly(self.mu_layer)\n",
    "        initialize_uniformly(self.log_std_layer)\n",
    "\n",
    "    def forward(self, state: torch.Tensor) -> torch.Tensor:\n",
    "        \"\"\"Forward method implementation.\"\"\"\n",
    "        x = F.relu(self.hidden1(state))\n",
    "        \n",
    "        mu = torch.tanh(self.mu_layer(x))\n",
    "        log_std = F.softplus(self.log_std_layer(x))\n",
    "        std = torch.exp(log_std)\n",
    "        \n",
    "        dist = Normal(mu, std)\n",
    "        action = dist.sample()\n",
    "        \n",
    "        return action, dist\n",
    "    \n",
    "class Critic(nn.Module):\n",
    "    def __init__(self, in_dim: int):\n",
    "        \"\"\"Initialize.\"\"\"\n",
    "        super(Critic, self).__init__()\n",
    "        \n",
    "        self.hidden1 = nn.Linear(in_dim, 128)\n",
    "        self.out = nn.Linear(128, 1)\n",
    "        \n",
    "        initialize_uniformly(self.out)\n",
    "\n",
    "    def forward(self, state: torch.Tensor) -> torch.Tensor:\n",
    "        \"\"\"Forward method implementation.\"\"\"\n",
    "        x = F.relu(self.hidden1(state))\n",
    "        value = self.out(x)\n",
    "        \n",
    "        return value"
   ]
  },
  {
   "cell_type": "code",
   "execution_count": 3,
   "id": "f56c2b81",
   "metadata": {},
   "outputs": [
    {
     "name": "stdout",
     "output_type": "stream",
     "text": [
      "cuda\n"
     ]
    }
   ],
   "source": [
    "device = torch.device(\n",
    "            \"cuda\" if torch.cuda.is_available() else \"cpu\"\n",
    "        )\n",
    "print(device)"
   ]
  },
  {
   "cell_type": "code",
   "execution_count": 4,
   "id": "bb26f1b0",
   "metadata": {},
   "outputs": [
    {
     "name": "stderr",
     "output_type": "stream",
     "text": [
      "INFO:unityagents:\n",
      "'Academy' started successfully!\n",
      "Unity Academy name: Academy\n",
      "        Number of Brains: 1\n",
      "        Number of External Brains : 1\n",
      "        Lesson number : 0\n",
      "        Reset Parameters :\n",
      "\t\tgoal_speed -> 1.0\n",
      "\t\tgoal_size -> 5.0\n",
      "Unity brain name: ReacherBrain\n",
      "        Number of Visual Observations (per agent): 0\n",
      "        Vector Observation space type: continuous\n",
      "        Vector Observation space size (per agent): 33\n",
      "        Number of stacked Vector Observation: 1\n",
      "        Vector Action space type: continuous\n",
      "        Vector Action space size (per agent): 4\n",
      "        Vector Action descriptions: , , , \n"
     ]
    }
   ],
   "source": [
    "env = UnityEnvironment(file_name='./Reacher_Windows_x86_One/Reacher_Windows_x86_64/Reacher.exe')"
   ]
  },
  {
   "cell_type": "code",
   "execution_count": 5,
   "id": "e695055c",
   "metadata": {},
   "outputs": [],
   "source": [
    "is_test = False\n",
    "transition= []\n",
    "gamma = 0.9\n",
    "entropy_weight = 1e-2"
   ]
  },
  {
   "cell_type": "code",
   "execution_count": 6,
   "id": "3aece621",
   "metadata": {},
   "outputs": [],
   "source": [
    "# get the default brain\n",
    "brain_name = env.brain_names[0]\n",
    "brain = env.brains[brain_name]"
   ]
  },
  {
   "cell_type": "code",
   "execution_count": 7,
   "id": "490b1842",
   "metadata": {},
   "outputs": [
    {
     "name": "stdout",
     "output_type": "stream",
     "text": [
      "Number of agents: 1\n",
      "Size of each action: 4\n",
      "There are 1 agents. Each observes a state with length: 33\n",
      "The state for the first agent looks like: [ 0.00000000e+00 -4.00000000e+00  0.00000000e+00  1.00000000e+00\n",
      " -0.00000000e+00 -0.00000000e+00 -4.37113883e-08  0.00000000e+00\n",
      "  0.00000000e+00  0.00000000e+00  0.00000000e+00  0.00000000e+00\n",
      "  0.00000000e+00  0.00000000e+00 -1.00000000e+01  0.00000000e+00\n",
      "  1.00000000e+00 -0.00000000e+00 -0.00000000e+00 -4.37113883e-08\n",
      "  0.00000000e+00  0.00000000e+00  0.00000000e+00  0.00000000e+00\n",
      "  0.00000000e+00  0.00000000e+00  5.75471878e+00 -1.00000000e+00\n",
      "  5.55726671e+00  0.00000000e+00  1.00000000e+00  0.00000000e+00\n",
      " -1.68164849e-01]\n"
     ]
    }
   ],
   "source": [
    "# reset the environment\n",
    "env_info = env.reset(train_mode=True)[brain_name]\n",
    "\n",
    "# number of agents\n",
    "num_agents = len(env_info.agents)\n",
    "print('Number of agents:', num_agents)\n",
    "\n",
    "# size of each action\n",
    "action_size = brain.vector_action_space_size\n",
    "print('Size of each action:', action_size)\n",
    "\n",
    "# examine the state space \n",
    "states = env_info.vector_observations\n",
    "state_size = states.shape[1]\n",
    "print('There are {} agents. Each observes a state with length: {}'.format(states.shape[0], state_size))\n",
    "print('The state for the first agent looks like:', states[0])"
   ]
  },
  {
   "cell_type": "code",
   "execution_count": 8,
   "id": "9a02e669",
   "metadata": {},
   "outputs": [
    {
     "data": {
      "text/plain": [
       "(array([[ 0.00000000e+00, -4.00000000e+00,  0.00000000e+00,\n",
       "          1.00000000e+00, -0.00000000e+00, -0.00000000e+00,\n",
       "         -4.37113883e-08,  0.00000000e+00,  0.00000000e+00,\n",
       "          0.00000000e+00,  0.00000000e+00,  0.00000000e+00,\n",
       "          0.00000000e+00,  0.00000000e+00, -1.00000000e+01,\n",
       "          0.00000000e+00,  1.00000000e+00, -0.00000000e+00,\n",
       "         -0.00000000e+00, -4.37113883e-08,  0.00000000e+00,\n",
       "          0.00000000e+00,  0.00000000e+00,  0.00000000e+00,\n",
       "          0.00000000e+00,  0.00000000e+00, -6.30408478e+00,\n",
       "         -1.00000000e+00, -4.92529202e+00,  0.00000000e+00,\n",
       "          1.00000000e+00,  0.00000000e+00, -5.33014059e-01]]),\n",
       " 1)"
      ]
     },
     "execution_count": 8,
     "metadata": {},
     "output_type": "execute_result"
    }
   ],
   "source": [
    "env_info = env.reset(train_mode=False)[brain_name]     # reset the environment    \n",
    "states = env_info.vector_observations                  # get the current state (for each agent)\n",
    "scores = np.zeros(num_agents) \n",
    "states,num_agents"
   ]
  },
  {
   "cell_type": "code",
   "execution_count": 9,
   "id": "411b12df",
   "metadata": {},
   "outputs": [
    {
     "data": {
      "text/plain": [
       "array([[ 0.00000000e+00, -4.00000000e+00,  0.00000000e+00,\n",
       "         1.00000000e+00, -0.00000000e+00, -0.00000000e+00,\n",
       "        -4.37113883e-08,  0.00000000e+00,  0.00000000e+00,\n",
       "         0.00000000e+00,  0.00000000e+00,  0.00000000e+00,\n",
       "         0.00000000e+00,  0.00000000e+00, -1.00000000e+01,\n",
       "         0.00000000e+00,  1.00000000e+00, -0.00000000e+00,\n",
       "        -0.00000000e+00, -4.37113883e-08,  0.00000000e+00,\n",
       "         0.00000000e+00,  0.00000000e+00,  0.00000000e+00,\n",
       "         0.00000000e+00,  0.00000000e+00, -6.30408478e+00,\n",
       "        -1.00000000e+00, -4.92529202e+00,  0.00000000e+00,\n",
       "         1.00000000e+00,  0.00000000e+00, -5.33014059e-01]])"
      ]
     },
     "execution_count": 9,
     "metadata": {},
     "output_type": "execute_result"
    }
   ],
   "source": [
    "states"
   ]
  },
  {
   "cell_type": "code",
   "execution_count": null,
   "id": "ea871a30",
   "metadata": {},
   "outputs": [],
   "source": [
    "state_size, action_size"
   ]
  },
  {
   "cell_type": "code",
   "execution_count": null,
   "id": "eb8b97d2",
   "metadata": {},
   "outputs": [],
   "source": [
    "obs_dim = state_size\n",
    "action_dim = action_size\n",
    "obs_dim, action_dim"
   ]
  },
  {
   "cell_type": "code",
   "execution_count": null,
   "id": "117ad9ce",
   "metadata": {},
   "outputs": [],
   "source": [
    "actor = Actor(obs_dim, action_dim).to(device)\n",
    "critic = Critic(obs_dim).to(device)"
   ]
  },
  {
   "cell_type": "code",
   "execution_count": null,
   "id": "ab1bad47",
   "metadata": {},
   "outputs": [],
   "source": [
    "actor_optimizer = optim.Adam(actor.parameters(), lr=1e-4)\n",
    "critic_optimizer = optim.Adam(critic.parameters(), lr=1e-3)"
   ]
  },
  {
   "cell_type": "code",
   "execution_count": null,
   "id": "9eaa87a3",
   "metadata": {},
   "outputs": [],
   "source": [
    "state = torch.from_numpy(states).float().to(device)\n",
    "state"
   ]
  },
  {
   "cell_type": "code",
   "execution_count": null,
   "id": "99e8d2e1",
   "metadata": {},
   "outputs": [],
   "source": [
    "action, dist = actor(state)\n",
    "action, dist"
   ]
  },
  {
   "cell_type": "code",
   "execution_count": null,
   "id": "4bae06a3",
   "metadata": {},
   "outputs": [],
   "source": [
    "selected_action = dist.mean if is_test else action\n",
    "selected_action"
   ]
  },
  {
   "cell_type": "code",
   "execution_count": null,
   "id": "474e94df",
   "metadata": {},
   "outputs": [],
   "source": [
    "if not is_test:\n",
    "    log_prob = dist.log_prob(selected_action).sum(dim=-1)\n",
    "    transition = [state, log_prob]\n",
    "transition"
   ]
  },
  {
   "cell_type": "code",
   "execution_count": null,
   "id": "14088335",
   "metadata": {},
   "outputs": [],
   "source": [
    "selected_action = selected_action.clamp(-2.0, 2.0).cpu().detach().numpy()\n",
    "selected_action"
   ]
  },
  {
   "cell_type": "code",
   "execution_count": null,
   "id": "a3d9c474",
   "metadata": {},
   "outputs": [],
   "source": [
    "next_state, reward, done, _ = env.step(selected_action)\n",
    "next_state, reward, done"
   ]
  },
  {
   "cell_type": "code",
   "execution_count": null,
   "id": "a008ae6a",
   "metadata": {},
   "outputs": [],
   "source": [
    "if not is_test:\n",
    "    transition.extend([next_state, reward, done])  \n",
    "transition"
   ]
  },
  {
   "cell_type": "code",
   "execution_count": null,
   "id": "89cc049c",
   "metadata": {},
   "outputs": [],
   "source": [
    "state, log_prob, next_state, reward, done = transition\n",
    "state, log_prob, next_state, reward, done"
   ]
  },
  {
   "cell_type": "code",
   "execution_count": null,
   "id": "b565d09a",
   "metadata": {},
   "outputs": [],
   "source": [
    "mask = 1 - done\n",
    "mask"
   ]
  },
  {
   "cell_type": "code",
   "execution_count": null,
   "id": "2430565c",
   "metadata": {},
   "outputs": [],
   "source": [
    "next_state = torch.FloatTensor(next_state).to(device)\n",
    "next_state"
   ]
  },
  {
   "cell_type": "code",
   "execution_count": null,
   "id": "cd448e65",
   "metadata": {},
   "outputs": [],
   "source": [
    "pred_value = critic(state)"
   ]
  },
  {
   "cell_type": "code",
   "execution_count": null,
   "id": "64e3841a",
   "metadata": {},
   "outputs": [],
   "source": [
    "pred_value"
   ]
  },
  {
   "cell_type": "code",
   "execution_count": null,
   "id": "4bd67d56",
   "metadata": {},
   "outputs": [],
   "source": [
    "targ_value = reward + gamma * critic(next_state) * mask\n",
    "targ_value"
   ]
  },
  {
   "cell_type": "code",
   "execution_count": null,
   "id": "1e0d6ec7",
   "metadata": {},
   "outputs": [],
   "source": [
    "value_loss = F.smooth_l1_loss(pred_value, targ_value.detach())\n",
    "value_loss"
   ]
  },
  {
   "cell_type": "code",
   "execution_count": null,
   "id": "767a7270",
   "metadata": {},
   "outputs": [],
   "source": [
    "# update value\n",
    "critic_optimizer.zero_grad()\n",
    "value_loss.backward()\n",
    "critic_optimizer.step()"
   ]
  },
  {
   "cell_type": "code",
   "execution_count": null,
   "id": "5d1dff24",
   "metadata": {},
   "outputs": [],
   "source": [
    "# advantage = Q_t - V(s_t)\n",
    "advantage = (targ_value - pred_value).detach()\n",
    "advantage"
   ]
  },
  {
   "cell_type": "code",
   "execution_count": null,
   "id": "04f9f616",
   "metadata": {},
   "outputs": [],
   "source": [
    "policy_loss = -advantage * log_prob\n",
    "policy_loss"
   ]
  },
  {
   "cell_type": "code",
   "execution_count": null,
   "id": "20c10b45",
   "metadata": {},
   "outputs": [],
   "source": [
    "policy_loss += entropy_weight * -log_prob\n",
    "policy_loss"
   ]
  },
  {
   "cell_type": "code",
   "execution_count": null,
   "id": "ae7c10ad",
   "metadata": {},
   "outputs": [],
   "source": [
    "# update policy\n",
    "actor_optimizer.zero_grad()\n",
    "policy_loss.backward()\n",
    "actor_optimizer.step()"
   ]
  },
  {
   "cell_type": "code",
   "execution_count": null,
   "id": "d427375d",
   "metadata": {},
   "outputs": [],
   "source": [
    "policy_loss.item(), value_loss.item()"
   ]
  },
  {
   "cell_type": "code",
   "execution_count": null,
   "id": "38797dfc",
   "metadata": {},
   "outputs": [],
   "source": []
  }
 ],
 "metadata": {
  "kernelspec": {
   "display_name": "drlnd",
   "language": "python",
   "name": "drlnd"
  },
  "language_info": {
   "codemirror_mode": {
    "name": "ipython",
    "version": 3
   },
   "file_extension": ".py",
   "mimetype": "text/x-python",
   "name": "python",
   "nbconvert_exporter": "python",
   "pygments_lexer": "ipython3",
   "version": "3.6.13"
  }
 },
 "nbformat": 4,
 "nbformat_minor": 5
}
