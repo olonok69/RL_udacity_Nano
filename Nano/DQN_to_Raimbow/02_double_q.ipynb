{
  "nbformat": 4,
  "nbformat_minor": 0,
  "metadata": {
    "kernelspec": {
      "display_name": "Python 3",
      "language": "python",
      "name": "python3"
    },
    "language_info": {
      "codemirror_mode": {
        "name": "ipython",
        "version": 3
      },
      "file_extension": ".py",
      "mimetype": "text/x-python",
      "name": "python",
      "nbconvert_exporter": "python",
      "pygments_lexer": "ipython3",
      "version": "3.7.9"
    },
    "colab": {
      "name": "02.double_q.ipynb",
      "provenance": []
    },
    "accelerator": "GPU"
  },
  "cells": [
    {
      "cell_type": "markdown",
      "metadata": {
        "id": "94v6HJGfHQ62"
      },
      "source": [
        "## Configurations for Colab"
      ]
    },
    {
      "cell_type": "code",
      "metadata": {
        "id": "bcjpUUPzHQ65",
        "colab": {
          "base_uri": "https://localhost:8080/"
        },
        "outputId": "e877114a-1f72-42fe-ccb1-109e9a41d1ff"
      },
      "source": [
        "import sys\n",
        "IN_COLAB = \"google.colab\" in sys.modules\n",
        "\n",
        "if IN_COLAB:\n",
        "    !apt install python-opengl\n",
        "    !apt install ffmpeg\n",
        "    !apt install xvfb\n",
        "    !pip install pyvirtualdisplay\n",
        "    !pip install gym\n",
        "    from pyvirtualdisplay import Display\n",
        "    \n",
        "    # Start virtual display\n",
        "    dis = Display(visible=0, size=(400, 400))\n",
        "    dis.start()"
      ],
      "execution_count": 1,
      "outputs": [
        {
          "output_type": "stream",
          "name": "stdout",
          "text": [
            "Reading package lists... Done\n",
            "Building dependency tree       \n",
            "Reading state information... Done\n",
            "Suggested packages:\n",
            "  libgle3\n",
            "The following NEW packages will be installed:\n",
            "  python-opengl\n",
            "0 upgraded, 1 newly installed, 0 to remove and 37 not upgraded.\n",
            "Need to get 496 kB of archives.\n",
            "After this operation, 5,416 kB of additional disk space will be used.\n",
            "Get:1 http://archive.ubuntu.com/ubuntu bionic/universe amd64 python-opengl all 3.1.0+dfsg-1 [496 kB]\n",
            "Fetched 496 kB in 1s (512 kB/s)\n",
            "Selecting previously unselected package python-opengl.\n",
            "(Reading database ... 155219 files and directories currently installed.)\n",
            "Preparing to unpack .../python-opengl_3.1.0+dfsg-1_all.deb ...\n",
            "Unpacking python-opengl (3.1.0+dfsg-1) ...\n",
            "Setting up python-opengl (3.1.0+dfsg-1) ...\n",
            "Reading package lists... Done\n",
            "Building dependency tree       \n",
            "Reading state information... Done\n",
            "ffmpeg is already the newest version (7:3.4.8-0ubuntu0.2).\n",
            "0 upgraded, 0 newly installed, 0 to remove and 37 not upgraded.\n",
            "Reading package lists... Done\n",
            "Building dependency tree       \n",
            "Reading state information... Done\n",
            "The following NEW packages will be installed:\n",
            "  xvfb\n",
            "0 upgraded, 1 newly installed, 0 to remove and 37 not upgraded.\n",
            "Need to get 784 kB of archives.\n",
            "After this operation, 2,270 kB of additional disk space will be used.\n",
            "Get:1 http://archive.ubuntu.com/ubuntu bionic-updates/universe amd64 xvfb amd64 2:1.19.6-1ubuntu4.9 [784 kB]\n",
            "Fetched 784 kB in 1s (800 kB/s)\n",
            "Selecting previously unselected package xvfb.\n",
            "(Reading database ... 157574 files and directories currently installed.)\n",
            "Preparing to unpack .../xvfb_2%3a1.19.6-1ubuntu4.9_amd64.deb ...\n",
            "Unpacking xvfb (2:1.19.6-1ubuntu4.9) ...\n",
            "Setting up xvfb (2:1.19.6-1ubuntu4.9) ...\n",
            "Processing triggers for man-db (2.8.3-2ubuntu0.1) ...\n",
            "Collecting pyvirtualdisplay\n",
            "  Downloading PyVirtualDisplay-2.2-py3-none-any.whl (15 kB)\n",
            "Collecting EasyProcess\n",
            "  Downloading EasyProcess-0.3-py2.py3-none-any.whl (7.9 kB)\n",
            "Installing collected packages: EasyProcess, pyvirtualdisplay\n",
            "Successfully installed EasyProcess-0.3 pyvirtualdisplay-2.2\n",
            "Requirement already satisfied: gym in /usr/local/lib/python3.7/dist-packages (0.17.3)\n",
            "Requirement already satisfied: pyglet<=1.5.0,>=1.4.0 in /usr/local/lib/python3.7/dist-packages (from gym) (1.5.0)\n",
            "Requirement already satisfied: scipy in /usr/local/lib/python3.7/dist-packages (from gym) (1.4.1)\n",
            "Requirement already satisfied: cloudpickle<1.7.0,>=1.2.0 in /usr/local/lib/python3.7/dist-packages (from gym) (1.3.0)\n",
            "Requirement already satisfied: numpy>=1.10.4 in /usr/local/lib/python3.7/dist-packages (from gym) (1.19.5)\n",
            "Requirement already satisfied: future in /usr/local/lib/python3.7/dist-packages (from pyglet<=1.5.0,>=1.4.0->gym) (0.16.0)\n"
          ]
        }
      ]
    },
    {
      "cell_type": "markdown",
      "metadata": {
        "id": "6zMyzzZyHQ66"
      },
      "source": [
        "# 02. Double DQN\n",
        "\n",
        "[van Hasselt et al., \"Deep Reinforcement Learning with Double Q-learning.\" arXiv preprint arXiv:1509.06461, 2015.](https://arxiv.org/pdf/1509.06461.pdf)\n",
        "\n",
        "\n",
        "\n",
        "\n",
        "Let's take a close look at the difference between DQN and Double-DQN. The max operator in standard Q-learning and DQN uses the same values both to select and to evaluate an action. This makes it more likely to select overestimated values, resulting in overoptimistic value estimates.\n",
        "\n",
        "$$\n",
        "\\theta_{t+1} = \\theta_t + \\alpha \\big(Y_t^Q - Q(S_t, A_t; \\theta_t)\\big) \\cdot \\nabla_{\\theta_t} Q(S_t, A_t; \\theta_t),\\\\\n",
        "\\text{where } \\alpha \\text{ is a scalar step size and the target } Y_t^Q \\text{is defined as }\\\\\n",
        "Y_t^Q = R_{t+1} + \\gamma \\max_a Q(S_{t+1}, a; \\theta_t).\n",
        "$$\n",
        "\n",
        "In Double Q-learning ([van Hasselt 2010](https://papers.nips.cc/paper/3964-double-q-learning.pdf)), two value functions are learned by assigning experiences randomly to update one of the two value functions, resulting in two sets of weights, $\\theta$ and $\\theta'$. For each update, one set of weights is used to determine the greedy policy and the other to determine its value. For a clear comparison, we can untangle the selection and evaluation in Q-learning and rewrite DQN's target as\n",
        "\n",
        "$$\n",
        "Y_t^Q = R_{t+1} + \\gamma Q(S_{t+1}, \\arg\\max_a Q(S_{t+1}, a; \\theta_t); \\theta_t).\n",
        "$$\n",
        "\n",
        "The Double Q-learning error can then be written as\n",
        "\n",
        "$$\n",
        "Y_t^{DoubleQ} = R_{t+1} + \\gamma Q(S_{t+1}, \\arg\\max_a Q(S_{t+1}, a; \\theta_t); \\theta_t').\n",
        "$$\n",
        "\n",
        "The idea of Double Q-learning is to reduce overestimations by decomposing the max operation in the target into action selection and action evaluation. Although not fully decoupled, the target network in the DQN architecture provides a natural candidate for the second value function, without having to introduce additional networks. In conclusion, the weights of the second network $\\theta_t'$ are replaced with the weights of the target network for the evaluation of the current greedy policy. This makes just a small change in calculating the target value of DQN loss.\n",
        "\n",
        "##### DQN:\n",
        "\n",
        "```\n",
        "target = reward + gamma * dqn_target(next_state).max(dim=1, keepdim=True)[0]\n",
        "```\n",
        "\n",
        "##### DoubleDQN:\n",
        "\n",
        "```\n",
        "selected_action = dqn(next_state).argmax(dim=1, keepdim=True)\n",
        "target = reward + gamma * dqn_target(next_state).gather(1, selected_action)\n",
        "```\n",
        "      "
      ]
    },
    {
      "cell_type": "code",
      "metadata": {
        "id": "yukk_exsHQ67"
      },
      "source": [
        "import os\n",
        "from typing import Dict, List, Tuple\n",
        "\n",
        "import gym\n",
        "import matplotlib.pyplot as plt\n",
        "import numpy as np\n",
        "import torch\n",
        "import torch.nn as nn\n",
        "import torch.nn.functional as F\n",
        "import torch.optim as optim\n",
        "from IPython.display import clear_output"
      ],
      "execution_count": 2,
      "outputs": []
    },
    {
      "cell_type": "markdown",
      "metadata": {
        "id": "WWWzUX8dHQ68"
      },
      "source": [
        "## Replay buffer\n",
        "\n",
        "Please see *01.dqn.ipynb* for detailed description."
      ]
    },
    {
      "cell_type": "code",
      "metadata": {
        "id": "U6_ZleQxHQ68"
      },
      "source": [
        "class ReplayBuffer:\n",
        "    \"\"\"A simple numpy replay buffer.\"\"\"\n",
        "\n",
        "    def __init__(self, obs_dim: int, size: int, batch_size: int = 32):\n",
        "        self.obs_buf = np.zeros([size, obs_dim], dtype=np.float32)\n",
        "        self.next_obs_buf = np.zeros([size, obs_dim], dtype=np.float32)\n",
        "        self.acts_buf = np.zeros([size], dtype=np.float32)\n",
        "        self.rews_buf = np.zeros([size], dtype=np.float32)\n",
        "        self.done_buf = np.zeros(size, dtype=np.float32)\n",
        "        self.max_size, self.batch_size = size, batch_size\n",
        "        self.ptr, self.size, = 0, 0\n",
        "\n",
        "    def store(\n",
        "        self,\n",
        "        obs: np.ndarray,\n",
        "        act: np.ndarray, \n",
        "        rew: float, \n",
        "        next_obs: np.ndarray, \n",
        "        done: bool,\n",
        "    ):\n",
        "        self.obs_buf[self.ptr] = obs\n",
        "        self.next_obs_buf[self.ptr] = next_obs\n",
        "        self.acts_buf[self.ptr] = act\n",
        "        self.rews_buf[self.ptr] = rew\n",
        "        self.done_buf[self.ptr] = done\n",
        "        self.ptr = (self.ptr + 1) % self.max_size\n",
        "        self.size = min(self.size + 1, self.max_size)\n",
        "\n",
        "    def sample_batch(self) -> Dict[str, np.ndarray]:\n",
        "        idxs = np.random.choice(self.size, size=self.batch_size, replace=False)\n",
        "        return dict(obs=self.obs_buf[idxs],\n",
        "                    next_obs=self.next_obs_buf[idxs],\n",
        "                    acts=self.acts_buf[idxs],\n",
        "                    rews=self.rews_buf[idxs],\n",
        "                    done=self.done_buf[idxs])\n",
        "\n",
        "    def __len__(self) -> int:\n",
        "        return self.size"
      ],
      "execution_count": 3,
      "outputs": []
    },
    {
      "cell_type": "markdown",
      "metadata": {
        "id": "_74bU_EZHQ69"
      },
      "source": [
        "## Network\n",
        "\n",
        "We are going to use a simple network architecture with three fully connected layers and two non-linearity functions (ReLU)."
      ]
    },
    {
      "cell_type": "code",
      "metadata": {
        "id": "TodYw2JqHQ6-"
      },
      "source": [
        "class Network(nn.Module):\n",
        "    def __init__(self, in_dim: int, out_dim: int):\n",
        "        \"\"\"Initialization.\"\"\"\n",
        "        super(Network, self).__init__()\n",
        "\n",
        "        self.layers = nn.Sequential(\n",
        "            nn.Linear(in_dim, 128), \n",
        "            nn.ReLU(),\n",
        "            nn.Linear(128, 128), \n",
        "            nn.ReLU(), \n",
        "            nn.Linear(128, out_dim)\n",
        "        )\n",
        "\n",
        "    def forward(self, x: torch.Tensor) -> torch.Tensor:\n",
        "        \"\"\"Forward method implementation.\"\"\"\n",
        "        return self.layers(x)"
      ],
      "execution_count": 4,
      "outputs": []
    },
    {
      "cell_type": "markdown",
      "metadata": {
        "id": "ZoMmNu_dHQ6_"
      },
      "source": [
        "## Double DQN Agent\n",
        "\n",
        "Here is a summary of DQNAgent class.\n",
        "\n",
        "| Method           | Note                                                 |\n",
        "| ---              | ---                                                  |\n",
        "|select_action     | select an action from the input state.               |\n",
        "|step              | take an action and return the response of the env.   |\n",
        "|compute_dqn_loss  | return dqn loss.                                     |\n",
        "|update_model      | update the model by gradient descent.                |\n",
        "|target_hard_update| hard update from the local model to the target model.|\n",
        "|train             | train the agent during num_frames.                   |\n",
        "|test              | test the agent (1 episode).                          |\n",
        "|plot              | plot the training progresses.                        |\n",
        "\n",
        "We use `self.dqn` instead of `self.dqn_target` for action selection.\n",
        "\n",
        "```\n",
        "\n",
        "        next_q_value = self.dqn_target(next_state).gather(\n",
        "            1, self.dqn(next_state).argmax(dim=1, keepdim=True)  # Double DQN\n",
        "        ).detach()\n",
        "        mask = 1 - done\n",
        "        target = (reward + self.gamma * next_q_value * mask).to(self.device)\n",
        "```"
      ]
    },
    {
      "cell_type": "code",
      "metadata": {
        "id": "DlxqtiKEHQ6_"
      },
      "source": [
        "class DQNAgent:\n",
        "    \"\"\"DQN Agent interacting with environment.\n",
        "    \n",
        "    Attribute:\n",
        "        env (gym.Env): openAI Gym environment\n",
        "        memory (ReplayBuffer): replay memory to store transitions\n",
        "        batch_size (int): batch size for sampling\n",
        "        epsilon (float): parameter for epsilon greedy policy\n",
        "        epsilon_decay (float): step size to decrease epsilon\n",
        "        max_epsilon (float): max value of epsilon\n",
        "        min_epsilon (float): min value of epsilon\n",
        "        target_update (int): period for target model's hard update\n",
        "        gamma (float): discount factor\n",
        "        dqn (Network): model to train and select actions\n",
        "        dqn_target (Network): target model to update\n",
        "        optimizer (torch.optim): optimizer for training dqn\n",
        "        transition (list): transition information including \n",
        "                           state, action, reward, next_state, done\n",
        "    \"\"\"\n",
        "\n",
        "    def __init__(\n",
        "        self, \n",
        "        env: gym.Env,\n",
        "        memory_size: int,\n",
        "        batch_size: int,\n",
        "        target_update: int,\n",
        "        epsilon_decay: float,\n",
        "        max_epsilon: float = 1.0,\n",
        "        min_epsilon: float = 0.1,\n",
        "        gamma: float = 0.99,\n",
        "    ):\n",
        "        \"\"\"Initialization.\n",
        "        \n",
        "        Args:\n",
        "            env (gym.Env): openAI Gym environment\n",
        "            memory_size (int): length of memory\n",
        "            batch_size (int): batch size for sampling\n",
        "            target_update (int): period for target model's hard update\n",
        "            epsilon_decay (float): step size to decrease epsilon\n",
        "            lr (float): learning rate\n",
        "            max_epsilon (float): max value of epsilon\n",
        "            min_epsilon (float): min value of epsilon\n",
        "            gamma (float): discount factor\n",
        "        \"\"\"\n",
        "        obs_dim = env.observation_space.shape[0]\n",
        "        action_dim = env.action_space.n\n",
        "        \n",
        "        self.env = env\n",
        "        self.memory = ReplayBuffer(obs_dim, memory_size, batch_size)\n",
        "        self.batch_size = batch_size\n",
        "        self.epsilon = max_epsilon\n",
        "        self.epsilon_decay = epsilon_decay\n",
        "        self.max_epsilon = max_epsilon\n",
        "        self.min_epsilon = min_epsilon\n",
        "        self.target_update = target_update\n",
        "        self.gamma = gamma\n",
        "        \n",
        "        # device: cpu / gpu\n",
        "        self.device = torch.device(\n",
        "            \"cuda\" if torch.cuda.is_available() else \"cpu\"\n",
        "        )\n",
        "        print(self.device)\n",
        "\n",
        "        # networks: dqn, dqn_target\n",
        "        self.dqn = Network(obs_dim, action_dim).to(self.device)\n",
        "        self.dqn_target = Network(obs_dim, action_dim).to(self.device)\n",
        "        self.dqn_target.load_state_dict(self.dqn.state_dict())\n",
        "        self.dqn_target.eval()\n",
        "        \n",
        "        # optimizer\n",
        "        self.optimizer = optim.Adam(self.dqn.parameters())\n",
        "\n",
        "        # transition to store in memory\n",
        "        self.transition = list()\n",
        "        \n",
        "        # mode: train / test\n",
        "        self.is_test = False\n",
        "\n",
        "    def select_action(self, state: np.ndarray) -> np.ndarray:\n",
        "        \"\"\"Select an action from the input state.\"\"\"\n",
        "        # epsilon greedy policy\n",
        "        if self.epsilon > np.random.random():\n",
        "            selected_action = self.env.action_space.sample()\n",
        "        else:\n",
        "            selected_action = self.dqn(\n",
        "                torch.FloatTensor(state).to(self.device)\n",
        "            ).argmax()\n",
        "            selected_action = selected_action.detach().cpu().numpy()\n",
        "        \n",
        "        if not self.is_test:\n",
        "            self.transition = [state, selected_action]\n",
        "        \n",
        "        return selected_action\n",
        "\n",
        "    def step(self, action: np.ndarray) -> Tuple[np.ndarray, np.float64, bool]:\n",
        "        \"\"\"Take an action and return the response of the env.\"\"\"\n",
        "        next_state, reward, done, _ = self.env.step(action)\n",
        "\n",
        "        if not self.is_test:\n",
        "            self.transition += [reward, next_state, done]\n",
        "            self.memory.store(*self.transition)\n",
        "    \n",
        "        return next_state, reward, done\n",
        "\n",
        "    def update_model(self) -> torch.Tensor:\n",
        "        \"\"\"Update the model by gradient descent.\"\"\"\n",
        "        samples = self.memory.sample_batch()\n",
        "\n",
        "        loss = self._compute_dqn_loss(samples)\n",
        "\n",
        "        self.optimizer.zero_grad()\n",
        "        loss.backward()\n",
        "        self.optimizer.step()\n",
        "\n",
        "        return loss.item()\n",
        "        \n",
        "    def train(self, num_frames: int, plotting_interval: int = 200):\n",
        "        \"\"\"Train the agent.\"\"\"\n",
        "        self.is_test = False\n",
        "        \n",
        "        state = self.env.reset()\n",
        "        update_cnt = 0\n",
        "        epsilons = []\n",
        "        losses = []\n",
        "        scores = []\n",
        "        score = 0\n",
        "\n",
        "        for frame_idx in range(1, num_frames + 1):\n",
        "            action = self.select_action(state)\n",
        "            next_state, reward, done = self.step(action)\n",
        "\n",
        "            state = next_state\n",
        "            score += reward\n",
        "\n",
        "            # if episode ends\n",
        "            if done:\n",
        "                state = self.env.reset()\n",
        "                scores.append(score)\n",
        "                score = 0\n",
        "\n",
        "            # if training is ready\n",
        "            if len(self.memory) >= self.batch_size:\n",
        "                loss = self.update_model()\n",
        "                losses.append(loss)\n",
        "                update_cnt += 1\n",
        "                \n",
        "                # linearly decrease epsilon\n",
        "                self.epsilon = max(\n",
        "                    self.min_epsilon, self.epsilon - (\n",
        "                        self.max_epsilon - self.min_epsilon\n",
        "                    ) * self.epsilon_decay\n",
        "                )\n",
        "                epsilons.append(self.epsilon)\n",
        "                \n",
        "                # if hard update is needed\n",
        "                if update_cnt % self.target_update == 0:\n",
        "                    self._target_hard_update()\n",
        "\n",
        "            # plotting\n",
        "            if frame_idx % plotting_interval == 0:\n",
        "                self._plot(frame_idx, scores, losses, epsilons)\n",
        "                \n",
        "        self.env.close()\n",
        "                \n",
        "    def test(self) -> List[np.ndarray]:\n",
        "        \"\"\"Test the agent.\"\"\"\n",
        "        self.is_test = True\n",
        "        \n",
        "        state = self.env.reset()\n",
        "        done = False\n",
        "        score = 0\n",
        "        \n",
        "        frames = []\n",
        "        while not done:\n",
        "            frames.append(self.env.render(mode=\"rgb_array\"))\n",
        "            action = self.select_action(state)\n",
        "            next_state, reward, done = self.step(action)\n",
        "\n",
        "            state = next_state\n",
        "            score += reward\n",
        "        \n",
        "        print(\"score: \", score)\n",
        "        self.env.close()\n",
        "        \n",
        "        return frames\n",
        "\n",
        "    def _compute_dqn_loss(self, samples: Dict[str, np.ndarray]) -> torch.Tensor:\n",
        "        \"\"\"Return dqn loss.\"\"\"\n",
        "        device = self.device  # for shortening the following lines\n",
        "        state = torch.FloatTensor(samples[\"obs\"]).to(device)\n",
        "        next_state = torch.FloatTensor(samples[\"next_obs\"]).to(device)\n",
        "        action = torch.LongTensor(samples[\"acts\"].reshape(-1, 1)).to(device)\n",
        "        reward = torch.FloatTensor(samples[\"rews\"].reshape(-1, 1)).to(device)\n",
        "        done = torch.FloatTensor(samples[\"done\"].reshape(-1, 1)).to(device)\n",
        "        \n",
        "        # G_t   = r + gamma * v(s_{t+1})  if state != Terminal\n",
        "        #       = r                       otherwise\n",
        "        curr_q_value = self.dqn(state).gather(1, action)\n",
        "        next_q_value = self.dqn_target(next_state).gather(  # Double DQN\n",
        "            1, self.dqn(next_state).argmax(dim=1, keepdim=True)\n",
        "        ).detach()\n",
        "        mask = 1 - done\n",
        "        target = (reward + self.gamma * next_q_value * mask).to(self.device)\n",
        "\n",
        "        # calculate dqn loss\n",
        "        loss = F.smooth_l1_loss(curr_q_value, target)\n",
        "\n",
        "        return loss\n",
        "    \n",
        "    def _target_hard_update(self):\n",
        "        \"\"\"Hard update: target <- local.\"\"\"\n",
        "        self.dqn_target.load_state_dict(self.dqn.state_dict())\n",
        "                \n",
        "    def _plot(\n",
        "        self, \n",
        "        frame_idx: int, \n",
        "        scores: List[float], \n",
        "        losses: List[float], \n",
        "        epsilons: List[float],\n",
        "    ):\n",
        "        \"\"\"Plot the training progresses.\"\"\"\n",
        "        clear_output(True)\n",
        "        plt.figure(figsize=(20, 5))\n",
        "        plt.subplot(131)\n",
        "        plt.title('frame %s. score: %s' % (frame_idx, np.mean(scores[-10:])))\n",
        "        plt.plot(scores)\n",
        "        plt.subplot(132)\n",
        "        plt.title('loss')\n",
        "        plt.plot(losses)\n",
        "        plt.subplot(133)\n",
        "        plt.title('epsilons')\n",
        "        plt.plot(epsilons)\n",
        "        plt.show()"
      ],
      "execution_count": 5,
      "outputs": []
    },
    {
      "cell_type": "markdown",
      "metadata": {
        "id": "8kcOjHzuHQ7B"
      },
      "source": [
        "## Environment\n",
        "\n",
        "You can see the [code](https://github.com/openai/gym/blob/master/gym/envs/classic_control/cartpole.py) and [configurations](https://github.com/openai/gym/blob/master/gym/envs/__init__.py#L53) of CartPole-v0 from OpenAI's repository."
      ]
    },
    {
      "cell_type": "code",
      "metadata": {
        "id": "Y2wZO4jGHQ7D"
      },
      "source": [
        "# environment\n",
        "env_id = \"CartPole-v0\"\n",
        "env = gym.make(env_id)\n",
        "if IN_COLAB:\n",
        "    env = gym.wrappers.Monitor(env, \"videos\", force=True)"
      ],
      "execution_count": 6,
      "outputs": []
    },
    {
      "cell_type": "markdown",
      "metadata": {
        "id": "0IYqDeAEHQ7D"
      },
      "source": [
        "## Set random seed"
      ]
    },
    {
      "cell_type": "code",
      "metadata": {
        "id": "XLne7T0sHQ7D",
        "colab": {
          "base_uri": "https://localhost:8080/"
        },
        "outputId": "4f596f53-6910-4f8c-8d3a-b7120f3db13a"
      },
      "source": [
        "seed = 777\n",
        "\n",
        "def seed_torch(seed):\n",
        "    torch.manual_seed(seed)\n",
        "    if torch.backends.cudnn.enabled:\n",
        "        torch.backends.cudnn.benchmark = False\n",
        "        torch.backends.cudnn.deterministic = True\n",
        "\n",
        "np.random.seed(seed)\n",
        "seed_torch(seed)\n",
        "env.seed(seed)"
      ],
      "execution_count": 7,
      "outputs": [
        {
          "output_type": "execute_result",
          "data": {
            "text/plain": [
              "[777]"
            ]
          },
          "metadata": {},
          "execution_count": 7
        }
      ]
    },
    {
      "cell_type": "markdown",
      "metadata": {
        "id": "bpgOKUi7HQ7E"
      },
      "source": [
        "## Initialize"
      ]
    },
    {
      "cell_type": "code",
      "metadata": {
        "id": "Rlt-P5biHQ7F",
        "colab": {
          "base_uri": "https://localhost:8080/"
        },
        "outputId": "d93d8d82-6928-4a93-c3c7-7def5d870c3c"
      },
      "source": [
        "# parameters\n",
        "num_frames = 20000\n",
        "memory_size = 1000\n",
        "batch_size = 32\n",
        "target_update = 200\n",
        "epsilon_decay = 1 / 2000\n",
        "\n",
        "# train\n",
        "agent = DQNAgent(env, memory_size, batch_size, target_update, epsilon_decay)"
      ],
      "execution_count": 8,
      "outputs": [
        {
          "output_type": "stream",
          "name": "stdout",
          "text": [
            "cuda\n"
          ]
        }
      ]
    },
    {
      "cell_type": "markdown",
      "metadata": {
        "id": "9f156UwIHQ7F"
      },
      "source": [
        "## Train"
      ]
    },
    {
      "cell_type": "code",
      "metadata": {
        "id": "AxrlgTYzHQ7F",
        "colab": {
          "base_uri": "https://localhost:8080/",
          "height": 336
        },
        "outputId": "7e7b73ce-9684-46a8-cd83-17b91f10fcdb"
      },
      "source": [
        "agent.train(num_frames)"
      ],
      "execution_count": 9,
      "outputs": [
        {
          "output_type": "display_data",
          "data": {
            "image/png": "[encoded data removed]",
            "text/plain": [
              "<Figure size 1440x360 with 3 Axes>"
            ]
          },
          "metadata": {
            "needs_background": "light"
          }
        }
      ]
    },
    {
      "cell_type": "markdown",
      "metadata": {
        "id": "dNzpZO68HQ7F"
      },
      "source": [
        "## Test\n",
        "\n",
        "Run the trained agent (1 episode)."
      ]
    },
    {
      "cell_type": "code",
      "metadata": {
        "id": "BUcfHqJDHQ7G",
        "colab": {
          "base_uri": "https://localhost:8080/"
        },
        "outputId": "b67cf603-a3da-4f3c-f889-573c7dfb462e"
      },
      "source": [
        "frames = agent.test()"
      ],
      "execution_count": 10,
      "outputs": [
        {
          "output_type": "stream",
          "name": "stdout",
          "text": [
            "score:  169.0\n"
          ]
        }
      ]
    },
    {
      "cell_type": "markdown",
      "metadata": {
        "id": "i7AX3s7THQ7G"
      },
      "source": [
        "## Render"
      ]
    },
    {
      "cell_type": "code",
      "metadata": {
        "id": "6LgQ7cfcHQ7G",
        "colab": {
          "base_uri": "https://localhost:8080/",
          "height": 438
        },
        "outputId": "c4a3a3fe-ad2c-4aad-f61c-bf2c0bf0dff7"
      },
      "source": [
        "if IN_COLAB:  # for colab\n",
        "    import base64\n",
        "    import glob\n",
        "    import io\n",
        "    import os\n",
        "\n",
        "    from IPython.display import HTML, display\n",
        "\n",
        "\n",
        "    def ipython_show_video(path: str) -> None:\n",
        "        \"\"\"Show a video at `path` within IPython Notebook.\"\"\"\n",
        "        if not os.path.isfile(path):\n",
        "            raise NameError(\"Cannot access: {}\".format(path))\n",
        "\n",
        "        video = io.open(path, \"r+b\").read()\n",
        "        encoded = base64.b64encode(video)\n",
        "\n",
        "        display(HTML(\n",
        "            data=\"\"\"\n",
        "            <video alt=\"test\" controls>\n",
        "            <source src=\"data:video/mp4;base64,{0}\" type=\"video/mp4\"/>\n",
        "            </video>\n",
        "            \"\"\".format(encoded.decode(\"ascii\"))\n",
        "        ))\n",
        "\n",
        "    list_of_files = glob.glob(\"videos/*.mp4\")\n",
        "    latest_file = max(list_of_files, key=os.path.getctime)\n",
        "    print(latest_file)\n",
        "    ipython_show_video(latest_file)\n",
        "    \n",
        "else:  # for jupyter\n",
        "    from matplotlib import animation\n",
        "    from JSAnimation.IPython_display import display_animation\n",
        "    from IPython.display import display\n",
        "\n",
        "\n",
        "    def display_frames_as_gif(frames: List[np.ndarray]) -> None:\n",
        "        \"\"\"Displays a list of frames as a gif, with controls.\"\"\"\n",
        "        patch = plt.imshow(frames[0])\n",
        "        plt.axis('off')\n",
        "\n",
        "        def animate(i):\n",
        "            patch.set_data(frames[i])\n",
        "\n",
        "        anim = animation.FuncAnimation(\n",
        "            plt.gcf(), animate, frames = len(frames), interval=50\n",
        "        )\n",
        "        display(display_animation(anim, default_mode='loop'))\n",
        "\n",
        "\n",
        "    # display \n",
        "    display_frames_as_gif(frames)"
      ],
      "execution_count": 11,
      "outputs": [
        {
          "output_type": "stream",
          "name": "stdout",
          "text": [
            "videos/openaigym.video.0.77.video000125.mp4\n"
          ]
        },
        {
          "output_type": "display_data",
          "data": {
            "text/html": [
              "\n",
              "            <video alt=\"test\" controls>\n",
              "            <source src=\"data:video/mp4;base64,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\" type=\"video/mp4\"/>\n",
              "            </video>\n",
              "            "
            ],
            "text/plain": [
              "<IPython.core.display.HTML object>"
            ]
          },
          "metadata": {}
        }
      ]
    }
  ]
}