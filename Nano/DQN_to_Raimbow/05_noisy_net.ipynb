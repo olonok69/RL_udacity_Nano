{
  "nbformat": 4,
  "nbformat_minor": 0,
  "metadata": {
    "kernelspec": {
      "display_name": "Python 3",
      "language": "python",
      "name": "python3"
    },
    "language_info": {
      "codemirror_mode": {
        "name": "ipython",
        "version": 3
      },
      "file_extension": ".py",
      "mimetype": "text/x-python",
      "name": "python",
      "nbconvert_exporter": "python",
      "pygments_lexer": "ipython3",
      "version": "3.7.9"
    },
    "colab": {
      "name": "05.noisy_net.ipynb",
      "provenance": []
    },
    "accelerator": "GPU"
  },
  "cells": [
    {
      "cell_type": "markdown",
      "metadata": {
        "id": "R0gGCN58WpzR"
      },
      "source": [
        "## Configurations for Colab"
      ]
    },
    {
      "cell_type": "code",
      "metadata": {
        "id": "bcmJKZP7WpzU",
        "colab": {
          "base_uri": "https://localhost:8080/"
        },
        "outputId": "99960fae-c835-442c-cb2c-ca908990baf2"
      },
      "source": [
        "import sys\n",
        "IN_COLAB = \"google.colab\" in sys.modules\n",
        "\n",
        "if IN_COLAB:\n",
        "    !apt install python-opengl\n",
        "    !apt install ffmpeg\n",
        "    !apt install xvfb\n",
        "    !pip install pyvirtualdisplay\n",
        "    !pip install gym\n",
        "    from pyvirtualdisplay import Display\n",
        "    \n",
        "    # Start virtual display\n",
        "    dis = Display(visible=0, size=(400, 400))\n",
        "    dis.start()"
      ],
      "execution_count": 1,
      "outputs": [
        {
          "output_type": "stream",
          "name": "stdout",
          "text": [
            "Reading package lists... Done\n",
            "Building dependency tree       \n",
            "Reading state information... Done\n",
            "Suggested packages:\n",
            "  libgle3\n",
            "The following NEW packages will be installed:\n",
            "  python-opengl\n",
            "0 upgraded, 1 newly installed, 0 to remove and 37 not upgraded.\n",
            "Need to get 496 kB of archives.\n",
            "After this operation, 5,416 kB of additional disk space will be used.\n",
            "Get:1 http://archive.ubuntu.com/ubuntu bionic/universe amd64 python-opengl all 3.1.0+dfsg-1 [496 kB]\n",
            "Fetched 496 kB in 1s (616 kB/s)\n",
            "Selecting previously unselected package python-opengl.\n",
            "(Reading database ... 155219 files and directories currently installed.)\n",
            "Preparing to unpack .../python-opengl_3.1.0+dfsg-1_all.deb ...\n",
            "Unpacking python-opengl (3.1.0+dfsg-1) ...\n",
            "Setting up python-opengl (3.1.0+dfsg-1) ...\n",
            "Reading package lists... Done\n",
            "Building dependency tree       \n",
            "Reading state information... Done\n",
            "ffmpeg is already the newest version (7:3.4.8-0ubuntu0.2).\n",
            "0 upgraded, 0 newly installed, 0 to remove and 37 not upgraded.\n",
            "Reading package lists... Done\n",
            "Building dependency tree       \n",
            "Reading state information... Done\n",
            "The following NEW packages will be installed:\n",
            "  xvfb\n",
            "0 upgraded, 1 newly installed, 0 to remove and 37 not upgraded.\n",
            "Need to get 784 kB of archives.\n",
            "After this operation, 2,270 kB of additional disk space will be used.\n",
            "Get:1 http://archive.ubuntu.com/ubuntu bionic-updates/universe amd64 xvfb amd64 2:1.19.6-1ubuntu4.9 [784 kB]\n",
            "Fetched 784 kB in 1s (897 kB/s)\n",
            "Selecting previously unselected package xvfb.\n",
            "(Reading database ... 157574 files and directories currently installed.)\n",
            "Preparing to unpack .../xvfb_2%3a1.19.6-1ubuntu4.9_amd64.deb ...\n",
            "Unpacking xvfb (2:1.19.6-1ubuntu4.9) ...\n",
            "Setting up xvfb (2:1.19.6-1ubuntu4.9) ...\n",
            "Processing triggers for man-db (2.8.3-2ubuntu0.1) ...\n",
            "Collecting pyvirtualdisplay\n",
            "  Downloading PyVirtualDisplay-2.2-py3-none-any.whl (15 kB)\n",
            "Collecting EasyProcess\n",
            "  Downloading EasyProcess-0.3-py2.py3-none-any.whl (7.9 kB)\n",
            "Installing collected packages: EasyProcess, pyvirtualdisplay\n",
            "Successfully installed EasyProcess-0.3 pyvirtualdisplay-2.2\n",
            "Requirement already satisfied: gym in /usr/local/lib/python3.7/dist-packages (0.17.3)\n",
            "Requirement already satisfied: numpy>=1.10.4 in /usr/local/lib/python3.7/dist-packages (from gym) (1.19.5)\n",
            "Requirement already satisfied: pyglet<=1.5.0,>=1.4.0 in /usr/local/lib/python3.7/dist-packages (from gym) (1.5.0)\n",
            "Requirement already satisfied: scipy in /usr/local/lib/python3.7/dist-packages (from gym) (1.4.1)\n",
            "Requirement already satisfied: cloudpickle<1.7.0,>=1.2.0 in /usr/local/lib/python3.7/dist-packages (from gym) (1.3.0)\n",
            "Requirement already satisfied: future in /usr/local/lib/python3.7/dist-packages (from pyglet<=1.5.0,>=1.4.0->gym) (0.16.0)\n"
          ]
        }
      ]
    },
    {
      "cell_type": "markdown",
      "metadata": {
        "id": "m4TGtIolWpzW"
      },
      "source": [
        "# 05. Noisy Networks for Exploration\n",
        "\n",
        "[M. Fortunato et al., \"Noisy Networks for Exploration.\" arXiv preprint arXiv:1706.10295, 2017.](https://arxiv.org/pdf/1706.10295.pdf)\n",
        "\n",
        "\n",
        "NoisyNet is an exploration method that learns perturbations of the network weights to drive exploration. The key insight is that a single change to the weight vector can induce a consistent, and potentially very complex, state-dependent change in policy over multiple time steps.\n",
        "\n",
        "Firstly, let's take a look into a linear layer of a neural network with $p$ inputs and $q$ outputs, represented by\n",
        "\n",
        "$$\n",
        "y = wx + b,\n",
        "$$\n",
        "\n",
        "where $x \\in \\mathbb{R}^p$ is the layer input, $w \\in \\mathbb{R}^{q \\times p}$, and $b \\in \\mathbb{R}$ the bias.\n",
        "\n",
        "The corresponding noisy linear layer is defined as:\n",
        "\n",
        "$$\n",
        "y = (\\mu^w + \\sigma^w \\odot \\epsilon^w) x + \\mu^b + \\sigma^b \\odot \\epsilon^b,\n",
        "$$\n",
        "\n",
        "where $\\mu^w + \\sigma^w \\odot \\epsilon^w$ and $\\mu^b + \\sigma^b \\odot \\epsilon^b$ replace $w$ and $b$ in the first linear layer equation. The parameters $\\mu^w \\in \\mathbb{R}^{q \\times p}, \\mu^b \\in \\mathbb{R}^q, \\sigma^w \\in \\mathbb{R}^{q \\times p}$ and $\\sigma^b \\in \\mathbb{R}^q$ are learnable, whereas $\\epsilon^w \\in \\mathbb{R}^{q \\times p}$ and $\\epsilon^b \\in \\mathbb{R}^q$ are noise random variables which can be generated by one of the following two ways:\n",
        "\n",
        "1. **Independent Gaussian noise**: the noise applied to each weight and bias is independent, where each random noise entry is drawn from a unit Gaussian distribution. This means that for each noisy linear layer, there are $pq + q$ noise variables (for $p$ inputs to the layer and $q$ outputs).\n",
        "2. **Factorised Gaussian noise:** This is a more computationally efficient way. It produces 2 random Gaussian noise vectors ($p, q$) and makes $pq + q$ noise entries by outer product as follows:\n",
        "\n",
        "$$\n",
        "\\begin{align}\n",
        "\\epsilon_{i,j}^w &= f(\\epsilon_i) f(\\epsilon_j),\\\\\n",
        "\\epsilon_{j}^b &= f(\\epsilon_i),\\\\\n",
        "\\text{where } f(x) &= sgn(x) \\sqrt{|x|}.\n",
        "\\end{align}\n",
        "$$\n",
        "\n",
        "In all experiements of the paper, the authors used Factorised Gaussian noise, so we will go for it as well."
      ]
    },
    {
      "cell_type": "code",
      "metadata": {
        "id": "aPwNiqAZWpzX"
      },
      "source": [
        "import math\n",
        "import os\n",
        "from typing import Dict, List, Tuple\n",
        "\n",
        "import gym\n",
        "import matplotlib.pyplot as plt\n",
        "import numpy as np\n",
        "import torch\n",
        "import torch.nn as nn\n",
        "import torch.nn.functional as F\n",
        "import torch.optim as optim\n",
        "from IPython.display import clear_output"
      ],
      "execution_count": 2,
      "outputs": []
    },
    {
      "cell_type": "markdown",
      "metadata": {
        "id": "XVHd2LtaWpzY"
      },
      "source": [
        "## Replay buffer\n",
        "\n",
        "Please see *01.dqn.ipynb* for detailed description."
      ]
    },
    {
      "cell_type": "code",
      "metadata": {
        "id": "4ne4pGgQWpzY"
      },
      "source": [
        "class ReplayBuffer:\n",
        "    \"\"\"A simple numpy replay buffer.\"\"\"\n",
        "\n",
        "    def __init__(self, obs_dim: int, size: int, batch_size: int = 32):\n",
        "        self.obs_buf = np.zeros([size, obs_dim], dtype=np.float32)\n",
        "        self.next_obs_buf = np.zeros([size, obs_dim], dtype=np.float32)\n",
        "        self.acts_buf = np.zeros([size], dtype=np.float32)\n",
        "        self.rews_buf = np.zeros([size], dtype=np.float32)\n",
        "        self.done_buf = np.zeros(size, dtype=np.float32)\n",
        "        self.max_size, self.batch_size = size, batch_size\n",
        "        self.ptr, self.size, = 0, 0\n",
        "\n",
        "    def store(\n",
        "        self,\n",
        "        obs: np.ndarray,\n",
        "        act: np.ndarray, \n",
        "        rew: float, \n",
        "        next_obs: np.ndarray, \n",
        "        done: bool,\n",
        "    ):\n",
        "        self.obs_buf[self.ptr] = obs\n",
        "        self.next_obs_buf[self.ptr] = next_obs\n",
        "        self.acts_buf[self.ptr] = act\n",
        "        self.rews_buf[self.ptr] = rew\n",
        "        self.done_buf[self.ptr] = done\n",
        "        self.ptr = (self.ptr + 1) % self.max_size\n",
        "        self.size = min(self.size + 1, self.max_size)\n",
        "\n",
        "    def sample_batch(self) -> Dict[str, np.ndarray]:\n",
        "        idxs = np.random.choice(self.size, size=self.batch_size, replace=False)\n",
        "        return dict(obs=self.obs_buf[idxs],\n",
        "                    next_obs=self.next_obs_buf[idxs],\n",
        "                    acts=self.acts_buf[idxs],\n",
        "                    rews=self.rews_buf[idxs],\n",
        "                    done=self.done_buf[idxs])\n",
        "\n",
        "    def __len__(self) -> int:\n",
        "        return self.size"
      ],
      "execution_count": 3,
      "outputs": []
    },
    {
      "cell_type": "markdown",
      "metadata": {
        "id": "VjcOBFLCWpzZ"
      },
      "source": [
        "## Noisy Layer\n",
        "\n",
        "**References:**\n",
        "- https://github.com/higgsfield/RL-Adventure/blob/master/5.noisy%20dqn.ipynb\n",
        "- https://github.com/Kaixhin/Rainbow/blob/master/model.py"
      ]
    },
    {
      "cell_type": "code",
      "metadata": {
        "id": "_k_hIJIpWpza"
      },
      "source": [
        "class NoisyLinear(nn.Module):\n",
        "    \"\"\"Noisy linear module for NoisyNet.\n",
        "    \n",
        "    Attributes:\n",
        "        in_features (int): input size of linear module\n",
        "        out_features (int): output size of linear module\n",
        "        std_init (float): initial std value\n",
        "        weight_mu (nn.Parameter): mean value weight parameter\n",
        "        weight_sigma (nn.Parameter): std value weight parameter\n",
        "        bias_mu (nn.Parameter): mean value bias parameter\n",
        "        bias_sigma (nn.Parameter): std value bias parameter\n",
        "        \n",
        "    \"\"\"\n",
        "\n",
        "    def __init__(self, in_features: int, out_features: int, std_init: float = 0.5):\n",
        "        \"\"\"Initialization.\"\"\"\n",
        "        super(NoisyLinear, self).__init__()\n",
        "        \n",
        "        self.in_features = in_features\n",
        "        self.out_features = out_features\n",
        "        self.std_init = std_init\n",
        "\n",
        "        self.weight_mu = nn.Parameter(torch.Tensor(out_features, in_features))\n",
        "        self.weight_sigma = nn.Parameter(\n",
        "            torch.Tensor(out_features, in_features)\n",
        "        )\n",
        "        self.register_buffer(\n",
        "            \"weight_epsilon\", torch.Tensor(out_features, in_features)\n",
        "        )\n",
        "\n",
        "        self.bias_mu = nn.Parameter(torch.Tensor(out_features))\n",
        "        self.bias_sigma = nn.Parameter(torch.Tensor(out_features))\n",
        "        self.register_buffer(\"bias_epsilon\", torch.Tensor(out_features))\n",
        "\n",
        "        self.reset_parameters()\n",
        "        self.reset_noise()\n",
        "\n",
        "    def reset_parameters(self):\n",
        "        \"\"\"Reset trainable network parameters (factorized gaussian noise).\"\"\"\n",
        "        mu_range = 1 / math.sqrt(self.in_features)\n",
        "        self.weight_mu.data.uniform_(-mu_range, mu_range)\n",
        "        self.weight_sigma.data.fill_(\n",
        "            self.std_init / math.sqrt(self.in_features)\n",
        "        )\n",
        "        self.bias_mu.data.uniform_(-mu_range, mu_range)\n",
        "        self.bias_sigma.data.fill_(\n",
        "            self.std_init / math.sqrt(self.out_features)\n",
        "        )\n",
        "\n",
        "    def reset_noise(self):\n",
        "        \"\"\"Make new noise.\"\"\"\n",
        "        epsilon_in = self.scale_noise(self.in_features)\n",
        "        epsilon_out = self.scale_noise(self.out_features)\n",
        "\n",
        "        # outer product\n",
        "        self.weight_epsilon.copy_(epsilon_out.ger(epsilon_in))\n",
        "        self.bias_epsilon.copy_(epsilon_out)\n",
        "\n",
        "    def forward(self, x: torch.Tensor) -> torch.Tensor:\n",
        "        \"\"\"Forward method implementation.\n",
        "        \n",
        "        We don't use separate statements on train / eval mode.\n",
        "        It doesn't show remarkable difference of performance.\n",
        "        \"\"\"\n",
        "        return F.linear(\n",
        "            x,\n",
        "            self.weight_mu + self.weight_sigma * self.weight_epsilon,\n",
        "            self.bias_mu + self.bias_sigma * self.bias_epsilon,\n",
        "        )\n",
        "    \n",
        "    @staticmethod\n",
        "    def scale_noise(size: int) -> torch.Tensor:\n",
        "        \"\"\"Set scale to make noise (factorized gaussian noise).\"\"\"\n",
        "        x = torch.randn(size)\n",
        "\n",
        "        return x.sign().mul(x.abs().sqrt())"
      ],
      "execution_count": 4,
      "outputs": []
    },
    {
      "cell_type": "markdown",
      "metadata": {
        "id": "a4b3-9-DWpzb"
      },
      "source": [
        "## Noisy Network\n",
        "\n",
        "We use NoisyLinear for the last two FC layers, and there is a method to reset noise at every step.\n",
        "These are the only differences from the example of *01.dqn.ipynb*."
      ]
    },
    {
      "cell_type": "code",
      "metadata": {
        "id": "MdUQnStmWpzb"
      },
      "source": [
        "class Network(nn.Module):\n",
        "    def __init__(self, in_dim: int, out_dim: int):\n",
        "        \"\"\"Initialization.\"\"\"\n",
        "        super(Network, self).__init__()\n",
        "\n",
        "        self.feature = nn.Linear(in_dim, 128)\n",
        "        self.noisy_layer1 = NoisyLinear(128, 128)\n",
        "        self.noisy_layer2 = NoisyLinear(128, out_dim)\n",
        "\n",
        "    def forward(self, x: torch.Tensor) -> torch.Tensor:\n",
        "        \"\"\"Forward method implementation.\"\"\"\n",
        "        feature = F.relu(self.feature(x))\n",
        "        hidden = F.relu(self.noisy_layer1(feature))\n",
        "        out = self.noisy_layer2(hidden)\n",
        "        \n",
        "        return out\n",
        "    \n",
        "    def reset_noise(self):\n",
        "        \"\"\"Reset all noisy layers.\"\"\"\n",
        "        self.noisy_layer1.reset_noise()\n",
        "        self.noisy_layer2.reset_noise()"
      ],
      "execution_count": 5,
      "outputs": []
    },
    {
      "cell_type": "markdown",
      "metadata": {
        "id": "DKkWqkvoWpzc"
      },
      "source": [
        "## DQN + NoisyNet Agent (w/o DuelingNet)\n",
        "\n",
        "Here is a summary of DQNAgent class.\n",
        "\n",
        "| Method           | Note                                                 |\n",
        "| ---              | ---                                                  |\n",
        "|select_action     | select an action from the input state.               |\n",
        "|step              | take an action and return the response of the env.   |\n",
        "|compute_dqn_loss  | return dqn loss.                                     |\n",
        "|update_model      | update the model by gradient descent.                |\n",
        "|target_hard_update| hard update from the local model to the target model.|\n",
        "|train             | train the agent during num_frames.                   |\n",
        "|test              | test the agent (1 episode).                          |\n",
        "|plot              | plot the training progresses.                        |\n",
        "\n",
        "In the paper, NoisyNet is used as a component of the Dueling Network Architecture, which includes Double-DQN and Prioritized Experience Replay. However, we don't implement them to simplify the tutorial. One thing to note is that NoisyNet is an alternertive to $\\epsilon$-greedy method, so all $\\epsilon$ related lines are removed. Please check all comments with *NoisyNet*."
      ]
    },
    {
      "cell_type": "code",
      "metadata": {
        "id": "oxNfh2VLWpzc"
      },
      "source": [
        "class DQNAgent:\n",
        "    \"\"\"DQN Agent interacting with environment.\n",
        "    \n",
        "    Attribute:\n",
        "        env (gym.Env): openAI Gym environment\n",
        "        memory (ReplayBuffer): replay memory to store transitions\n",
        "        batch_size (int): batch size for sampling\n",
        "        target_update (int): period for target model's hard update\n",
        "        gamma (float): discount factor\n",
        "        dqn (Network): model to train and select actions\n",
        "        dqn_target (Network): target model to update\n",
        "        optimizer (torch.optim): optimizer for training dqn\n",
        "        transition (list): transition information including\n",
        "                           state, action, reward, next_state, done\n",
        "    \"\"\"\n",
        "\n",
        "    def __init__(\n",
        "        self, \n",
        "        env: gym.Env,\n",
        "        memory_size: int,\n",
        "        batch_size: int,\n",
        "        target_update: int,\n",
        "        gamma: float = 0.99,\n",
        "    ):\n",
        "        \"\"\"Initialization.\n",
        "        \n",
        "        Args:\n",
        "            env (gym.Env): openAI Gym environment\n",
        "            memory_size (int): length of memory\n",
        "            batch_size (int): batch size for sampling\n",
        "            target_update (int): period for target model's hard update\n",
        "            gamma (float): discount factor\n",
        "        \"\"\"\n",
        "        # NoisyNet: All attributes related to epsilon are removed\n",
        "        obs_dim = env.observation_space.shape[0]\n",
        "        action_dim = env.action_space.n\n",
        "        \n",
        "        self.env = env\n",
        "        self.memory = ReplayBuffer(obs_dim, memory_size, batch_size)\n",
        "        self.batch_size = batch_size\n",
        "        self.target_update = target_update\n",
        "        self.gamma = gamma\n",
        "        \n",
        "        # device: cpu / gpu\n",
        "        self.device = torch.device(\n",
        "            \"cuda\" if torch.cuda.is_available() else \"cpu\"\n",
        "        )\n",
        "        print(self.device)\n",
        "\n",
        "        # networks: dqn, dqn_target\n",
        "        self.dqn = Network(obs_dim, action_dim).to(self.device)\n",
        "        self.dqn_target = Network(obs_dim, action_dim).to(self.device)\n",
        "        self.dqn_target.load_state_dict(self.dqn.state_dict())\n",
        "        self.dqn_target.eval()\n",
        "        \n",
        "        # optimizer\n",
        "        self.optimizer = optim.Adam(self.dqn.parameters())\n",
        "\n",
        "        # transition to store in memory\n",
        "        self.transition = list()\n",
        "        \n",
        "        # mode: train / test\n",
        "        self.is_test = False\n",
        "\n",
        "    def select_action(self, state: np.ndarray) -> np.ndarray:\n",
        "        \"\"\"Select an action from the input state.\"\"\"\n",
        "        # NoisyNet: no epsilon greedy action selection\n",
        "        selected_action = self.dqn(\n",
        "            torch.FloatTensor(state).to(self.device)\n",
        "        ).argmax()\n",
        "        selected_action = selected_action.detach().cpu().numpy()\n",
        "        \n",
        "        if not self.is_test:\n",
        "            self.transition = [state, selected_action]\n",
        "        \n",
        "        return selected_action\n",
        "\n",
        "    def step(self, action: np.ndarray) -> Tuple[np.ndarray, np.float64, bool]:\n",
        "        \"\"\"Take an action and return the response of the env.\"\"\"\n",
        "        next_state, reward, done, _ = self.env.step(action)\n",
        "\n",
        "        if not self.is_test:\n",
        "            self.transition += [reward, next_state, done]\n",
        "            self.memory.store(*self.transition)\n",
        "    \n",
        "        return next_state, reward, done\n",
        "\n",
        "    def update_model(self) -> torch.Tensor:\n",
        "        \"\"\"Update the model by gradient descent.\"\"\"\n",
        "        samples = self.memory.sample_batch()\n",
        "\n",
        "        loss = self._compute_dqn_loss(samples)\n",
        "\n",
        "        self.optimizer.zero_grad()\n",
        "        loss.backward()\n",
        "        self.optimizer.step()\n",
        "        \n",
        "        # NoisyNet: reset noise\n",
        "        self.dqn.reset_noise()\n",
        "        self.dqn_target.reset_noise()\n",
        "\n",
        "        return loss.item()\n",
        "        \n",
        "    def train(self, num_frames: int, plotting_interval: int = 200):\n",
        "        \"\"\"Train the agent.\"\"\"\n",
        "        self.is_test = False\n",
        "        \n",
        "        state = self.env.reset()\n",
        "        update_cnt = 0\n",
        "        losses = []\n",
        "        scores = []\n",
        "        score = 0\n",
        "\n",
        "        for frame_idx in range(1, num_frames + 1):\n",
        "            action = self.select_action(state)\n",
        "            next_state, reward, done = self.step(action)\n",
        "\n",
        "            state = next_state\n",
        "            score += reward\n",
        "            \n",
        "            # NoisyNet: removed decrease of epsilon\n",
        "\n",
        "            # if episode ends\n",
        "            if done:\n",
        "                state = self.env.reset()\n",
        "                scores.append(score)\n",
        "                score = 0\n",
        "\n",
        "            # if training is ready\n",
        "            if len(self.memory) >= self.batch_size:\n",
        "                loss = self.update_model()\n",
        "                losses.append(loss)\n",
        "                update_cnt += 1\n",
        "                \n",
        "                # if hard update is needed\n",
        "                if update_cnt % self.target_update == 0:\n",
        "                    self._target_hard_update()\n",
        "\n",
        "            # plotting\n",
        "            if frame_idx % plotting_interval == 0:\n",
        "                self._plot(frame_idx, scores, losses)\n",
        "                \n",
        "        self.env.close()\n",
        "                \n",
        "    def test(self) -> List[np.ndarray]:\n",
        "        \"\"\"Test the agent.\"\"\"\n",
        "        self.is_test = True\n",
        "        \n",
        "        state = self.env.reset()\n",
        "        done = False\n",
        "        score = 0\n",
        "        \n",
        "        frames = []\n",
        "        while not done:\n",
        "            frames.append(self.env.render(mode=\"rgb_array\"))\n",
        "            action = self.select_action(state)\n",
        "            next_state, reward, done = self.step(action)\n",
        "\n",
        "            state = next_state\n",
        "            score += reward\n",
        "        \n",
        "        print(\"score: \", score)\n",
        "        self.env.close()\n",
        "        \n",
        "        return frames\n",
        "\n",
        "    def _compute_dqn_loss(self, samples: Dict[str, np.ndarray]) -> torch.Tensor:\n",
        "        \"\"\"Return dqn loss.\"\"\"\n",
        "        device = self.device  # for shortening the following lines\n",
        "        state = torch.FloatTensor(samples[\"obs\"]).to(device)\n",
        "        next_state = torch.FloatTensor(samples[\"next_obs\"]).to(device)\n",
        "        action = torch.LongTensor(samples[\"acts\"].reshape(-1, 1)).to(device)\n",
        "        reward = torch.FloatTensor(samples[\"rews\"].reshape(-1, 1)).to(device)\n",
        "        done = torch.FloatTensor(samples[\"done\"].reshape(-1, 1)).to(device)\n",
        "        \n",
        "        # G_t   = r + gamma * v(s_{t+1})  if state != Terminal\n",
        "        #       = r                       otherwise\n",
        "        curr_q_value = self.dqn(state).gather(1, action)\n",
        "        next_q_value = self.dqn_target(next_state).max(\n",
        "            dim=1, keepdim=True\n",
        "        )[0].detach()\n",
        "        mask = 1 - done\n",
        "        target = (reward + self.gamma * next_q_value * mask).to(self.device)\n",
        "\n",
        "        # calculate dqn loss\n",
        "        loss = F.smooth_l1_loss(curr_q_value, target)\n",
        "\n",
        "        return loss\n",
        "\n",
        "    def _target_hard_update(self):\n",
        "        \"\"\"Hard update: target <- local.\"\"\"\n",
        "        self.dqn_target.load_state_dict(self.dqn.state_dict())\n",
        "                \n",
        "    def _plot(\n",
        "        self, \n",
        "        frame_idx: int, \n",
        "        scores: List[float], \n",
        "        losses: List[float], \n",
        "    ):\n",
        "        \"\"\"Plot the training progresses.\"\"\"\n",
        "        clear_output(True)\n",
        "        plt.figure(figsize=(20, 5))\n",
        "        plt.subplot(131)\n",
        "        plt.title('frame %s. score: %s' % (frame_idx, np.mean(scores[-10:])))\n",
        "        plt.plot(scores)\n",
        "        plt.subplot(132)\n",
        "        plt.title('loss')\n",
        "        plt.plot(losses)\n",
        "        plt.show()"
      ],
      "execution_count": 6,
      "outputs": []
    },
    {
      "cell_type": "markdown",
      "metadata": {
        "id": "xfsw3MmhWpze"
      },
      "source": [
        "## Environment\n",
        "\n",
        "You can see the [code](https://github.com/openai/gym/blob/master/gym/envs/classic_control/cartpole.py) and [configurations](https://github.com/openai/gym/blob/master/gym/envs/__init__.py#L53) of CartPole-v0 from OpenAI's repository."
      ]
    },
    {
      "cell_type": "code",
      "metadata": {
        "id": "J85gRW1JWpzg"
      },
      "source": [
        "# environment\n",
        "env_id = \"CartPole-v0\"\n",
        "env = gym.make(env_id)\n",
        "if IN_COLAB:\n",
        "    env = gym.wrappers.Monitor(env, \"videos\", force=True)"
      ],
      "execution_count": 7,
      "outputs": []
    },
    {
      "cell_type": "markdown",
      "metadata": {
        "id": "wiLfuV_AWpzg"
      },
      "source": [
        "## Set random seed"
      ]
    },
    {
      "cell_type": "code",
      "metadata": {
        "id": "PvP1S1llWpzh",
        "colab": {
          "base_uri": "https://localhost:8080/"
        },
        "outputId": "595f0920-452e-4083-96bb-0622a5f448b2"
      },
      "source": [
        "seed = 777\n",
        "\n",
        "def seed_torch(seed):\n",
        "    torch.manual_seed(seed)\n",
        "    if torch.backends.cudnn.enabled:\n",
        "        torch.backends.cudnn.benchmark = False\n",
        "        torch.backends.cudnn.deterministic = True\n",
        "\n",
        "np.random.seed(seed)\n",
        "seed_torch(seed)\n",
        "env.seed(seed)"
      ],
      "execution_count": 8,
      "outputs": [
        {
          "output_type": "execute_result",
          "data": {
            "text/plain": [
              "[777]"
            ]
          },
          "metadata": {},
          "execution_count": 8
        }
      ]
    },
    {
      "cell_type": "markdown",
      "metadata": {
        "id": "E5Yn-QrMWpzi"
      },
      "source": [
        "## Initialize"
      ]
    },
    {
      "cell_type": "code",
      "metadata": {
        "id": "C_tSxFj0Wpzi",
        "colab": {
          "base_uri": "https://localhost:8080/"
        },
        "outputId": "29052322-3abc-49de-db9a-949613d0a736"
      },
      "source": [
        "# parameters\n",
        "num_frames = 20000\n",
        "memory_size = 10000\n",
        "batch_size = 128\n",
        "target_update = 150\n",
        "\n",
        "# train\n",
        "agent = DQNAgent(env, memory_size, batch_size, target_update)"
      ],
      "execution_count": 9,
      "outputs": [
        {
          "output_type": "stream",
          "name": "stdout",
          "text": [
            "cuda\n"
          ]
        }
      ]
    },
    {
      "cell_type": "markdown",
      "metadata": {
        "id": "Y9uoNRFuWpzi"
      },
      "source": [
        "## Train"
      ]
    },
    {
      "cell_type": "code",
      "metadata": {
        "id": "S2xdU8yaWpzi",
        "colab": {
          "base_uri": "https://localhost:8080/",
          "height": 336
        },
        "outputId": "2a62e4e4-32ab-4a4d-edcc-6a4dbf651640"
      },
      "source": [
        "agent.train(num_frames)"
      ],
      "execution_count": 10,
      "outputs": [
        {
          "output_type": "display_data",
          "data": {
            "image/png": "[encoded data removed]",
            "text/plain": [
              "<Figure size 1440x360 with 2 Axes>"
            ]
          },
          "metadata": {
            "needs_background": "light"
          }
        }
      ]
    },
    {
      "cell_type": "markdown",
      "metadata": {
        "id": "IvJCbqeFWpzj"
      },
      "source": [
        "## Test\n",
        "\n",
        "Run the trained agent (1 episode)."
      ]
    },
    {
      "cell_type": "code",
      "metadata": {
        "id": "OlhuCn3lWpzj",
        "colab": {
          "base_uri": "https://localhost:8080/"
        },
        "outputId": "40bb8984-98cd-4b7a-bbf7-37fa8685aa56"
      },
      "source": [
        "frames = agent.test()"
      ],
      "execution_count": 11,
      "outputs": [
        {
          "output_type": "stream",
          "name": "stdout",
          "text": [
            "score:  112.0\n"
          ]
        }
      ]
    },
    {
      "cell_type": "markdown",
      "metadata": {
        "id": "BD6TPRzAWpzj"
      },
      "source": [
        "## Render"
      ]
    },
    {
      "cell_type": "code",
      "metadata": {
        "id": "N9dTCSOKWpzj",
        "colab": {
          "base_uri": "https://localhost:8080/",
          "height": 438
        },
        "outputId": "3eba83bb-6c5e-4529-a301-631b2e3c0002"
      },
      "source": [
        "if IN_COLAB:  # for colab\n",
        "    import base64\n",
        "    import glob\n",
        "    import io\n",
        "    import os\n",
        "\n",
        "    from IPython.display import HTML, display\n",
        "\n",
        "\n",
        "    def ipython_show_video(path: str) -> None:\n",
        "        \"\"\"Show a video at `path` within IPython Notebook.\"\"\"\n",
        "        if not os.path.isfile(path):\n",
        "            raise NameError(\"Cannot access: {}\".format(path))\n",
        "\n",
        "        video = io.open(path, \"r+b\").read()\n",
        "        encoded = base64.b64encode(video)\n",
        "\n",
        "        display(HTML(\n",
        "            data=\"\"\"\n",
        "            <video alt=\"test\" controls>\n",
        "            <source src=\"data:video/mp4;base64,{0}\" type=\"video/mp4\"/>\n",
        "            </video>\n",
        "            \"\"\".format(encoded.decode(\"ascii\"))\n",
        "        ))\n",
        "\n",
        "    list_of_files = glob.glob(\"videos/*.mp4\")\n",
        "    latest_file = max(list_of_files, key=os.path.getctime)\n",
        "    print(latest_file)\n",
        "    ipython_show_video(latest_file)\n",
        "    \n",
        "else:  # for jupyter\n",
        "    from matplotlib import animation\n",
        "    from JSAnimation.IPython_display import display_animation\n",
        "    from IPython.display import display\n",
        "\n",
        "\n",
        "    def display_frames_as_gif(frames: List[np.ndarray]) -> None:\n",
        "        \"\"\"Displays a list of frames as a gif, with controls.\"\"\"\n",
        "        patch = plt.imshow(frames[0])\n",
        "        plt.axis('off')\n",
        "\n",
        "        def animate(i):\n",
        "            patch.set_data(frames[i])\n",
        "\n",
        "        anim = animation.FuncAnimation(\n",
        "            plt.gcf(), animate, frames = len(frames), interval=50\n",
        "        )\n",
        "        display(display_animation(anim, default_mode='loop'))\n",
        "\n",
        "\n",
        "    # display \n",
        "    display_frames_as_gif(frames)"
      ],
      "execution_count": 12,
      "outputs": [
        {
          "output_type": "stream",
          "name": "stdout",
          "text": [
            "videos/openaigym.video.0.79.video000216.mp4\n"
          ]
        },
        {
          "output_type": "display_data",
          "data": {
            "text/html": [
              "\n",
              "            <video alt=\"test\" controls>\n",
              "            <source src=\"data:video/mp4;base64,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\" type=\"video/mp4\"/>\n",
              "            </video>\n",
              "            "
            ],
            "text/plain": [
              "<IPython.core.display.HTML object>"
            ]
          },
          "metadata": {}
        }
      ]
    }
  ]
}