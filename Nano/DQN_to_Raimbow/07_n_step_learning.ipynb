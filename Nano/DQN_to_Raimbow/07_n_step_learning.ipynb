{
  "nbformat": 4,
  "nbformat_minor": 0,
  "metadata": {
    "kernelspec": {
      "display_name": "Python 3",
      "language": "python",
      "name": "python3"
    },
    "language_info": {
      "codemirror_mode": {
        "name": "ipython",
        "version": 3
      },
      "file_extension": ".py",
      "mimetype": "text/x-python",
      "name": "python",
      "nbconvert_exporter": "python",
      "pygments_lexer": "ipython3",
      "version": "3.7.9"
    },
    "colab": {
      "name": "07.n_step_learning.ipynb",
      "provenance": []
    },
    "accelerator": "GPU"
  },
  "cells": [
    {
      "cell_type": "markdown",
      "metadata": {
        "id": "OgXFEuW3eWL4"
      },
      "source": [
        "## Configurations for Colab"
      ]
    },
    {
      "cell_type": "code",
      "metadata": {
        "id": "H2FsV_57eWL7",
        "colab": {
          "base_uri": "https://localhost:8080/"
        },
        "outputId": "c13e3482-c168-4517-c6c1-ebabfcc3458a"
      },
      "source": [
        "import sys\n",
        "IN_COLAB = \"google.colab\" in sys.modules\n",
        "\n",
        "if IN_COLAB:\n",
        "    !apt install python-opengl\n",
        "    !apt install ffmpeg\n",
        "    !apt install xvfb\n",
        "    !pip install pyvirtualdisplay\n",
        "    !pip install gym\n",
        "    from pyvirtualdisplay import Display\n",
        "    \n",
        "    # Start virtual display\n",
        "    dis = Display(visible=0, size=(400, 400))\n",
        "    dis.start()"
      ],
      "execution_count": 1,
      "outputs": [
        {
          "output_type": "stream",
          "name": "stdout",
          "text": [
            "Reading package lists... Done\n",
            "Building dependency tree       \n",
            "Reading state information... Done\n",
            "Suggested packages:\n",
            "  libgle3\n",
            "The following NEW packages will be installed:\n",
            "  python-opengl\n",
            "0 upgraded, 1 newly installed, 0 to remove and 37 not upgraded.\n",
            "Need to get 496 kB of archives.\n",
            "After this operation, 5,416 kB of additional disk space will be used.\n",
            "Get:1 http://archive.ubuntu.com/ubuntu bionic/universe amd64 python-opengl all 3.1.0+dfsg-1 [496 kB]\n",
            "Fetched 496 kB in 1s (520 kB/s)\n",
            "Selecting previously unselected package python-opengl.\n",
            "(Reading database ... 155219 files and directories currently installed.)\n",
            "Preparing to unpack .../python-opengl_3.1.0+dfsg-1_all.deb ...\n",
            "Unpacking python-opengl (3.1.0+dfsg-1) ...\n",
            "Setting up python-opengl (3.1.0+dfsg-1) ...\n",
            "Reading package lists... Done\n",
            "Building dependency tree       \n",
            "Reading state information... Done\n",
            "ffmpeg is already the newest version (7:3.4.8-0ubuntu0.2).\n",
            "0 upgraded, 0 newly installed, 0 to remove and 37 not upgraded.\n",
            "Reading package lists... Done\n",
            "Building dependency tree       \n",
            "Reading state information... Done\n",
            "The following NEW packages will be installed:\n",
            "  xvfb\n",
            "0 upgraded, 1 newly installed, 0 to remove and 37 not upgraded.\n",
            "Need to get 784 kB of archives.\n",
            "After this operation, 2,270 kB of additional disk space will be used.\n",
            "Get:1 http://archive.ubuntu.com/ubuntu bionic-updates/universe amd64 xvfb amd64 2:1.19.6-1ubuntu4.9 [784 kB]\n",
            "Fetched 784 kB in 1s (892 kB/s)\n",
            "Selecting previously unselected package xvfb.\n",
            "(Reading database ... 157574 files and directories currently installed.)\n",
            "Preparing to unpack .../xvfb_2%3a1.19.6-1ubuntu4.9_amd64.deb ...\n",
            "Unpacking xvfb (2:1.19.6-1ubuntu4.9) ...\n",
            "Setting up xvfb (2:1.19.6-1ubuntu4.9) ...\n",
            "Processing triggers for man-db (2.8.3-2ubuntu0.1) ...\n",
            "Collecting pyvirtualdisplay\n",
            "  Downloading PyVirtualDisplay-2.2-py3-none-any.whl (15 kB)\n",
            "Collecting EasyProcess\n",
            "  Downloading EasyProcess-0.3-py2.py3-none-any.whl (7.9 kB)\n",
            "Installing collected packages: EasyProcess, pyvirtualdisplay\n",
            "Successfully installed EasyProcess-0.3 pyvirtualdisplay-2.2\n",
            "Requirement already satisfied: gym in /usr/local/lib/python3.7/dist-packages (0.17.3)\n",
            "Requirement already satisfied: pyglet<=1.5.0,>=1.4.0 in /usr/local/lib/python3.7/dist-packages (from gym) (1.5.0)\n",
            "Requirement already satisfied: scipy in /usr/local/lib/python3.7/dist-packages (from gym) (1.4.1)\n",
            "Requirement already satisfied: numpy>=1.10.4 in /usr/local/lib/python3.7/dist-packages (from gym) (1.19.5)\n",
            "Requirement already satisfied: cloudpickle<1.7.0,>=1.2.0 in /usr/local/lib/python3.7/dist-packages (from gym) (1.3.0)\n",
            "Requirement already satisfied: future in /usr/local/lib/python3.7/dist-packages (from pyglet<=1.5.0,>=1.4.0->gym) (0.16.0)\n"
          ]
        }
      ]
    },
    {
      "cell_type": "markdown",
      "metadata": {
        "id": "dMq_My80eWL9"
      },
      "source": [
        "# 07. N-Step Learning\n",
        "\n",
        "[R. S. Sutton, \"Learning to predict by the methods of temporal differences.\" Machine learning, 3(1):9–44, 1988.](http://incompleteideas.net/papers/sutton-88-with-erratum.pdf)\n",
        "\n",
        "Q-learning accumulates a single reward and then uses the greedy action at the next step to bootstrap. Alternatively, forward-view multi-step targets can be used (Sutton 1988). We call it Truncated N-Step Return\n",
        "from a given state $S_t$. It is defined as,\n",
        "\n",
        "$$\n",
        "R^{(n)}_t = \\sum_{k=0}^{n-1} \\gamma_t^{(k)} R_{t+k+1}.\n",
        "$$\n",
        "\n",
        "A multi-step variant of DQN is then defined by minimizing the alternative loss,\n",
        "\n",
        "$$\n",
        "(R^{(n)}_t + \\gamma^{(n)}_t \\max_{a'} q_{\\theta}^{-}\n",
        "(S_{t+n}, a')\n",
        "- q_{\\theta}(S_t, A_t))^2.\n",
        "$$\n",
        "\n",
        "Multi-step targets with suitably tuned $n$ often lead to faster learning (Sutton and Barto 1998)."
      ]
    },
    {
      "cell_type": "code",
      "metadata": {
        "id": "qLhsm65YeWL-"
      },
      "source": [
        "import os\n",
        "from collections import deque\n",
        "from typing import Deque, Dict, List, Tuple\n",
        "\n",
        "import gym\n",
        "import matplotlib.pyplot as plt\n",
        "import numpy as np\n",
        "import torch\n",
        "import torch.nn as nn\n",
        "import torch.nn.functional as F\n",
        "import torch.optim as optim\n",
        "from IPython.display import clear_output"
      ],
      "execution_count": 2,
      "outputs": []
    },
    {
      "cell_type": "markdown",
      "metadata": {
        "id": "7C9zw-JdeWL-"
      },
      "source": [
        "## Replay buffer for N-step learning\n",
        "\n",
        "There are a little bit changes in Replay buffer for N-step learning. First, we use `deque` to store the most recent n-step transitions.\n",
        "\n",
        "```python\n",
        "    self.n_step_buffer = deque(maxlen=n_step)\n",
        "```\n",
        "\n",
        "You can see it doesn't actually store a transition in the buffer, unless `n_step_buffer` is full.\n",
        "\n",
        "```\n",
        "    # in store method\n",
        "    if len(self.n_step_buffer) < self.n_step:\n",
        "        return ()\n",
        "```\n",
        "\n",
        "When the length of `n_step_buffer` becomes equal to N, it eventually stores the N-step transition, which is calculated by `_get_n_step_info` method.\n",
        "\n",
        "(Please see *01.dqn.ipynb* for detailed description of the basic replay buffer.)"
      ]
    },
    {
      "cell_type": "code",
      "metadata": {
        "id": "P7I8uMi0eWL_"
      },
      "source": [
        "class ReplayBuffer:\n",
        "    \"\"\"A simple numpy replay buffer.\"\"\"\n",
        "\n",
        "    def __init__(\n",
        "        self, \n",
        "        obs_dim: int, \n",
        "        size: int, \n",
        "        batch_size: int = 32, \n",
        "        n_step: int = 3, \n",
        "        gamma: float = 0.99,\n",
        "    ):\n",
        "        self.obs_buf = np.zeros([size, obs_dim], dtype=np.float32)\n",
        "        self.next_obs_buf = np.zeros([size, obs_dim], dtype=np.float32)\n",
        "        self.acts_buf = np.zeros([size], dtype=np.float32)\n",
        "        self.rews_buf = np.zeros([size], dtype=np.float32)\n",
        "        self.done_buf = np.zeros(size, dtype=np.float32)\n",
        "        self.max_size, self.batch_size = size, batch_size\n",
        "        self.ptr, self.size, = 0, 0\n",
        "        \n",
        "        # for N-step Learning\n",
        "        self.n_step_buffer = deque(maxlen=n_step)\n",
        "        self.n_step = n_step\n",
        "        self.gamma = gamma\n",
        "\n",
        "    def store(\n",
        "        self, \n",
        "        obs: np.ndarray, \n",
        "        act: np.ndarray, \n",
        "        rew: float, \n",
        "        next_obs: np.ndarray, \n",
        "        done: bool\n",
        "    ) -> Tuple[np.ndarray, np.ndarray, float, np.ndarray, bool]:\n",
        "        transition = (obs, act, rew, next_obs, done)\n",
        "        self.n_step_buffer.append(transition)\n",
        "\n",
        "        # single step transition is not ready\n",
        "        if len(self.n_step_buffer) < self.n_step:\n",
        "            return ()\n",
        "        \n",
        "        # make a n-step transition\n",
        "        rew, next_obs, done = self._get_n_step_info(\n",
        "            self.n_step_buffer, self.gamma\n",
        "        )\n",
        "        obs, act = self.n_step_buffer[0][:2]\n",
        "        \n",
        "        self.obs_buf[self.ptr] = obs\n",
        "        self.next_obs_buf[self.ptr] = next_obs\n",
        "        self.acts_buf[self.ptr] = act\n",
        "        self.rews_buf[self.ptr] = rew\n",
        "        self.done_buf[self.ptr] = done\n",
        "        self.ptr = (self.ptr + 1) % self.max_size\n",
        "        self.size = min(self.size + 1, self.max_size)\n",
        "        \n",
        "        return self.n_step_buffer[0]\n",
        "\n",
        "    def sample_batch(self) -> Dict[str, np.ndarray]:\n",
        "        indices = np.random.choice(\n",
        "            self.size, size=self.batch_size, replace=False\n",
        "        )\n",
        "\n",
        "        return dict(\n",
        "            obs=self.obs_buf[indices],\n",
        "            next_obs=self.next_obs_buf[indices],\n",
        "            acts=self.acts_buf[indices],\n",
        "            rews=self.rews_buf[indices],\n",
        "            done=self.done_buf[indices],\n",
        "            # for N-step Learning\n",
        "            indices=indices,\n",
        "        )\n",
        "    \n",
        "    def sample_batch_from_idxs(\n",
        "        self, indices: np.ndarray\n",
        "    ) -> Dict[str, np.ndarray]:\n",
        "        # for N-step Learning\n",
        "        return dict(\n",
        "            obs=self.obs_buf[indices],\n",
        "            next_obs=self.next_obs_buf[indices],\n",
        "            acts=self.acts_buf[indices],\n",
        "            rews=self.rews_buf[indices],\n",
        "            done=self.done_buf[indices],\n",
        "        )\n",
        "    \n",
        "    def _get_n_step_info(\n",
        "        self, n_step_buffer: Deque, gamma: float\n",
        "    ) -> Tuple[np.int64, np.ndarray, bool]:\n",
        "        \"\"\"Return n step rew, next_obs, and done.\"\"\"\n",
        "        # info of the last transition\n",
        "        rew, next_obs, done = n_step_buffer[-1][-3:]\n",
        "\n",
        "        for transition in reversed(list(n_step_buffer)[:-1]):\n",
        "            r, n_o, d = transition[-3:]\n",
        "\n",
        "            rew = r + gamma * rew * (1 - d)\n",
        "            next_obs, done = (n_o, d) if d else (next_obs, done)\n",
        "\n",
        "        return rew, next_obs, done\n",
        "\n",
        "    def __len__(self) -> int:\n",
        "        return self.size"
      ],
      "execution_count": 4,
      "outputs": []
    },
    {
      "cell_type": "markdown",
      "metadata": {
        "id": "T3VnSPXpeWMA"
      },
      "source": [
        "## Network\n",
        "\n",
        "We are going to use a simple network architecture with three fully connected layers and two non-linearity functions (ReLU)."
      ]
    },
    {
      "cell_type": "code",
      "metadata": {
        "id": "R8Inj6MzeWMB"
      },
      "source": [
        "class Network(nn.Module):\n",
        "    def __init__(self, in_dim: int, out_dim: int):\n",
        "        \"\"\"Initialization.\"\"\"\n",
        "        super(Network, self).__init__()\n",
        "\n",
        "        self.layers = nn.Sequential(\n",
        "            nn.Linear(in_dim, 128), \n",
        "            nn.ReLU(),\n",
        "            nn.Linear(128, 128), \n",
        "            nn.ReLU(), \n",
        "            nn.Linear(128, out_dim)\n",
        "        )\n",
        "\n",
        "    def forward(self, x: torch.Tensor) -> torch.Tensor:\n",
        "        \"\"\"Forward method implementation.\"\"\"\n",
        "        return self.layers(x)"
      ],
      "execution_count": 5,
      "outputs": []
    },
    {
      "cell_type": "markdown",
      "metadata": {
        "id": "3G8KWnYKeWMC"
      },
      "source": [
        "## DQN Agent + N-step learning Agent\n",
        "\n",
        "Here is a summary of DQNAgent class.\n",
        "\n",
        "| Method           | Note                                                 |\n",
        "| ---              | ---                                                  |\n",
        "|select_action     | select an action from the input state.               |\n",
        "|step              | take an action and return the response of the env.   |\n",
        "|compute_dqn_loss  | return dqn loss.                                     |\n",
        "|update_model      | update the model by gradient descent.                |\n",
        "|target_hard_update| hard update from the local model to the target model.|\n",
        "|train             | train the agent during num_frames.                   |\n",
        "|test              | test the agent (1 episode).                          |\n",
        "|plot              | plot the training progresses.                        |\n",
        "\n",
        "We use two buffers: `memory` and `memory_n` for 1-step transitions and n-step transitions respectively. It guarantees that any paired 1-step and n-step transitions have the same indices (See `step` method for more details). Due to the reason, we can sample pairs of transitions from the two buffers once we have indices for samples.\n",
        "\n",
        "```python\n",
        "    def update_model(self) -> torch.Tensor:\n",
        "        ...\n",
        "        samples = self.memory.sample_batch()\n",
        "        indices = samples[\"indices\"]\n",
        "        ...\n",
        "        \n",
        "        # N-step Learning loss\n",
        "        if self.use_n_step:\n",
        "            samples = self.memory_n.sample_batch_from_idxs(indices)\n",
        "            ...\n",
        "```\n",
        "\n",
        "One thing to note that  we are gonna combine 1-step loss and n-step loss so as to control high-variance / high-bias trade-off.\n",
        "\n",
        "(Search the comments with *N-step Leaning* to see any difference from DQN.)"
      ]
    },
    {
      "cell_type": "code",
      "metadata": {
        "id": "C3R9UKPYeWMC"
      },
      "source": [
        "class DQNAgent:\n",
        "    \"\"\"DQN Agent interacting with environment.\n",
        "    \n",
        "    Attribute:\n",
        "        env (gym.Env): openAI Gym environment\n",
        "        memory (ReplayBuffer): replay memory to store transitions\n",
        "        batch_size (int): batch size for sampling\n",
        "        epsilon (float): parameter for epsilon greedy policy\n",
        "        epsilon_decay (float): step size to decrease epsilon\n",
        "        max_epsilon (float): max value of epsilon\n",
        "        min_epsilon (float): min value of epsilon\n",
        "        target_update (int): period for target model's hard update\n",
        "        gamma (float): discount factor\n",
        "        dqn (Network): model to train and select actions\n",
        "        dqn_target (Network): target model to update\n",
        "        optimizer (torch.optim): optimizer for training dqn\n",
        "        transition (list): transition information including \n",
        "                           state, action, reward, next_state, done\n",
        "        use_n_step (bool): whether to use n_step memory\n",
        "        n_step (int): step number to calculate n-step td error\n",
        "        memory_n (ReplayBuffer): n-step replay buffer\n",
        "    \"\"\"\n",
        "\n",
        "    def __init__(\n",
        "        self, \n",
        "        env: gym.Env,\n",
        "        memory_size: int,\n",
        "        batch_size: int,\n",
        "        target_update: int,\n",
        "        epsilon_decay: float,\n",
        "        max_epsilon: float = 1.0,\n",
        "        min_epsilon: float = 0.1,\n",
        "        gamma: float = 0.99,\n",
        "        # N-step Learning\n",
        "        n_step: int = 3,\n",
        "    ):\n",
        "        \"\"\"Initialization.\n",
        "        \n",
        "        Args:\n",
        "            env (gym.Env): openAI Gym environment\n",
        "            memory_size (int): length of memory\n",
        "            batch_size (int): batch size for sampling\n",
        "            target_update (int): period for target model's hard update\n",
        "            epsilon_decay (float): step size to decrease epsilon\n",
        "            lr (float): learning rate\n",
        "            max_epsilon (float): max value of epsilon\n",
        "            min_epsilon (float): min value of epsilon\n",
        "            gamma (float): discount factor\n",
        "            n_step (int): step number to calculate n-step td error\n",
        "        \"\"\"\n",
        "        obs_dim = env.observation_space.shape[0]\n",
        "        action_dim = env.action_space.n\n",
        "        \n",
        "        self.env = env\n",
        "        self.batch_size = batch_size\n",
        "        self.epsilon = max_epsilon\n",
        "        self.epsilon_decay = epsilon_decay\n",
        "        self.max_epsilon = max_epsilon\n",
        "        self.min_epsilon = min_epsilon\n",
        "        self.target_update = target_update\n",
        "        self.gamma = gamma\n",
        "        \n",
        "        # memory for 1-step Learning\n",
        "        self.memory = ReplayBuffer(\n",
        "            obs_dim, memory_size, batch_size, n_step=1\n",
        "        )\n",
        "        \n",
        "        # memory for N-step Learning\n",
        "        self.use_n_step = True if n_step > 1 else False\n",
        "        if self.use_n_step:\n",
        "            self.n_step = n_step\n",
        "            self.memory_n = ReplayBuffer(\n",
        "                obs_dim, memory_size, batch_size, n_step=n_step, gamma=gamma\n",
        "            )\n",
        "        \n",
        "        # device: cpu / gpu\n",
        "        self.device = torch.device(\n",
        "            \"cuda\" if torch.cuda.is_available() else \"cpu\"\n",
        "        )\n",
        "        print(self.device)\n",
        "\n",
        "        # networks: dqn, dqn_target\n",
        "        self.dqn = Network(obs_dim, action_dim).to(self.device)\n",
        "        self.dqn_target = Network(obs_dim, action_dim).to(self.device)\n",
        "        self.dqn_target.load_state_dict(self.dqn.state_dict())\n",
        "        self.dqn_target.eval()\n",
        "        \n",
        "        # optimizer\n",
        "        self.optimizer = optim.Adam(self.dqn.parameters())\n",
        "\n",
        "        # transition to store in memory\n",
        "        self.transition = list()\n",
        "        \n",
        "        # mode: train / test\n",
        "        self.is_test = False\n",
        "\n",
        "    def select_action(self, state: np.ndarray) -> np.ndarray:\n",
        "        \"\"\"Select an action from the input state.\"\"\"\n",
        "        # epsilon greedy policy\n",
        "        if self.epsilon > np.random.random():\n",
        "            selected_action = self.env.action_space.sample()\n",
        "        else:\n",
        "            selected_action = self.dqn(\n",
        "                torch.FloatTensor(state).to(self.device)\n",
        "            ).argmax()\n",
        "            selected_action = selected_action.detach().cpu().numpy()\n",
        "        \n",
        "        if not self.is_test:\n",
        "            self.transition = [state, selected_action]\n",
        "        \n",
        "        return selected_action\n",
        "\n",
        "    def step(self, action: np.ndarray) -> Tuple[np.ndarray, np.float64, bool]:\n",
        "        \"\"\"Take an action and return the response of the env.\"\"\"\n",
        "        next_state, reward, done, _ = self.env.step(action)\n",
        "\n",
        "        if not self.is_test:\n",
        "            self.transition += [reward, next_state, done]\n",
        "            \n",
        "            # N-step transition\n",
        "            if self.use_n_step:\n",
        "                one_step_transition = self.memory_n.store(*self.transition)\n",
        "            # 1-step transition\n",
        "            else:\n",
        "                one_step_transition = self.transition\n",
        "\n",
        "            # add a single step transition\n",
        "            if one_step_transition:\n",
        "                self.memory.store(*one_step_transition)\n",
        "    \n",
        "        return next_state, reward, done\n",
        "\n",
        "    def update_model(self) -> torch.Tensor:\n",
        "        \"\"\"Update the model by gradient descent.\"\"\"\n",
        "        samples = self.memory.sample_batch()\n",
        "        indices = samples[\"indices\"]\n",
        "        loss = self._compute_dqn_loss(samples, self.gamma)\n",
        "        \n",
        "        # N-step Learning loss\n",
        "        # we are gonna combine 1-step loss and n-step loss so as to\n",
        "        # prevent high-variance.\n",
        "        if self.use_n_step:\n",
        "            samples = self.memory_n.sample_batch_from_idxs(indices)\n",
        "            gamma = self.gamma ** self.n_step\n",
        "            n_loss = self._compute_dqn_loss(samples, gamma)\n",
        "            loss += n_loss\n",
        "\n",
        "        self.optimizer.zero_grad()\n",
        "        loss.backward()\n",
        "        self.optimizer.step()\n",
        "\n",
        "        return loss.item()\n",
        "        \n",
        "    def train(self, num_frames: int, plotting_interval: int = 200):\n",
        "        \"\"\"Train the agent.\"\"\"\n",
        "        self.is_test = False\n",
        "        \n",
        "        state = self.env.reset()\n",
        "        update_cnt = 0\n",
        "        epsilons = []\n",
        "        losses = []\n",
        "        scores = []\n",
        "        score = 0\n",
        "\n",
        "        for frame_idx in range(1, num_frames + 1):\n",
        "            action = self.select_action(state)\n",
        "            next_state, reward, done = self.step(action)\n",
        "\n",
        "            state = next_state\n",
        "            score += reward\n",
        "\n",
        "            # if episode ends\n",
        "            if done:\n",
        "                state = self.env.reset()\n",
        "                scores.append(score)\n",
        "                score = 0\n",
        "\n",
        "            # if training is ready\n",
        "            if len(self.memory) >= self.batch_size:\n",
        "                loss = self.update_model()\n",
        "                losses.append(loss)\n",
        "                update_cnt += 1\n",
        "                \n",
        "                # linearly decrease epsilon\n",
        "                self.epsilon = max(\n",
        "                    self.min_epsilon, self.epsilon - (\n",
        "                        self.max_epsilon - self.min_epsilon\n",
        "                    ) * self.epsilon_decay\n",
        "                )\n",
        "                epsilons.append(self.epsilon)\n",
        "                \n",
        "                # if hard update is needed\n",
        "                if update_cnt % self.target_update == 0:\n",
        "                    self._target_hard_update()\n",
        "\n",
        "            # plotting\n",
        "            if frame_idx % plotting_interval == 0:\n",
        "                self._plot(frame_idx, scores, losses, epsilons)\n",
        "                \n",
        "        self.env.close()\n",
        "                \n",
        "    def test(self) -> List[np.ndarray]:\n",
        "        \"\"\"Test the agent.\"\"\"\n",
        "        self.is_test = True\n",
        "        \n",
        "        state = self.env.reset()\n",
        "        done = False\n",
        "        score = 0\n",
        "        \n",
        "        frames = []\n",
        "        while not done:\n",
        "            frames.append(self.env.render(mode=\"rgb_array\"))\n",
        "            action = self.select_action(state)\n",
        "            next_state, reward, done = self.step(action)\n",
        "\n",
        "            state = next_state\n",
        "            score += reward\n",
        "        \n",
        "        print(\"score: \", score)\n",
        "        self.env.close()\n",
        "        \n",
        "        return frames\n",
        "    \n",
        "    def _compute_dqn_loss(\n",
        "        self, \n",
        "        samples: Dict[str, np.ndarray], \n",
        "        gamma: float\n",
        "    ) -> torch.Tensor:\n",
        "        \"\"\"Return dqn loss.\"\"\"\n",
        "        device = self.device  # for shortening the following lines\n",
        "        state = torch.FloatTensor(samples[\"obs\"]).to(device)\n",
        "        next_state = torch.FloatTensor(samples[\"next_obs\"]).to(device)\n",
        "        action = torch.LongTensor(samples[\"acts\"].reshape(-1, 1)).to(device)\n",
        "        reward = torch.FloatTensor(samples[\"rews\"].reshape(-1, 1)).to(device)\n",
        "        done = torch.FloatTensor(samples[\"done\"].reshape(-1, 1)).to(device)\n",
        "\n",
        "        # G_t   = r + gamma * v(s_{t+1})  if state != Terminal\n",
        "        #       = r                       otherwise\n",
        "        curr_q_value = self.dqn(state).gather(1, action)\n",
        "        next_q_value = self.dqn_target(next_state).max(\n",
        "            dim=1, keepdim=True\n",
        "        )[0].detach()\n",
        "        mask = 1 - done\n",
        "        target = (reward + gamma * next_q_value * mask).to(self.device)\n",
        "\n",
        "        # calculate dqn loss\n",
        "        loss = F.smooth_l1_loss(curr_q_value, target)\n",
        "\n",
        "        return loss\n",
        "\n",
        "    def _target_hard_update(self):\n",
        "        \"\"\"Hard update: target <- local.\"\"\"\n",
        "        self.dqn_target.load_state_dict(self.dqn.state_dict())\n",
        "                \n",
        "    def _plot(\n",
        "        self, \n",
        "        frame_idx: int, \n",
        "        scores: List[float], \n",
        "        losses: List[float], \n",
        "        epsilons: List[float],\n",
        "    ):\n",
        "        \"\"\"Plot the training progresses.\"\"\"\n",
        "        clear_output(True)\n",
        "        plt.figure(figsize=(20, 5))\n",
        "        plt.subplot(131)\n",
        "        plt.title('frame %s. score: %s' % (frame_idx, np.mean(scores[-10:])))\n",
        "        plt.plot(scores)\n",
        "        plt.subplot(132)\n",
        "        plt.title('loss')\n",
        "        plt.plot(losses)\n",
        "        plt.subplot(133)\n",
        "        plt.title('epsilons')\n",
        "        plt.plot(epsilons)\n",
        "        plt.show()"
      ],
      "execution_count": 7,
      "outputs": []
    },
    {
      "cell_type": "markdown",
      "metadata": {
        "id": "SIvtTcFDeWMF"
      },
      "source": [
        "## Environment\n",
        "\n",
        "You can see the [code](https://github.com/openai/gym/blob/master/gym/envs/classic_control/cartpole.py) and [configurations](https://github.com/openai/gym/blob/master/gym/envs/__init__.py#L53) of CartPole-v0 from OpenAI's repository."
      ]
    },
    {
      "cell_type": "code",
      "metadata": {
        "id": "V1Ucfd-xeWMH"
      },
      "source": [
        "# environment\n",
        "env_id = \"CartPole-v0\"\n",
        "env = gym.make(env_id)\n",
        "if IN_COLAB:\n",
        "    env = gym.wrappers.Monitor(env, \"videos\", force=True)"
      ],
      "execution_count": 8,
      "outputs": []
    },
    {
      "cell_type": "markdown",
      "metadata": {
        "id": "VrWb3lm5eWMH"
      },
      "source": [
        "## Set random seed"
      ]
    },
    {
      "cell_type": "code",
      "metadata": {
        "id": "Cmu3LRaOeWMH",
        "colab": {
          "base_uri": "https://localhost:8080/"
        },
        "outputId": "0a878c3f-12a4-45de-eb7d-fe365230eb9f"
      },
      "source": [
        "seed = 777\n",
        "\n",
        "def seed_torch(seed):\n",
        "    torch.manual_seed(seed)\n",
        "    if torch.backends.cudnn.enabled:\n",
        "        torch.backends.cudnn.benchmark = False\n",
        "        torch.backends.cudnn.deterministic = True\n",
        "\n",
        "np.random.seed(seed)\n",
        "seed_torch(seed)\n",
        "env.seed(seed)"
      ],
      "execution_count": 9,
      "outputs": [
        {
          "output_type": "execute_result",
          "data": {
            "text/plain": [
              "[777]"
            ]
          },
          "metadata": {},
          "execution_count": 9
        }
      ]
    },
    {
      "cell_type": "markdown",
      "metadata": {
        "id": "5oeY77JLeWMI"
      },
      "source": [
        "## Initialize"
      ]
    },
    {
      "cell_type": "code",
      "metadata": {
        "id": "ogycoTuReWMI",
        "colab": {
          "base_uri": "https://localhost:8080/"
        },
        "outputId": "d0dedd44-c12c-4d6b-e469-34522313e50c"
      },
      "source": [
        "# parameters\n",
        "num_frames = 20000\n",
        "memory_size = 2000\n",
        "batch_size = 32\n",
        "target_update = 100\n",
        "epsilon_decay = 1 / 2000\n",
        "\n",
        "# train\n",
        "agent = DQNAgent(env, memory_size, batch_size, target_update, epsilon_decay)"
      ],
      "execution_count": 10,
      "outputs": [
        {
          "output_type": "stream",
          "name": "stdout",
          "text": [
            "cuda\n"
          ]
        }
      ]
    },
    {
      "cell_type": "markdown",
      "metadata": {
        "id": "YLXAfNufeWMJ"
      },
      "source": [
        "## Train"
      ]
    },
    {
      "cell_type": "code",
      "metadata": {
        "id": "97Z7cH2teWMJ",
        "colab": {
          "base_uri": "https://localhost:8080/",
          "height": 336
        },
        "outputId": "8d00dfc7-832f-46ee-a69f-5ef39f197d3f"
      },
      "source": [
        "agent.train(num_frames)"
      ],
      "execution_count": 11,
      "outputs": [
        {
          "output_type": "display_data",
          "data": {
            "image/png": "[encoded data removed]",
            "text/plain": [
              "<Figure size 1440x360 with 3 Axes>"
            ]
          },
          "metadata": {
            "needs_background": "light"
          }
        }
      ]
    },
    {
      "cell_type": "markdown",
      "metadata": {
        "id": "G6r_RlGqeWMJ"
      },
      "source": [
        "## Test\n",
        "\n",
        "Run the trained agent (1 episode)."
      ]
    },
    {
      "cell_type": "code",
      "metadata": {
        "id": "BtXRN-0AeWMK",
        "colab": {
          "base_uri": "https://localhost:8080/"
        },
        "outputId": "44929295-15f2-43b2-d1e0-ac7b6266c200"
      },
      "source": [
        "frames = agent.test()"
      ],
      "execution_count": 12,
      "outputs": [
        {
          "output_type": "stream",
          "name": "stdout",
          "text": [
            "score:  200.0\n"
          ]
        }
      ]
    },
    {
      "cell_type": "markdown",
      "metadata": {
        "id": "Rc47H_68eWMK"
      },
      "source": [
        "## Render"
      ]
    },
    {
      "cell_type": "code",
      "metadata": {
        "id": "sKN3KwxDeWMK",
        "colab": {
          "base_uri": "https://localhost:8080/",
          "height": 438
        },
        "outputId": "9d1a3a95-79da-46d0-c115-523004457332"
      },
      "source": [
        "if IN_COLAB:  # for colab\n",
        "    import base64\n",
        "    import glob\n",
        "    import io\n",
        "    import os\n",
        "\n",
        "    from IPython.display import HTML, display\n",
        "\n",
        "\n",
        "    def ipython_show_video(path: str) -> None:\n",
        "        \"\"\"Show a video at `path` within IPython Notebook.\"\"\"\n",
        "        if not os.path.isfile(path):\n",
        "            raise NameError(\"Cannot access: {}\".format(path))\n",
        "\n",
        "        video = io.open(path, \"r+b\").read()\n",
        "        encoded = base64.b64encode(video)\n",
        "\n",
        "        display(HTML(\n",
        "            data=\"\"\"\n",
        "            <video alt=\"test\" controls>\n",
        "            <source src=\"data:video/mp4;base64,{0}\" type=\"video/mp4\"/>\n",
        "            </video>\n",
        "            \"\"\".format(encoded.decode(\"ascii\"))\n",
        "        ))\n",
        "\n",
        "    list_of_files = glob.glob(\"videos/*.mp4\")\n",
        "    latest_file = max(list_of_files, key=os.path.getctime)\n",
        "    print(latest_file)\n",
        "    ipython_show_video(latest_file)\n",
        "    \n",
        "else:  # for jupyter\n",
        "    from matplotlib import animation\n",
        "    from JSAnimation.IPython_display import display_animation\n",
        "    from IPython.display import display\n",
        "\n",
        "\n",
        "    def display_frames_as_gif(frames: List[np.ndarray]) -> None:\n",
        "        \"\"\"Displays a list of frames as a gif, with controls.\"\"\"\n",
        "        patch = plt.imshow(frames[0])\n",
        "        plt.axis('off')\n",
        "\n",
        "        def animate(i):\n",
        "            patch.set_data(frames[i])\n",
        "\n",
        "        anim = animation.FuncAnimation(\n",
        "            plt.gcf(), animate, frames = len(frames), interval=50\n",
        "        )\n",
        "        display(display_animation(anim, default_mode='loop'))\n",
        "\n",
        "\n",
        "    # display \n",
        "    display_frames_as_gif(frames)"
      ],
      "execution_count": 13,
      "outputs": [
        {
          "output_type": "stream",
          "name": "stdout",
          "text": [
            "videos/openaigym.video.0.81.video000125.mp4\n"
          ]
        },
        {
          "output_type": "display_data",
          "data": {
            "text/html": [
              "\n",
              "            <video alt=\"test\" controls>\n",
              "            <source src=\"data:video/mp4;base64,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\" type=\"video/mp4\"/>\n",
              "            </video>\n",
              "            "
            ],
            "text/plain": [
              "<IPython.core.display.HTML object>"
            ]
          },
          "metadata": {}
        }
      ]
    }
  ]
}