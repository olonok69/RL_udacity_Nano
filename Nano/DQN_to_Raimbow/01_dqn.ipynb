{
  "nbformat": 4,
  "nbformat_minor": 0,
  "metadata": {
    "kernelspec": {
      "display_name": "Python 3",
      "language": "python",
      "name": "python3"
    },
    "language_info": {
      "codemirror_mode": {
        "name": "ipython",
        "version": 3
      },
      "file_extension": ".py",
      "mimetype": "text/x-python",
      "name": "python",
      "nbconvert_exporter": "python",
      "pygments_lexer": "ipython3",
      "version": "3.7.9"
    },
    "colab": {
      "name": "01.dqn.ipynb",
      "provenance": []
    },
    "accelerator": "GPU"
  },
  "cells": [
    {
      "cell_type": "markdown",
      "metadata": {
        "id": "vwQyz0Ikwo4i"
      },
      "source": [
        "## Configurations for Colab"
      ]
    },
    {
      "cell_type": "code",
      "metadata": {
        "id": "QTv8jGtuwo4l",
        "colab": {
          "base_uri": "https://localhost:8080/"
        },
        "outputId": "69828052-a1a4-48ed-81a8-663f4513f917"
      },
      "source": [
        "import sys\n",
        "IN_COLAB = \"google.colab\" in sys.modules\n",
        "\n",
        "if IN_COLAB:\n",
        "    !apt install python-opengl\n",
        "    !apt install ffmpeg\n",
        "    !apt install xvfb\n",
        "    !pip install pyvirtualdisplay\n",
        "    !pip install gym\n",
        "    from pyvirtualdisplay import Display\n",
        "    \n",
        "    # Start virtual display\n",
        "    dis = Display(visible=0, size=(400, 400))\n",
        "    dis.start()"
      ],
      "execution_count": 1,
      "outputs": [
        {
          "output_type": "stream",
          "name": "stdout",
          "text": [
            "Reading package lists... Done\n",
            "Building dependency tree       \n",
            "Reading state information... Done\n",
            "Suggested packages:\n",
            "  libgle3\n",
            "The following NEW packages will be installed:\n",
            "  python-opengl\n",
            "0 upgraded, 1 newly installed, 0 to remove and 37 not upgraded.\n",
            "Need to get 496 kB of archives.\n",
            "After this operation, 5,416 kB of additional disk space will be used.\n",
            "Get:1 http://archive.ubuntu.com/ubuntu bionic/universe amd64 python-opengl all 3.1.0+dfsg-1 [496 kB]\n",
            "Fetched 496 kB in 2s (258 kB/s)\n",
            "Selecting previously unselected package python-opengl.\n",
            "(Reading database ... 155219 files and directories currently installed.)\n",
            "Preparing to unpack .../python-opengl_3.1.0+dfsg-1_all.deb ...\n",
            "Unpacking python-opengl (3.1.0+dfsg-1) ...\n",
            "Setting up python-opengl (3.1.0+dfsg-1) ...\n",
            "Reading package lists... Done\n",
            "Building dependency tree       \n",
            "Reading state information... Done\n",
            "ffmpeg is already the newest version (7:3.4.8-0ubuntu0.2).\n",
            "0 upgraded, 0 newly installed, 0 to remove and 37 not upgraded.\n",
            "Reading package lists... Done\n",
            "Building dependency tree       \n",
            "Reading state information... Done\n",
            "The following NEW packages will be installed:\n",
            "  xvfb\n",
            "0 upgraded, 1 newly installed, 0 to remove and 37 not upgraded.\n",
            "Need to get 784 kB of archives.\n",
            "After this operation, 2,270 kB of additional disk space will be used.\n",
            "Get:1 http://archive.ubuntu.com/ubuntu bionic-updates/universe amd64 xvfb amd64 2:1.19.6-1ubuntu4.9 [784 kB]\n",
            "Fetched 784 kB in 2s (392 kB/s)\n",
            "Selecting previously unselected package xvfb.\n",
            "(Reading database ... 157574 files and directories currently installed.)\n",
            "Preparing to unpack .../xvfb_2%3a1.19.6-1ubuntu4.9_amd64.deb ...\n",
            "Unpacking xvfb (2:1.19.6-1ubuntu4.9) ...\n",
            "Setting up xvfb (2:1.19.6-1ubuntu4.9) ...\n",
            "Processing triggers for man-db (2.8.3-2ubuntu0.1) ...\n",
            "Collecting pyvirtualdisplay\n",
            "  Downloading PyVirtualDisplay-2.2-py3-none-any.whl (15 kB)\n",
            "Collecting EasyProcess\n",
            "  Downloading EasyProcess-0.3-py2.py3-none-any.whl (7.9 kB)\n",
            "Installing collected packages: EasyProcess, pyvirtualdisplay\n",
            "Successfully installed EasyProcess-0.3 pyvirtualdisplay-2.2\n",
            "Requirement already satisfied: gym in /usr/local/lib/python3.7/dist-packages (0.17.3)\n",
            "Requirement already satisfied: pyglet<=1.5.0,>=1.4.0 in /usr/local/lib/python3.7/dist-packages (from gym) (1.5.0)\n",
            "Requirement already satisfied: cloudpickle<1.7.0,>=1.2.0 in /usr/local/lib/python3.7/dist-packages (from gym) (1.3.0)\n",
            "Requirement already satisfied: numpy>=1.10.4 in /usr/local/lib/python3.7/dist-packages (from gym) (1.19.5)\n",
            "Requirement already satisfied: scipy in /usr/local/lib/python3.7/dist-packages (from gym) (1.4.1)\n",
            "Requirement already satisfied: future in /usr/local/lib/python3.7/dist-packages (from pyglet<=1.5.0,>=1.4.0->gym) (0.16.0)\n"
          ]
        }
      ]
    },
    {
      "cell_type": "code",
      "metadata": {
        "colab": {
          "base_uri": "https://localhost:8080/"
        },
        "id": "Uf_KmR4Mw8Ca",
        "outputId": "211a9d36-7210-4f6b-ad6c-e0b986bc3b4e"
      },
      "source": [
        "from google.colab import drive\n",
        "drive.mount('/content/drive')"
      ],
      "execution_count": 2,
      "outputs": [
        {
          "output_type": "stream",
          "name": "stdout",
          "text": [
            "Mounted at /content/drive\n"
          ]
        }
      ]
    },
    {
      "cell_type": "markdown",
      "metadata": {
        "id": "PHY7jFpBwo4n"
      },
      "source": [
        "# 01. DQN\n",
        "\n",
        "[V. Mnih et al., \"Human-level control through deep reinforcement learning.\" Nature, 518\n",
        "(7540):529–533, 2015.](https://storage.googleapis.com/deepmind-media/dqn/DQNNaturePaper.pdf)\n",
        "\n",
        "Reinforcement learning is known to be unstable or even to diverge when a nonlinear function approximator such as a neural network is used to represent the action-value (also known as $Q$) function. This instability has several causes: the correlations present in the sequence of observations, the fact that small updates to $Q$ may significantly change the policy and therefore change the data distribution, and the correlations between the action-values ($Q$) and the target values $r + \\gamma \\max_{a'} Q(s', a')$.\n",
        "\n",
        "The authors suggest two key ideas to address these instabilities with a novel variant of Q-learning: Replay buffer and Fixed Q-target.\n",
        "\n",
        "#### Uniformly random sampling from Experience Replay Memory\n",
        "\n",
        "Reinforcement learning agent stores the experiences consecutively in the buffer, so adjacent ($s, a, r, s'$) transitions stored are highly likely to have correlation. To remove this, the agent samples experiences uniformly at random from the pool of stored samples $\\big( (s, a, r, s') \\sim U(D) \\big)$. See sample_batch method of ReplayBuffer class for more details.\n",
        "\n",
        "#### Fixed Q-target\n",
        "\n",
        "DQN uses an iterative update that adjusts the action-values ($Q$) towards target values that are only periodically updated, thereby reducing correlations with the target; if not, it is easily divergy because the target continuously moves. The Q-learning update at iteration $i$ uses the following loss function:\n",
        "\n",
        "$$\n",
        "L_i(\\theta_i) = \\mathbb{E}_{(s,a,r,s') \\sim U(D)} \\big[ \\big( r + \\gamma \\max_{a'} Q(s',a';\\theta_i^-) - Q(s, a; \\theta_i) \\big)^2 \\big]\n",
        "$$\n",
        "\n",
        "in which $\\gamma$ is the discount factor determining the agent’s horizon, $\\theta_i$ are the parameters of the Q-network at iteration $i$ and $\\theta_i^-$ are the network parameters used to compute the target at iteration $i$. The target network parameters $\\theta_i^-$ are only updated with the Q-network parameters ($\\theta_i$) every C steps and are held fixed between individual updates. ($C = 200$ in CartPole-v0)\n",
        "\n",
        "#### For more stability: Gradient clipping\n",
        "\n",
        "The authors also found it helpful to clip the error term from the update $r + \\gamma \\max_{a'} Q(s', a'; \\theta_i^-) - Q(s,a,;\\theta_i)$ to be between -1 and 1. Because the absolute value loss function $|x|$ has a derivative of -1 for all negative values of x and a derivative of 1 for all positive values of x, clipping the squared error to be between -1 and 1 corresponds to using an absolute value loss function for errors outside of the (-1,1) interval. This form of error clipping further improved the stability of the algorithm."
      ]
    },
    {
      "cell_type": "code",
      "metadata": {
        "id": "zHKA8qEnwo4o"
      },
      "source": [
        "import os\n",
        "from typing import Dict, List, Tuple\n",
        "\n",
        "import gym\n",
        "import matplotlib.pyplot as plt\n",
        "import numpy as np\n",
        "import torch\n",
        "import torch.nn as nn\n",
        "import torch.nn.functional as F\n",
        "import torch.optim as optim\n",
        "from IPython.display import clear_output"
      ],
      "execution_count": 4,
      "outputs": []
    },
    {
      "cell_type": "markdown",
      "metadata": {
        "id": "LhaPXGqOwo4o"
      },
      "source": [
        "## Replay buffer\n",
        "\n",
        "Typically, people implement replay buffers with one of the following three data structures:\n",
        "\n",
        "  - collections.deque\n",
        "  - list\n",
        "  - numpy.ndarray\n",
        "  \n",
        "**deque** is very easy to handle once you initialize its maximum length (e.g. deque(maxlen=buffer_size)). However, the indexing operation of deque gets terribly slow as it grows up because it is [internally doubly linked list](https://wiki.python.org/moin/TimeComplexity#collections.deque). On the other hands, **list** is an array, so it is relatively faster than deque when you sample batches at every step. Its amortized cost of  *Get item* is [O(1)](https://wiki.python.org/moin/TimeComplexity#list).\n",
        "\n",
        "Last but not least, let's see **numpy.ndarray**. numpy.ndarray is even faster than list due to the fact that it is [a homogeneous array of fixed-size items](https://docs.scipy.org/doc/numpy/reference/generated/numpy.ndarray.html#numpy.ndarray), so you can get the benefits of [locality of reference](https://en.wikipedia.org/wiki/Locality_of_reference). Whereas list is an array of pointers to objects, even when all of them are of the same type.\n",
        "\n",
        "Here, we are going to implement a replay buffer using numpy.ndarray.\n",
        "\n",
        "\n",
        "Reference: [OpenAI spinning-up](https://github.com/openai/spinningup/blob/master/spinup/algos/sac/sac.py#L10)"
      ]
    },
    {
      "cell_type": "code",
      "metadata": {
        "id": "VGBLVxCawo4p"
      },
      "source": [
        "class ReplayBuffer:\n",
        "    \"\"\"A simple numpy replay buffer.\"\"\"\n",
        "\n",
        "    def __init__(self, obs_dim: int, size: int, batch_size: int = 32):\n",
        "        self.obs_buf = np.zeros([size, obs_dim], dtype=np.float32)\n",
        "        self.next_obs_buf = np.zeros([size, obs_dim], dtype=np.float32)\n",
        "        self.acts_buf = np.zeros([size], dtype=np.float32)\n",
        "        self.rews_buf = np.zeros([size], dtype=np.float32)\n",
        "        self.done_buf = np.zeros(size, dtype=np.float32)\n",
        "        self.max_size, self.batch_size = size, batch_size\n",
        "        self.ptr, self.size, = 0, 0\n",
        "\n",
        "    def store(\n",
        "        self,\n",
        "        obs: np.ndarray,\n",
        "        act: np.ndarray, \n",
        "        rew: float, \n",
        "        next_obs: np.ndarray, \n",
        "        done: bool,\n",
        "    ):\n",
        "        self.obs_buf[self.ptr] = obs\n",
        "        self.next_obs_buf[self.ptr] = next_obs\n",
        "        self.acts_buf[self.ptr] = act\n",
        "        self.rews_buf[self.ptr] = rew\n",
        "        self.done_buf[self.ptr] = done\n",
        "        self.ptr = (self.ptr + 1) % self.max_size\n",
        "        self.size = min(self.size + 1, self.max_size)\n",
        "\n",
        "    def sample_batch(self) -> Dict[str, np.ndarray]:\n",
        "        idxs = np.random.choice(self.size, size=self.batch_size, replace=False)\n",
        "        return dict(obs=self.obs_buf[idxs],\n",
        "                    next_obs=self.next_obs_buf[idxs],\n",
        "                    acts=self.acts_buf[idxs],\n",
        "                    rews=self.rews_buf[idxs],\n",
        "                    done=self.done_buf[idxs])\n",
        "\n",
        "    def __len__(self) -> int:\n",
        "        return self.size"
      ],
      "execution_count": 5,
      "outputs": []
    },
    {
      "cell_type": "markdown",
      "metadata": {
        "id": "vyvy90YHwo4p"
      },
      "source": [
        "## Network\n",
        "\n",
        "We are going to use a simple network architecture with three fully connected layers and two non-linearity functions (ReLU)."
      ]
    },
    {
      "cell_type": "code",
      "metadata": {
        "id": "QW-O5xnzwo4q"
      },
      "source": [
        "class Network(nn.Module):\n",
        "    def __init__(self, in_dim: int, out_dim: int):\n",
        "        \"\"\"Initialization.\"\"\"\n",
        "        super(Network, self).__init__()\n",
        "\n",
        "        self.layers = nn.Sequential(\n",
        "            nn.Linear(in_dim, 128), \n",
        "            nn.ReLU(),\n",
        "            nn.Linear(128, 128), \n",
        "            nn.ReLU(), \n",
        "            nn.Linear(128, out_dim)\n",
        "        )\n",
        "\n",
        "    def forward(self, x: torch.Tensor) -> torch.Tensor:\n",
        "        \"\"\"Forward method implementation.\"\"\"\n",
        "        return self.layers(x)"
      ],
      "execution_count": 6,
      "outputs": []
    },
    {
      "cell_type": "markdown",
      "metadata": {
        "id": "MWTm7MeMwo4q"
      },
      "source": [
        "## DQN Agent\n",
        "\n",
        "Here is a summary of DQNAgent class.\n",
        "\n",
        "| Method           | Note                                                 |\n",
        "| ---              | ---                                                  |\n",
        "|select_action     | select an action from the input state.               |\n",
        "|step              | take an action and return the response of the env.   |\n",
        "|compute_dqn_loss  | return dqn loss.                                     |\n",
        "|update_model      | update the model by gradient descent.                |\n",
        "|target_hard_update| hard update from the local model to the target model.|\n",
        "|train             | train the agent during num_frames.                   |\n",
        "|test              | test the agent (1 episode).                          |\n",
        "|plot              | plot the training progresses.                        |\n"
      ]
    },
    {
      "cell_type": "code",
      "metadata": {
        "id": "ZZDcyT0cwo4r"
      },
      "source": [
        "class DQNAgent:\n",
        "    \"\"\"DQN Agent interacting with environment.\n",
        "    \n",
        "    Attribute:\n",
        "        env (gym.Env): openAI Gym environment\n",
        "        memory (ReplayBuffer): replay memory to store transitions\n",
        "        batch_size (int): batch size for sampling\n",
        "        epsilon (float): parameter for epsilon greedy policy\n",
        "        epsilon_decay (float): step size to decrease epsilon\n",
        "        max_epsilon (float): max value of epsilon\n",
        "        min_epsilon (float): min value of epsilon\n",
        "        target_update (int): period for target model's hard update\n",
        "        gamma (float): discount factor\n",
        "        dqn (Network): model to train and select actions\n",
        "        dqn_target (Network): target model to update\n",
        "        optimizer (torch.optim): optimizer for training dqn\n",
        "        transition (list): transition information including \n",
        "                           state, action, reward, next_state, done\n",
        "    \"\"\"\n",
        "\n",
        "    def __init__(\n",
        "        self, \n",
        "        env: gym.Env,\n",
        "        memory_size: int,\n",
        "        batch_size: int,\n",
        "        target_update: int,\n",
        "        epsilon_decay: float,\n",
        "        max_epsilon: float = 1.0,\n",
        "        min_epsilon: float = 0.1,\n",
        "        gamma: float = 0.99,\n",
        "    ):\n",
        "        \"\"\"Initialization.\n",
        "        \n",
        "        Args:\n",
        "            env (gym.Env): openAI Gym environment\n",
        "            memory_size (int): length of memory\n",
        "            batch_size (int): batch size for sampling\n",
        "            target_update (int): period for target model's hard update\n",
        "            epsilon_decay (float): step size to decrease epsilon\n",
        "            lr (float): learning rate\n",
        "            max_epsilon (float): max value of epsilon\n",
        "            min_epsilon (float): min value of epsilon\n",
        "            gamma (float): discount factor\n",
        "        \"\"\"\n",
        "        obs_dim = env.observation_space.shape[0]\n",
        "        action_dim = env.action_space.n\n",
        "        \n",
        "        self.env = env\n",
        "        self.memory = ReplayBuffer(obs_dim, memory_size, batch_size)\n",
        "        self.batch_size = batch_size\n",
        "        self.epsilon = max_epsilon\n",
        "        self.epsilon_decay = epsilon_decay\n",
        "        self.max_epsilon = max_epsilon\n",
        "        self.min_epsilon = min_epsilon\n",
        "        self.target_update = target_update\n",
        "        self.gamma = gamma\n",
        "        \n",
        "        # device: cpu / gpu\n",
        "        self.device = torch.device(\n",
        "            \"cuda\" if torch.cuda.is_available() else \"cpu\"\n",
        "        )\n",
        "        print(self.device)\n",
        "\n",
        "        # networks: dqn, dqn_target\n",
        "        self.dqn = Network(obs_dim, action_dim).to(self.device)\n",
        "        self.dqn_target = Network(obs_dim, action_dim).to(self.device)\n",
        "        self.dqn_target.load_state_dict(self.dqn.state_dict())\n",
        "        self.dqn_target.eval()\n",
        "        \n",
        "        # optimizer\n",
        "        self.optimizer = optim.Adam(self.dqn.parameters())\n",
        "\n",
        "        # transition to store in memory\n",
        "        self.transition = list()\n",
        "        \n",
        "        # mode: train / test\n",
        "        self.is_test = False\n",
        "\n",
        "    def select_action(self, state: np.ndarray) -> np.ndarray:\n",
        "        \"\"\"Select an action from the input state.\"\"\"\n",
        "        # epsilon greedy policy\n",
        "        if self.epsilon > np.random.random():\n",
        "            selected_action = self.env.action_space.sample()\n",
        "        else:\n",
        "            selected_action = self.dqn(\n",
        "                torch.FloatTensor(state).to(self.device)\n",
        "            ).argmax()\n",
        "            selected_action = selected_action.detach().cpu().numpy()\n",
        "        \n",
        "        if not self.is_test:\n",
        "            self.transition = [state, selected_action]\n",
        "        \n",
        "        return selected_action\n",
        "\n",
        "    def step(self, action: np.ndarray) -> Tuple[np.ndarray, np.float64, bool]:\n",
        "        \"\"\"Take an action and return the response of the env.\"\"\"\n",
        "        next_state, reward, done, _ = self.env.step(action)\n",
        "\n",
        "        if not self.is_test:\n",
        "            self.transition += [reward, next_state, done]\n",
        "            self.memory.store(*self.transition)\n",
        "    \n",
        "        return next_state, reward, done\n",
        "\n",
        "    def update_model(self) -> torch.Tensor:\n",
        "        \"\"\"Update the model by gradient descent.\"\"\"\n",
        "        samples = self.memory.sample_batch()\n",
        "\n",
        "        loss = self._compute_dqn_loss(samples)\n",
        "\n",
        "        self.optimizer.zero_grad()\n",
        "        loss.backward()\n",
        "        self.optimizer.step()\n",
        "\n",
        "        return loss.item()\n",
        "        \n",
        "    def train(self, num_frames: int, plotting_interval: int = 200):\n",
        "        \"\"\"Train the agent.\"\"\"\n",
        "        self.is_test = False\n",
        "        \n",
        "        state = self.env.reset()\n",
        "        update_cnt = 0\n",
        "        epsilons = []\n",
        "        losses = []\n",
        "        scores = []\n",
        "        score = 0\n",
        "\n",
        "        for frame_idx in range(1, num_frames + 1):\n",
        "            action = self.select_action(state)\n",
        "            next_state, reward, done = self.step(action)\n",
        "\n",
        "            state = next_state\n",
        "            score += reward\n",
        "\n",
        "            # if episode ends\n",
        "            if done:\n",
        "                state = self.env.reset()\n",
        "                scores.append(score)\n",
        "                score = 0\n",
        "\n",
        "            # if training is ready\n",
        "            if len(self.memory) >= self.batch_size:\n",
        "                loss = self.update_model()\n",
        "                losses.append(loss)\n",
        "                update_cnt += 1\n",
        "                \n",
        "                # linearly decrease epsilon\n",
        "                self.epsilon = max(\n",
        "                    self.min_epsilon, self.epsilon - (\n",
        "                        self.max_epsilon - self.min_epsilon\n",
        "                    ) * self.epsilon_decay\n",
        "                )\n",
        "                epsilons.append(self.epsilon)\n",
        "                \n",
        "                # if hard update is needed\n",
        "                if update_cnt % self.target_update == 0:\n",
        "                    self._target_hard_update()\n",
        "\n",
        "            # plotting\n",
        "            if frame_idx % plotting_interval == 0:\n",
        "                self._plot(frame_idx, scores, losses, epsilons)\n",
        "                \n",
        "        self.env.close()\n",
        "                \n",
        "    def test(self) -> List[np.ndarray]:\n",
        "        \"\"\"Test the agent.\"\"\"\n",
        "        self.is_test = True\n",
        "        \n",
        "        state = self.env.reset()\n",
        "        done = False\n",
        "        score = 0\n",
        "        \n",
        "        frames = []\n",
        "        while not done:\n",
        "            frames.append(self.env.render(mode=\"rgb_array\"))\n",
        "            action = self.select_action(state)\n",
        "            next_state, reward, done = self.step(action)\n",
        "\n",
        "            state = next_state\n",
        "            score += reward\n",
        "        \n",
        "        print(\"score: \", score)\n",
        "        self.env.close()\n",
        "        \n",
        "        return frames\n",
        "\n",
        "    def _compute_dqn_loss(self, samples: Dict[str, np.ndarray]) -> torch.Tensor:\n",
        "        \"\"\"Return dqn loss.\"\"\"\n",
        "        device = self.device  # for shortening the following lines\n",
        "        state = torch.FloatTensor(samples[\"obs\"]).to(device)\n",
        "        next_state = torch.FloatTensor(samples[\"next_obs\"]).to(device)\n",
        "        action = torch.LongTensor(samples[\"acts\"].reshape(-1, 1)).to(device)\n",
        "        reward = torch.FloatTensor(samples[\"rews\"].reshape(-1, 1)).to(device)\n",
        "        done = torch.FloatTensor(samples[\"done\"].reshape(-1, 1)).to(device)\n",
        "\n",
        "        # G_t   = r + gamma * v(s_{t+1})  if state != Terminal\n",
        "        #       = r                       otherwise\n",
        "        curr_q_value = self.dqn(state).gather(1, action)\n",
        "        next_q_value = self.dqn_target(\n",
        "            next_state\n",
        "        ).max(dim=1, keepdim=True)[0].detach()\n",
        "        mask = 1 - done\n",
        "        target = (reward + self.gamma * next_q_value * mask).to(self.device)\n",
        "\n",
        "        # calculate dqn loss\n",
        "        loss = F.smooth_l1_loss(curr_q_value, target)\n",
        "\n",
        "        return loss\n",
        "\n",
        "    def _target_hard_update(self):\n",
        "        \"\"\"Hard update: target <- local.\"\"\"\n",
        "        self.dqn_target.load_state_dict(self.dqn.state_dict())\n",
        "                \n",
        "    def _plot(\n",
        "        self, \n",
        "        frame_idx: int, \n",
        "        scores: List[float], \n",
        "        losses: List[float], \n",
        "        epsilons: List[float],\n",
        "    ):\n",
        "        \"\"\"Plot the training progresses.\"\"\"\n",
        "        clear_output(True)\n",
        "        plt.figure(figsize=(20, 5))\n",
        "        plt.subplot(131)\n",
        "        plt.title('frame %s. score: %s' % (frame_idx, np.mean(scores[-10:])))\n",
        "        plt.plot(scores)\n",
        "        plt.subplot(132)\n",
        "        plt.title('loss')\n",
        "        plt.plot(losses)\n",
        "        plt.subplot(133)\n",
        "        plt.title('epsilons')\n",
        "        plt.plot(epsilons)\n",
        "        plt.show()"
      ],
      "execution_count": 7,
      "outputs": []
    },
    {
      "cell_type": "markdown",
      "metadata": {
        "id": "VSIydW7Pwo4t"
      },
      "source": [
        "## Environment\n",
        "\n",
        "You can see the [code](https://github.com/openai/gym/blob/master/gym/envs/classic_control/cartpole.py) and [configurations](https://github.com/openai/gym/blob/master/gym/envs/__init__.py#L53) of CartPole-v0 from OpenAI's repository."
      ]
    },
    {
      "cell_type": "code",
      "metadata": {
        "id": "tWoB_6ucwo4u"
      },
      "source": [
        "# environment\n",
        "env_id = \"CartPole-v0\"\n",
        "env = gym.make(env_id)\n",
        "if IN_COLAB:\n",
        "    env = gym.wrappers.Monitor(env, \"videos\", force=True)"
      ],
      "execution_count": 8,
      "outputs": []
    },
    {
      "cell_type": "markdown",
      "metadata": {
        "id": "WY7WG3XWwo4v"
      },
      "source": [
        "## Set random seed"
      ]
    },
    {
      "cell_type": "code",
      "metadata": {
        "id": "N0u2A84Awo4v",
        "colab": {
          "base_uri": "https://localhost:8080/"
        },
        "outputId": "1239ef5e-ff65-42ae-c730-2a2645911f87"
      },
      "source": [
        "seed = 777\n",
        "\n",
        "def seed_torch(seed):\n",
        "    torch.manual_seed(seed)\n",
        "    if torch.backends.cudnn.enabled:\n",
        "        torch.backends.cudnn.benchmark = False\n",
        "        torch.backends.cudnn.deterministic = True\n",
        "\n",
        "np.random.seed(seed)\n",
        "seed_torch(seed)\n",
        "env.seed(seed)"
      ],
      "execution_count": 9,
      "outputs": [
        {
          "output_type": "execute_result",
          "data": {
            "text/plain": [
              "[777]"
            ]
          },
          "metadata": {},
          "execution_count": 9
        }
      ]
    },
    {
      "cell_type": "markdown",
      "metadata": {
        "id": "bitkJMfPwo4v"
      },
      "source": [
        "## Initialize"
      ]
    },
    {
      "cell_type": "code",
      "metadata": {
        "id": "Anv_s8fCwo4w",
        "colab": {
          "base_uri": "https://localhost:8080/"
        },
        "outputId": "e9a1208b-a878-44c0-fc41-ccd9542688b8"
      },
      "source": [
        "# parameters\n",
        "num_frames = 20000\n",
        "memory_size = 1000\n",
        "batch_size = 32\n",
        "target_update = 100\n",
        "epsilon_decay = 1 / 2000\n",
        "\n",
        "agent = DQNAgent(env, memory_size, batch_size, target_update, epsilon_decay)"
      ],
      "execution_count": 10,
      "outputs": [
        {
          "output_type": "stream",
          "name": "stdout",
          "text": [
            "cuda\n"
          ]
        }
      ]
    },
    {
      "cell_type": "markdown",
      "metadata": {
        "id": "FrzLXS4iwo4w"
      },
      "source": [
        "## Train"
      ]
    },
    {
      "cell_type": "code",
      "metadata": {
        "id": "1AipIAyWwo4w",
        "colab": {
          "base_uri": "https://localhost:8080/",
          "height": 336
        },
        "outputId": "d89a1464-cadc-4cc0-c93b-dd81359fbb8e"
      },
      "source": [
        "agent.train(num_frames)"
      ],
      "execution_count": 11,
      "outputs": [
        {
          "output_type": "display_data",
          "data": {
            "image/png": "[encoded data removed]",
            "text/plain": [
              "<Figure size 1440x360 with 3 Axes>"
            ]
          },
          "metadata": {
            "needs_background": "light"
          }
        }
      ]
    },
    {
      "cell_type": "markdown",
      "metadata": {
        "id": "gCzyzCSDwo4w"
      },
      "source": [
        "## Test\n",
        "\n",
        "Run the trained agent (1 episode)."
      ]
    },
    {
      "cell_type": "code",
      "metadata": {
        "id": "n8bGh00wwo4x",
        "colab": {
          "base_uri": "https://localhost:8080/"
        },
        "outputId": "d32cc892-ff67-4bab-99db-809e8e79079f"
      },
      "source": [
        "frames = agent.test()"
      ],
      "execution_count": 12,
      "outputs": [
        {
          "output_type": "stream",
          "name": "stdout",
          "text": [
            "score:  134.0\n"
          ]
        }
      ]
    },
    {
      "cell_type": "markdown",
      "metadata": {
        "id": "Lu5D2RoIwo4x"
      },
      "source": [
        "## Render"
      ]
    },
    {
      "cell_type": "code",
      "metadata": {
        "id": "DggAgIzowo4x",
        "colab": {
          "base_uri": "https://localhost:8080/",
          "height": 438
        },
        "outputId": "c8a91bcc-1a6b-450e-d164-19da9e887b9d"
      },
      "source": [
        "if IN_COLAB:  # for colab\n",
        "    import base64\n",
        "    import glob\n",
        "    import io\n",
        "    import os\n",
        "\n",
        "    from IPython.display import HTML, display\n",
        "\n",
        "\n",
        "    def ipython_show_video(path: str) -> None:\n",
        "        \"\"\"Show a video at `path` within IPython Notebook.\"\"\"\n",
        "        if not os.path.isfile(path):\n",
        "            raise NameError(\"Cannot access: {}\".format(path))\n",
        "\n",
        "        video = io.open(path, \"r+b\").read()\n",
        "        encoded = base64.b64encode(video)\n",
        "\n",
        "        display(HTML(\n",
        "            data=\"\"\"\n",
        "            <video alt=\"test\" controls>\n",
        "            <source src=\"data:video/mp4;base64,{0}\" type=\"video/mp4\"/>\n",
        "            </video>\n",
        "            \"\"\".format(encoded.decode(\"ascii\"))\n",
        "        ))\n",
        "\n",
        "    list_of_files = glob.glob(\"videos/*.mp4\")\n",
        "    latest_file = max(list_of_files, key=os.path.getctime)\n",
        "    print(latest_file)\n",
        "    ipython_show_video(latest_file)\n",
        "    \n",
        "else:  # for jupyter\n",
        "    from matplotlib import animation\n",
        "    from JSAnimation.IPython_display import display_animation\n",
        "    from IPython.display import display\n",
        "\n",
        "\n",
        "    def display_frames_as_gif(frames: List[np.ndarray]) -> None:\n",
        "        \"\"\"Displays a list of frames as a gif, with controls.\"\"\"\n",
        "        patch = plt.imshow(frames[0])\n",
        "        plt.axis('off')\n",
        "\n",
        "        def animate(i):\n",
        "            patch.set_data(frames[i])\n",
        "\n",
        "        anim = animation.FuncAnimation(\n",
        "            plt.gcf(), animate, frames = len(frames), interval=50\n",
        "        )\n",
        "        display(display_animation(anim, default_mode='loop'))\n",
        "\n",
        "\n",
        "    # display \n",
        "    display_frames_as_gif(frames)"
      ],
      "execution_count": 13,
      "outputs": [
        {
          "output_type": "stream",
          "name": "stdout",
          "text": [
            "videos/openaigym.video.0.79.video000125.mp4\n"
          ]
        },
        {
          "output_type": "display_data",
          "data": {
            "text/html": [
              "\n",
              "            <video alt=\"test\" controls>\n",
              "            <source src=\"data:video/mp4;base64,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\" type=\"video/mp4\"/>\n",
              "            </video>\n",
              "            "
            ],
            "text/plain": [
              "<IPython.core.display.HTML object>"
            ]
          },
          "metadata": {}
        }
      ]
    }
  ]
}