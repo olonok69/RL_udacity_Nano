{
  "nbformat": 4,
  "nbformat_minor": 0,
  "metadata": {
    "kernelspec": {
      "display_name": "Python 3",
      "language": "python",
      "name": "python3"
    },
    "language_info": {
      "codemirror_mode": {
        "name": "ipython",
        "version": 3
      },
      "file_extension": ".py",
      "mimetype": "text/x-python",
      "name": "python",
      "nbconvert_exporter": "python",
      "pygments_lexer": "ipython3",
      "version": "3.7.9"
    },
    "colab": {
      "name": "06.categorical_dqn.ipynb",
      "provenance": []
    },
    "accelerator": "GPU"
  },
  "cells": [
    {
      "cell_type": "markdown",
      "metadata": {
        "id": "y4CSEVIhZYWd"
      },
      "source": [
        "## Configurations for Colab"
      ]
    },
    {
      "cell_type": "code",
      "metadata": {
        "id": "HeJm3HYgZYWh",
        "colab": {
          "base_uri": "https://localhost:8080/"
        },
        "outputId": "8a92964e-54bd-47ad-86b4-c2efb9ed1e11"
      },
      "source": [
        "import sys\n",
        "IN_COLAB = \"google.colab\" in sys.modules\n",
        "\n",
        "if IN_COLAB:\n",
        "    !apt install python-opengl\n",
        "    !apt install ffmpeg\n",
        "    !apt install xvfb\n",
        "    !pip install pyvirtualdisplay\n",
        "    !pip install gym\n",
        "    from pyvirtualdisplay import Display\n",
        "    \n",
        "    # Start virtual display\n",
        "    dis = Display(visible=0, size=(400, 400))\n",
        "    dis.start()"
      ],
      "execution_count": 1,
      "outputs": [
        {
          "output_type": "stream",
          "name": "stdout",
          "text": [
            "Reading package lists... Done\n",
            "Building dependency tree       \n",
            "Reading state information... Done\n",
            "Suggested packages:\n",
            "  libgle3\n",
            "The following NEW packages will be installed:\n",
            "  python-opengl\n",
            "0 upgraded, 1 newly installed, 0 to remove and 37 not upgraded.\n",
            "Need to get 496 kB of archives.\n",
            "After this operation, 5,416 kB of additional disk space will be used.\n",
            "Get:1 http://archive.ubuntu.com/ubuntu bionic/universe amd64 python-opengl all 3.1.0+dfsg-1 [496 kB]\n",
            "Fetched 496 kB in 2s (295 kB/s)\n",
            "Selecting previously unselected package python-opengl.\n",
            "(Reading database ... 155219 files and directories currently installed.)\n",
            "Preparing to unpack .../python-opengl_3.1.0+dfsg-1_all.deb ...\n",
            "Unpacking python-opengl (3.1.0+dfsg-1) ...\n",
            "Setting up python-opengl (3.1.0+dfsg-1) ...\n",
            "Reading package lists... Done\n",
            "Building dependency tree       \n",
            "Reading state information... Done\n",
            "ffmpeg is already the newest version (7:3.4.8-0ubuntu0.2).\n",
            "0 upgraded, 0 newly installed, 0 to remove and 37 not upgraded.\n",
            "Reading package lists... Done\n",
            "Building dependency tree       \n",
            "Reading state information... Done\n",
            "The following NEW packages will be installed:\n",
            "  xvfb\n",
            "0 upgraded, 1 newly installed, 0 to remove and 37 not upgraded.\n",
            "Need to get 784 kB of archives.\n",
            "After this operation, 2,270 kB of additional disk space will be used.\n",
            "Get:1 http://archive.ubuntu.com/ubuntu bionic-updates/universe amd64 xvfb amd64 2:1.19.6-1ubuntu4.9 [784 kB]\n",
            "Fetched 784 kB in 2s (391 kB/s)\n",
            "Selecting previously unselected package xvfb.\n",
            "(Reading database ... 157574 files and directories currently installed.)\n",
            "Preparing to unpack .../xvfb_2%3a1.19.6-1ubuntu4.9_amd64.deb ...\n",
            "Unpacking xvfb (2:1.19.6-1ubuntu4.9) ...\n",
            "Setting up xvfb (2:1.19.6-1ubuntu4.9) ...\n",
            "Processing triggers for man-db (2.8.3-2ubuntu0.1) ...\n",
            "Collecting pyvirtualdisplay\n",
            "  Downloading PyVirtualDisplay-2.2-py3-none-any.whl (15 kB)\n",
            "Collecting EasyProcess\n",
            "  Downloading EasyProcess-0.3-py2.py3-none-any.whl (7.9 kB)\n",
            "Installing collected packages: EasyProcess, pyvirtualdisplay\n",
            "Successfully installed EasyProcess-0.3 pyvirtualdisplay-2.2\n",
            "Requirement already satisfied: gym in /usr/local/lib/python3.7/dist-packages (0.17.3)\n",
            "Requirement already satisfied: scipy in /usr/local/lib/python3.7/dist-packages (from gym) (1.4.1)\n",
            "Requirement already satisfied: pyglet<=1.5.0,>=1.4.0 in /usr/local/lib/python3.7/dist-packages (from gym) (1.5.0)\n",
            "Requirement already satisfied: cloudpickle<1.7.0,>=1.2.0 in /usr/local/lib/python3.7/dist-packages (from gym) (1.3.0)\n",
            "Requirement already satisfied: numpy>=1.10.4 in /usr/local/lib/python3.7/dist-packages (from gym) (1.19.5)\n",
            "Requirement already satisfied: future in /usr/local/lib/python3.7/dist-packages (from pyglet<=1.5.0,>=1.4.0->gym) (0.16.0)\n"
          ]
        }
      ]
    },
    {
      "cell_type": "markdown",
      "metadata": {
        "id": "7odKxT9KZYWi"
      },
      "source": [
        "# 06. Categorical DQN\n",
        "\n",
        "[M. G. Bellemare et al., \"A Distributional Perspective on Reinforcement Learning.\" arXiv preprint arXiv:1707.06887, 2017.](https://arxiv.org/pdf/1707.06887.pdf)\n",
        "\n",
        "The authors argued the importance of learning the distribution of returns instead of the expected return, and they proposed to model such distributions with probability masses placed on a discrete support $z$, where $z$ is a vector with $N_{atoms} \\in \\mathbb{N}^+$ atoms, defined by $z_i = V_{min} + (i-1) \\frac{V_{max} - V_{min}}{N-1}$ for $i \\in \\{1, ..., N_{atoms}\\}$.\n",
        "\n",
        "The key insight is that return distributions satisfy a variant of Bellman’s equation. For a given state $S_t$ and action $A_t$, the distribution of the returns under the optimal policy $\\pi^{*}$ should match a target distribution defined by taking the distribution for the next state $S_{t+1}$ and action $a^{*}_{t+1} = \\pi^{*}(S_{t+1})$, contracting\n",
        "it towards zero according to the discount, and shifting it by the reward (or distribution of rewards, in the stochastic case). A distributional variant of Q-learning is then derived by first constructing a new support for the target distribution, and then minimizing the Kullbeck-Leibler divergence between the distribution $d_t$ and the target distribution\n",
        "\n",
        "$$\n",
        "d_t' = (R_{t+1} + \\gamma_{t+1} z, p_\\hat{{\\theta}} (S_{t+1}, \\hat{a}^{*}_{t+1})),\\\\\n",
        "D_{KL} (\\phi_z d_t' \\| d_t).\n",
        "$$\n",
        "\n",
        "Here $\\phi_z$ is a L2-projection of the target distribution onto the fixed support $z$, and $\\hat{a}^*_{t+1} = \\arg\\max_{a} q_{\\hat{\\theta}} (S_{t+1}, a)$ is the greedy action with respect to the mean action values $q_{\\hat{\\theta}} (S_{t+1}, a) = z^{T}p_{\\theta}(S_{t+1}, a)$ in state $S_{t+1}$."
      ]
    },
    {
      "cell_type": "code",
      "metadata": {
        "id": "mOEgrbTtZYWj"
      },
      "source": [
        "import os\n",
        "from typing import Dict, List, Tuple\n",
        "\n",
        "import gym\n",
        "import matplotlib.pyplot as plt\n",
        "import numpy as np\n",
        "import torch\n",
        "import torch.nn as nn\n",
        "import torch.nn.functional as F\n",
        "import torch.optim as optim\n",
        "from IPython.display import clear_output"
      ],
      "execution_count": 3,
      "outputs": []
    },
    {
      "cell_type": "markdown",
      "metadata": {
        "id": "7Dm2ACm0ZYWk"
      },
      "source": [
        "## Replay buffer\n",
        "\n",
        "Please see *01.dqn.ipynb* for detailed description."
      ]
    },
    {
      "cell_type": "code",
      "metadata": {
        "id": "xv4C9R3wZYWk"
      },
      "source": [
        "class ReplayBuffer:\n",
        "    \"\"\"A simple numpy replay buffer.\"\"\"\n",
        "\n",
        "    def __init__(self, obs_dim: int, size: int, batch_size: int = 32):\n",
        "        self.obs_buf = np.zeros([size, obs_dim], dtype=np.float32)\n",
        "        self.next_obs_buf = np.zeros([size, obs_dim], dtype=np.float32)\n",
        "        self.acts_buf = np.zeros([size], dtype=np.float32)\n",
        "        self.rews_buf = np.zeros([size], dtype=np.float32)\n",
        "        self.done_buf = np.zeros(size, dtype=np.float32)\n",
        "        self.max_size, self.batch_size = size, batch_size\n",
        "        self.ptr, self.size, = 0, 0\n",
        "\n",
        "    def store(\n",
        "        self, \n",
        "        obs: np.ndarray, \n",
        "        act: np.ndarray, \n",
        "        rew: float, \n",
        "        next_obs: np.ndarray, \n",
        "        done: bool,\n",
        "    ):\n",
        "        self.obs_buf[self.ptr] = obs\n",
        "        self.next_obs_buf[self.ptr] = next_obs\n",
        "        self.acts_buf[self.ptr] = act\n",
        "        self.rews_buf[self.ptr] = rew\n",
        "        self.done_buf[self.ptr] = done\n",
        "        self.ptr = (self.ptr + 1) % self.max_size\n",
        "        self.size = min(self.size + 1, self.max_size)\n",
        "\n",
        "    def sample_batch(self) -> Dict[str, np.ndarray]:\n",
        "        idxs = np.random.choice(self.size, size=self.batch_size, replace=False)\n",
        "        return dict(obs=self.obs_buf[idxs],\n",
        "                    next_obs=self.next_obs_buf[idxs],\n",
        "                    acts=self.acts_buf[idxs],\n",
        "                    rews=self.rews_buf[idxs],\n",
        "                    done=self.done_buf[idxs])\n",
        "\n",
        "    def __len__(self) -> int:\n",
        "        return self.size"
      ],
      "execution_count": 4,
      "outputs": []
    },
    {
      "cell_type": "markdown",
      "metadata": {
        "id": "wHfEltF9ZYWl"
      },
      "source": [
        "## Network\n",
        "\n",
        "The parametrized distribution can be represented by a neural network, as in DQN, but with atom_size x out_dim outputs. A softmax is applied independently for each action dimension of the output to ensure that the distribution for each action is appropriately normalized.\n",
        "\n",
        "To estimate q-values, we use inner product of each action's softmax distribution and support which is the set of atoms $\\{z_i = V_{min} + i\\Delta z: 0 \\le i < N\\}, \\Delta z = \\frac{V_{max} - V_{min}}{N-1}$.\n",
        "\n",
        "$$\n",
        "Q(s_t, a_t) = \\sum_i z_i p_i(s_t, a_t), \\\\\n",
        "\\text{where } p_i \\text{ is the probability of } z_i \\text{ (the output of softmax)}.\n",
        "$$"
      ]
    },
    {
      "cell_type": "code",
      "metadata": {
        "id": "Qknp9HmBZYWm"
      },
      "source": [
        "class Network(nn.Module):\n",
        "    def __init__(\n",
        "        self, \n",
        "        in_dim: int, \n",
        "        out_dim: int, \n",
        "        atom_size: int, \n",
        "        support: torch.Tensor\n",
        "    ):\n",
        "        \"\"\"Initialization.\"\"\"\n",
        "        super(Network, self).__init__()\n",
        "\n",
        "        self.support = support\n",
        "        self.out_dim = out_dim\n",
        "        self.atom_size = atom_size\n",
        "        \n",
        "        self.layers = nn.Sequential(\n",
        "            nn.Linear(in_dim, 128), \n",
        "            nn.ReLU(),\n",
        "            nn.Linear(128, 128), \n",
        "            nn.ReLU(), \n",
        "            nn.Linear(128, out_dim * atom_size)\n",
        "        )\n",
        "\n",
        "    def forward(self, x: torch.Tensor) -> torch.Tensor:\n",
        "        \"\"\"Forward method implementation.\"\"\"\n",
        "        dist = self.dist(x)\n",
        "        q = torch.sum(dist * self.support, dim=2)\n",
        "        \n",
        "        return q\n",
        "    \n",
        "    def dist(self, x: torch.Tensor) -> torch.Tensor:\n",
        "        \"\"\"Get distribution for atoms.\"\"\"\n",
        "        q_atoms = self.layers(x).view(-1, self.out_dim, self.atom_size)\n",
        "        dist = F.softmax(q_atoms, dim=-1)\n",
        "        dist = dist.clamp(min=1e-3)  # for avoiding nans\n",
        "        \n",
        "        return dist"
      ],
      "execution_count": 5,
      "outputs": []
    },
    {
      "cell_type": "markdown",
      "metadata": {
        "id": "ZVE8GuuoZYWn"
      },
      "source": [
        "## Categorical DQN Agent\n",
        "\n",
        "\n",
        "Here is a summary of DQNAgent class.\n",
        "\n",
        "| Method           | Note                                                 |\n",
        "| ---              | ---                                                  |\n",
        "|select_action     | select an action from the input state.               |\n",
        "|step              | take an action and return the response of the env.   |\n",
        "|compute_dqn_loss  | return dqn loss.                                     |\n",
        "|update_model      | update the model by gradient descent.                |\n",
        "|target_hard_update| hard update from the local model to the target model.|\n",
        "|train             | train the agent during num_frames.                   |\n",
        "|test              | test the agent (1 episode).                          |\n",
        "|plot              | plot the training progresses.                        |\n",
        "\n",
        "All differences from pure DQN are noted with comments *Categorical DQN*."
      ]
    },
    {
      "cell_type": "code",
      "metadata": {
        "id": "8EQqJq93ZYWo"
      },
      "source": [
        "class DQNAgent:\n",
        "    \"\"\"DQN Agent interacting with environment.\n",
        "    \n",
        "    Attribute:\n",
        "        env (gym.Env): openAI Gym environment\n",
        "        memory (ReplayBuffer): replay memory to store transitions\n",
        "        batch_size (int): batch size for sampling\n",
        "        epsilon (float): parameter for epsilon greedy policy\n",
        "        epsilon_decay (float): step size to decrease epsilon\n",
        "        max_epsilon (float): max value of epsilon\n",
        "        min_epsilon (float): min value of epsilon\n",
        "        target_update (int): period for target model's hard update\n",
        "        gamma (float): discount factor\n",
        "        dqn (Network): model to train and select actions\n",
        "        dqn_target (Network): target model to update\n",
        "        optimizer (torch.optim): optimizer for training dqn\n",
        "        transition (list): transition information including\n",
        "                           state, action, reward, next_state, done\n",
        "        v_min (float): min value of support\n",
        "        v_max (float): max value of support\n",
        "        atom_size (int): the unit number of support\n",
        "        support (torch.Tensor): support for categorical dqn\n",
        "    \"\"\"\n",
        "\n",
        "    def __init__(\n",
        "        self, \n",
        "        env: gym.Env,\n",
        "        memory_size: int,\n",
        "        batch_size: int,\n",
        "        target_update: int,\n",
        "        epsilon_decay: float,\n",
        "        max_epsilon: float = 1.0,\n",
        "        min_epsilon: float = 0.1,\n",
        "        gamma: float = 0.99,\n",
        "        # Categorical DQN parameters\n",
        "        v_min: float = 0.0,\n",
        "        v_max: float = 200.0,\n",
        "        atom_size: int = 51,\n",
        "    ):\n",
        "        \"\"\"Initialization.\n",
        "        \n",
        "        Args:\n",
        "            env (gym.Env): openAI Gym environment\n",
        "            memory_size (int): length of memory\n",
        "            batch_size (int): batch size for sampling\n",
        "            target_update (int): period for target model's hard update\n",
        "            epsilon_decay (float): step size to decrease epsilon\n",
        "            lr (float): learning rate\n",
        "            max_epsilon (float): max value of epsilon\n",
        "            min_epsilon (float): min value of epsilon\n",
        "            gamma (float): discount factor\n",
        "            v_min (float): min value of support\n",
        "            v_max (float): max value of support\n",
        "            atom_size (int): the unit number of support\n",
        "        \"\"\"\n",
        "        obs_dim = env.observation_space.shape[0]\n",
        "        action_dim = env.action_space.n\n",
        "        \n",
        "        self.env = env\n",
        "        self.memory = ReplayBuffer(obs_dim, memory_size, batch_size)\n",
        "        self.batch_size = batch_size\n",
        "        self.epsilon = max_epsilon\n",
        "        self.epsilon_decay = epsilon_decay\n",
        "        self.max_epsilon = max_epsilon\n",
        "        self.min_epsilon = min_epsilon\n",
        "        self.target_update = target_update\n",
        "        self.gamma = gamma\n",
        "        \n",
        "        # device: cpu / gpu\n",
        "        self.device = torch.device(\"cuda\" if torch.cuda.is_available() else \"cpu\")\n",
        "        print(self.device)\n",
        "        \n",
        "        # Categorical DQN parameters\n",
        "        self.v_min = v_min\n",
        "        self.v_max = v_max\n",
        "        self.atom_size = atom_size\n",
        "        self.support = torch.linspace(\n",
        "            self.v_min, self.v_max, self.atom_size\n",
        "        ).to(self.device)\n",
        "\n",
        "        # networks: dqn, dqn_target\n",
        "        self.dqn = Network(\n",
        "            obs_dim, action_dim, atom_size, self.support\n",
        "        ).to(self.device)\n",
        "        self.dqn_target = Network(\n",
        "            obs_dim, action_dim, atom_size, self.support\n",
        "        ).to(self.device)\n",
        "        self.dqn_target.load_state_dict(self.dqn.state_dict())\n",
        "        self.dqn_target.eval()\n",
        "        \n",
        "        # optimizer\n",
        "        self.optimizer = optim.Adam(self.dqn.parameters())\n",
        "\n",
        "        # transition to store in memory\n",
        "        self.transition = list()\n",
        "        \n",
        "        # mode: train / test\n",
        "        self.is_test = False\n",
        "\n",
        "    def select_action(self, state: np.ndarray) -> np.ndarray:\n",
        "        \"\"\"Select an action from the input state.\"\"\"\n",
        "        # epsilon greedy policy\n",
        "        if self.epsilon > np.random.random():\n",
        "            selected_action = self.env.action_space.sample()\n",
        "        else:\n",
        "            selected_action = self.dqn(\n",
        "                torch.FloatTensor(state).to(self.device),\n",
        "            ).argmax()\n",
        "            selected_action = selected_action.detach().cpu().numpy()\n",
        "        \n",
        "        if not self.is_test:\n",
        "            self.transition = [state, selected_action]\n",
        "        \n",
        "        return selected_action\n",
        "\n",
        "    def step(self, action: np.ndarray) -> Tuple[np.ndarray, np.float64, bool]:\n",
        "        \"\"\"Take an action and return the response of the env.\"\"\"\n",
        "        next_state, reward, done, _ = self.env.step(action)\n",
        "\n",
        "        if not self.is_test:\n",
        "            self.transition += [reward, next_state, done]\n",
        "            self.memory.store(*self.transition)\n",
        "    \n",
        "        return next_state, reward, done\n",
        "\n",
        "    def update_model(self) -> torch.Tensor:\n",
        "        \"\"\"Update the model by gradient descent.\"\"\"\n",
        "        samples = self.memory.sample_batch()\n",
        "\n",
        "        loss = self._compute_dqn_loss(samples)\n",
        "\n",
        "        self.optimizer.zero_grad()\n",
        "        loss.backward()\n",
        "        self.optimizer.step()\n",
        "\n",
        "        return loss.item()\n",
        "        \n",
        "    def train(self, num_frames: int, plotting_interval: int = 200):\n",
        "        \"\"\"Train the agent.\"\"\"\n",
        "        self.is_test = False\n",
        "        \n",
        "        state = self.env.reset()\n",
        "        update_cnt = 0\n",
        "        epsilons = []\n",
        "        losses = []\n",
        "        scores = []\n",
        "        score = 0\n",
        "\n",
        "        for frame_idx in range(1, num_frames + 1):\n",
        "            action = self.select_action(state)\n",
        "            next_state, reward, done = self.step(action)\n",
        "\n",
        "            state = next_state\n",
        "            score += reward\n",
        "\n",
        "            # if episode ends\n",
        "            if done:\n",
        "                state = self.env.reset()\n",
        "                scores.append(score)\n",
        "                score = 0\n",
        "\n",
        "            # if training is ready\n",
        "            if len(self.memory) >= self.batch_size:\n",
        "                loss = self.update_model()\n",
        "                losses.append(loss)\n",
        "                update_cnt += 1\n",
        "                \n",
        "                # linearly decrease epsilon\n",
        "                self.epsilon = max(\n",
        "                    self.min_epsilon, self.epsilon - (\n",
        "                        self.max_epsilon - self.min_epsilon\n",
        "                    ) * self.epsilon_decay\n",
        "                )\n",
        "                epsilons.append(self.epsilon)\n",
        "                \n",
        "                # if hard update is needed\n",
        "                if update_cnt % self.target_update == 0:\n",
        "                    self._target_hard_update()\n",
        "\n",
        "            # plotting\n",
        "            if frame_idx % plotting_interval == 0:\n",
        "                self._plot(frame_idx, scores, losses, epsilons)\n",
        "                \n",
        "        self.env.close()\n",
        "                \n",
        "    def test(self) -> List[np.ndarray]:\n",
        "        \"\"\"Test the agent.\"\"\"\n",
        "        self.is_test = True\n",
        "        \n",
        "        state = self.env.reset()\n",
        "        done = False\n",
        "        score = 0\n",
        "        \n",
        "        frames = []\n",
        "        while not done:\n",
        "            frames.append(self.env.render(mode=\"rgb_array\"))\n",
        "            action = self.select_action(state)\n",
        "            next_state, reward, done = self.step(action)\n",
        "\n",
        "            state = next_state\n",
        "            score += reward\n",
        "        \n",
        "        print(\"score: \", score)\n",
        "        self.env.close()\n",
        "        \n",
        "        return frames\n",
        "\n",
        "\n",
        "    def _compute_dqn_loss(self, samples: Dict[str, np.ndarray]) -> torch.Tensor:\n",
        "        \"\"\"Return categorical dqn loss.\"\"\"\n",
        "        device = self.device  # for shortening the following lines\n",
        "        state = torch.FloatTensor(samples[\"obs\"]).to(device)\n",
        "        next_state = torch.FloatTensor(samples[\"next_obs\"]).to(device)\n",
        "        action = torch.LongTensor(samples[\"acts\"]).to(device)\n",
        "        reward = torch.FloatTensor(samples[\"rews\"].reshape(-1, 1)).to(device)\n",
        "        done = torch.FloatTensor(samples[\"done\"].reshape(-1, 1)).to(device)\n",
        "        \n",
        "        # Categorical DQN algorithm\n",
        "        delta_z = float(self.v_max - self.v_min) / (self.atom_size - 1)\n",
        "\n",
        "        with torch.no_grad():\n",
        "            next_action = self.dqn_target(next_state).argmax(1)\n",
        "            next_dist = self.dqn_target.dist(next_state)\n",
        "            next_dist = next_dist[range(self.batch_size), next_action]\n",
        "\n",
        "            t_z = reward + (1 - done) * self.gamma * self.support\n",
        "            t_z = t_z.clamp(min=self.v_min, max=self.v_max)\n",
        "            b = (t_z - self.v_min) / delta_z\n",
        "            l = b.floor().long()\n",
        "            u = b.ceil().long()\n",
        "\n",
        "            offset = (\n",
        "                torch.linspace(\n",
        "                    0, (self.batch_size - 1) * self.atom_size, self.batch_size\n",
        "                ).long()\n",
        "                .unsqueeze(1)\n",
        "                .expand(self.batch_size, self.atom_size)\n",
        "                .to(self.device)\n",
        "            )\n",
        "\n",
        "            proj_dist = torch.zeros(next_dist.size(), device=self.device)\n",
        "            proj_dist.view(-1).index_add_(\n",
        "                0, (l + offset).view(-1), (next_dist * (u.float() - b)).view(-1)\n",
        "            )\n",
        "            proj_dist.view(-1).index_add_(\n",
        "                0, (u + offset).view(-1), (next_dist * (b - l.float())).view(-1)\n",
        "            )\n",
        "\n",
        "        dist = self.dqn.dist(state)\n",
        "        log_p = torch.log(dist[range(self.batch_size), action])\n",
        "\n",
        "        loss = -(proj_dist * log_p).sum(1).mean()\n",
        "\n",
        "        return loss\n",
        "\n",
        "    def _target_hard_update(self):\n",
        "        \"\"\"Hard update: target <- local.\"\"\"\n",
        "        self.dqn_target.load_state_dict(self.dqn.state_dict())\n",
        "                \n",
        "    def _plot(\n",
        "        self, \n",
        "        frame_idx: int, \n",
        "        scores: List[float], \n",
        "        losses: List[float], \n",
        "        epsilons: List[float],\n",
        "    ):\n",
        "        \"\"\"Plot the training progresses.\"\"\"\n",
        "        clear_output(True)\n",
        "        plt.figure(figsize=(20, 5))\n",
        "        plt.subplot(131)\n",
        "        plt.title('frame %s. score: %s' % (frame_idx, np.mean(scores[-10:])))\n",
        "        plt.plot(scores)\n",
        "        plt.subplot(132)\n",
        "        plt.title('loss')\n",
        "        plt.plot(losses)\n",
        "        plt.subplot(133)\n",
        "        plt.title('epsilons')\n",
        "        plt.plot(epsilons)\n",
        "        plt.show()"
      ],
      "execution_count": 7,
      "outputs": []
    },
    {
      "cell_type": "markdown",
      "metadata": {
        "id": "p--irAc5ZYWq"
      },
      "source": [
        "## Environment\n",
        "\n",
        "You can see the [code](https://github.com/openai/gym/blob/master/gym/envs/classic_control/cartpole.py) and [configurations](https://github.com/openai/gym/blob/master/gym/envs/__init__.py#L53) of CartPole-v0 from OpenAI's repository."
      ]
    },
    {
      "cell_type": "code",
      "metadata": {
        "id": "kGqT7mEgZYWs"
      },
      "source": [
        "# environment\n",
        "env_id = \"CartPole-v0\"\n",
        "env = gym.make(env_id)\n",
        "if IN_COLAB:\n",
        "    env = gym.wrappers.Monitor(env, \"videos\", force=True)"
      ],
      "execution_count": 8,
      "outputs": []
    },
    {
      "cell_type": "markdown",
      "metadata": {
        "id": "jzQvF-WhZYWs"
      },
      "source": [
        "## Set random seed"
      ]
    },
    {
      "cell_type": "code",
      "metadata": {
        "id": "apVyowHDZYWt",
        "colab": {
          "base_uri": "https://localhost:8080/"
        },
        "outputId": "9378af1c-4e84-462c-a7a0-81ae4c171a27"
      },
      "source": [
        "seed = 777\n",
        "\n",
        "def seed_torch(seed):\n",
        "    torch.manual_seed(seed)\n",
        "    if torch.backends.cudnn.enabled:\n",
        "        torch.backends.cudnn.benchmark = False\n",
        "        torch.backends.cudnn.deterministic = True\n",
        "\n",
        "np.random.seed(seed)\n",
        "seed_torch(seed)\n",
        "env.seed(seed)"
      ],
      "execution_count": 9,
      "outputs": [
        {
          "output_type": "execute_result",
          "data": {
            "text/plain": [
              "[777]"
            ]
          },
          "metadata": {},
          "execution_count": 9
        }
      ]
    },
    {
      "cell_type": "markdown",
      "metadata": {
        "id": "F-XCcQWuZYWu"
      },
      "source": [
        "## Initialize"
      ]
    },
    {
      "cell_type": "code",
      "metadata": {
        "id": "MM4psIZvZYWu",
        "colab": {
          "base_uri": "https://localhost:8080/"
        },
        "outputId": "3c4f4efb-2b0b-4e6e-92ca-2cc7e7eeef7f"
      },
      "source": [
        "# parameters\n",
        "num_frames = 20000\n",
        "memory_size = 2000\n",
        "batch_size = 32\n",
        "target_update = 200\n",
        "epsilon_decay = 1 / 2000\n",
        "\n",
        "# train\n",
        "agent = DQNAgent(env, memory_size, batch_size, target_update, epsilon_decay)"
      ],
      "execution_count": 10,
      "outputs": [
        {
          "output_type": "stream",
          "name": "stdout",
          "text": [
            "cuda\n"
          ]
        }
      ]
    },
    {
      "cell_type": "markdown",
      "metadata": {
        "id": "5vdtbvqOZYWu"
      },
      "source": [
        "## Train"
      ]
    },
    {
      "cell_type": "code",
      "metadata": {
        "id": "nvs0baTtZYWu",
        "colab": {
          "base_uri": "https://localhost:8080/",
          "height": 336
        },
        "outputId": "4e8880e8-6bc9-4252-e34a-154e1d9539e7"
      },
      "source": [
        "agent.train(num_frames)"
      ],
      "execution_count": 11,
      "outputs": [
        {
          "output_type": "display_data",
          "data": {
            "image/png": "[encoded data removed]",
            "text/plain": [
              "<Figure size 1440x360 with 3 Axes>"
            ]
          },
          "metadata": {
            "needs_background": "light"
          }
        }
      ]
    },
    {
      "cell_type": "markdown",
      "metadata": {
        "id": "r1pN8jAnZYWv"
      },
      "source": [
        "## Test\n",
        "\n",
        "Run the trained agent (1 episode)."
      ]
    },
    {
      "cell_type": "code",
      "metadata": {
        "id": "uvPK6mWxZYWv",
        "colab": {
          "base_uri": "https://localhost:8080/"
        },
        "outputId": "a027deae-c146-4ff8-d995-acb9de7bc667"
      },
      "source": [
        "frames = agent.test()"
      ],
      "execution_count": 12,
      "outputs": [
        {
          "output_type": "stream",
          "name": "stdout",
          "text": [
            "score:  112.0\n"
          ]
        }
      ]
    },
    {
      "cell_type": "markdown",
      "metadata": {
        "id": "DyTYkOe5ZYWv"
      },
      "source": [
        "## Render"
      ]
    },
    {
      "cell_type": "code",
      "metadata": {
        "id": "t0A7D0doZYWv",
        "colab": {
          "base_uri": "https://localhost:8080/",
          "height": 438
        },
        "outputId": "fef8cd1d-34b4-4907-b90e-954f442be9af"
      },
      "source": [
        "if IN_COLAB:  # for colab\n",
        "    import base64\n",
        "    import glob\n",
        "    import io\n",
        "    import os\n",
        "\n",
        "    from IPython.display import HTML, display\n",
        "\n",
        "\n",
        "    def ipython_show_video(path: str) -> None:\n",
        "        \"\"\"Show a video at `path` within IPython Notebook.\"\"\"\n",
        "        if not os.path.isfile(path):\n",
        "            raise NameError(\"Cannot access: {}\".format(path))\n",
        "\n",
        "        video = io.open(path, \"r+b\").read()\n",
        "        encoded = base64.b64encode(video)\n",
        "\n",
        "        display(HTML(\n",
        "            data=\"\"\"\n",
        "            <video alt=\"test\" controls>\n",
        "            <source src=\"data:video/mp4;base64,{0}\" type=\"video/mp4\"/>\n",
        "            </video>\n",
        "            \"\"\".format(encoded.decode(\"ascii\"))\n",
        "        ))\n",
        "\n",
        "    list_of_files = glob.glob(\"videos/*.mp4\")\n",
        "    latest_file = max(list_of_files, key=os.path.getctime)\n",
        "    print(latest_file)\n",
        "    ipython_show_video(latest_file)\n",
        "    \n",
        "else:  # for jupyter\n",
        "    from matplotlib import animation\n",
        "    from JSAnimation.IPython_display import display_animation\n",
        "    from IPython.display import display\n",
        "\n",
        "\n",
        "    def display_frames_as_gif(frames: List[np.ndarray]) -> None:\n",
        "        \"\"\"Displays a list of frames as a gif, with controls.\"\"\"\n",
        "        patch = plt.imshow(frames[0])\n",
        "        plt.axis('off')\n",
        "\n",
        "        def animate(i):\n",
        "            patch.set_data(frames[i])\n",
        "\n",
        "        anim = animation.FuncAnimation(\n",
        "            plt.gcf(), animate, frames = len(frames), interval=50\n",
        "        )\n",
        "        display(display_animation(anim, default_mode='loop'))\n",
        "\n",
        "\n",
        "    # display \n",
        "    display_frames_as_gif(frames)"
      ],
      "execution_count": 13,
      "outputs": [
        {
          "output_type": "stream",
          "name": "stdout",
          "text": [
            "videos/openaigym.video.0.78.video000125.mp4\n"
          ]
        },
        {
          "output_type": "display_data",
          "data": {
            "text/html": [
              "\n",
              "            <video alt=\"test\" controls>\n",
              "            <source src=\"data:video/mp4;base64,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\" type=\"video/mp4\"/>\n",
              "            </video>\n",
              "            "
            ],
            "text/plain": [
              "<IPython.core.display.HTML object>"
            ]
          },
          "metadata": {}
        }
      ]
    }
  ]
}