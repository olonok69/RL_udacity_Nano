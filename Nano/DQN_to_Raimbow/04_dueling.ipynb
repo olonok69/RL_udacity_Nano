{
  "nbformat": 4,
  "nbformat_minor": 0,
  "metadata": {
    "kernelspec": {
      "display_name": "Python 3",
      "language": "python",
      "name": "python3"
    },
    "language_info": {
      "codemirror_mode": {
        "name": "ipython",
        "version": 3
      },
      "file_extension": ".py",
      "mimetype": "text/x-python",
      "name": "python",
      "nbconvert_exporter": "python",
      "pygments_lexer": "ipython3",
      "version": "3.7.9"
    },
    "colab": {
      "name": "04.dueling.ipynb",
      "provenance": []
    },
    "accelerator": "GPU"
  },
  "cells": [
    {
      "cell_type": "markdown",
      "metadata": {
        "id": "88JH816ZSE1u"
      },
      "source": [
        "## Configurations for Colab"
      ]
    },
    {
      "cell_type": "code",
      "metadata": {
        "id": "kAOcY-sQSE1x",
        "colab": {
          "base_uri": "https://localhost:8080/"
        },
        "outputId": "9b7d1aa0-5924-403a-867b-738c76988bcd"
      },
      "source": [
        "import sys\n",
        "IN_COLAB = \"google.colab\" in sys.modules\n",
        "\n",
        "if IN_COLAB:\n",
        "    !apt install python-opengl\n",
        "    !apt install ffmpeg\n",
        "    !apt install xvfb\n",
        "    !pip install pyvirtualdisplay\n",
        "    !pip install gym\n",
        "    from pyvirtualdisplay import Display\n",
        "    \n",
        "    # Start virtual display\n",
        "    dis = Display(visible=0, size=(400, 400))\n",
        "    dis.start()"
      ],
      "execution_count": 1,
      "outputs": [
        {
          "output_type": "stream",
          "name": "stdout",
          "text": [
            "Reading package lists... Done\n",
            "Building dependency tree       \n",
            "Reading state information... Done\n",
            "Suggested packages:\n",
            "  libgle3\n",
            "The following NEW packages will be installed:\n",
            "  python-opengl\n",
            "0 upgraded, 1 newly installed, 0 to remove and 37 not upgraded.\n",
            "Need to get 496 kB of archives.\n",
            "After this operation, 5,416 kB of additional disk space will be used.\n",
            "Get:1 http://archive.ubuntu.com/ubuntu bionic/universe amd64 python-opengl all 3.1.0+dfsg-1 [496 kB]\n",
            "Fetched 496 kB in 0s (5,743 kB/s)\n",
            "Selecting previously unselected package python-opengl.\n",
            "(Reading database ... 155219 files and directories currently installed.)\n",
            "Preparing to unpack .../python-opengl_3.1.0+dfsg-1_all.deb ...\n",
            "Unpacking python-opengl (3.1.0+dfsg-1) ...\n",
            "Setting up python-opengl (3.1.0+dfsg-1) ...\n",
            "Reading package lists... Done\n",
            "Building dependency tree       \n",
            "Reading state information... Done\n",
            "ffmpeg is already the newest version (7:3.4.8-0ubuntu0.2).\n",
            "0 upgraded, 0 newly installed, 0 to remove and 37 not upgraded.\n",
            "Reading package lists... Done\n",
            "Building dependency tree       \n",
            "Reading state information... Done\n",
            "The following NEW packages will be installed:\n",
            "  xvfb\n",
            "0 upgraded, 1 newly installed, 0 to remove and 37 not upgraded.\n",
            "Need to get 784 kB of archives.\n",
            "After this operation, 2,270 kB of additional disk space will be used.\n",
            "Get:1 http://archive.ubuntu.com/ubuntu bionic-updates/universe amd64 xvfb amd64 2:1.19.6-1ubuntu4.9 [784 kB]\n",
            "Fetched 784 kB in 0s (7,700 kB/s)\n",
            "Selecting previously unselected package xvfb.\n",
            "(Reading database ... 157574 files and directories currently installed.)\n",
            "Preparing to unpack .../xvfb_2%3a1.19.6-1ubuntu4.9_amd64.deb ...\n",
            "Unpacking xvfb (2:1.19.6-1ubuntu4.9) ...\n",
            "Setting up xvfb (2:1.19.6-1ubuntu4.9) ...\n",
            "Processing triggers for man-db (2.8.3-2ubuntu0.1) ...\n",
            "Collecting pyvirtualdisplay\n",
            "  Downloading PyVirtualDisplay-2.2-py3-none-any.whl (15 kB)\n",
            "Collecting EasyProcess\n",
            "  Downloading EasyProcess-0.3-py2.py3-none-any.whl (7.9 kB)\n",
            "Installing collected packages: EasyProcess, pyvirtualdisplay\n",
            "Successfully installed EasyProcess-0.3 pyvirtualdisplay-2.2\n",
            "Requirement already satisfied: gym in /usr/local/lib/python3.7/dist-packages (0.17.3)\n",
            "Requirement already satisfied: scipy in /usr/local/lib/python3.7/dist-packages (from gym) (1.4.1)\n",
            "Requirement already satisfied: pyglet<=1.5.0,>=1.4.0 in /usr/local/lib/python3.7/dist-packages (from gym) (1.5.0)\n",
            "Requirement already satisfied: numpy>=1.10.4 in /usr/local/lib/python3.7/dist-packages (from gym) (1.19.5)\n",
            "Requirement already satisfied: cloudpickle<1.7.0,>=1.2.0 in /usr/local/lib/python3.7/dist-packages (from gym) (1.3.0)\n",
            "Requirement already satisfied: future in /usr/local/lib/python3.7/dist-packages (from pyglet<=1.5.0,>=1.4.0->gym) (0.16.0)\n"
          ]
        }
      ]
    },
    {
      "cell_type": "markdown",
      "metadata": {
        "id": "YZumcM5qSE1z"
      },
      "source": [
        "# 04. Dueling Network\n",
        "\n",
        "[Z. Wang et al., \"Dueling Network Architectures for Deep Reinforcement Learning.\" arXiv preprint arXiv:1511.06581, 2015.](https://arxiv.org/pdf/1511.06581.pdf)\n",
        "\n",
        "The proposed network architecture, which is named *dueling architecture*, explicitly separates the representation of state values and (state-dependent) action advantages. \n",
        "\n",
        "![fig1](https://user-images.githubusercontent.com/14961526/60322956-c2f0b600-99bb-11e9-9ed4-443bd14bc3b0.png)\n",
        "\n",
        "The dueling network automatically produces separate estimates of the state value function and advantage function, without any extra supervision. Intuitively, the dueling architecture can learn which states are (or are not) valuable, without having to learn the effect of each action for each state. This is particularly useful in states where its actions do not affect the environment in any relevant way. \n",
        "\n",
        "The dueling architecture represents both the value $V(s)$ and advantage $A(s, a)$ functions with a single deep model whose output combines the two to produce a state-action value $Q(s, a)$. Unlike in advantage updating, the representation and algorithm are decoupled by construction.\n",
        "\n",
        "$$A^\\pi (s, a) = Q^\\pi (s, a) - V^\\pi (s).$$\n",
        "\n",
        "The value function $V$ measures the how good it is to be in a particular state $s$. The $Q$ function, however, measures the the value of choosing a particular action when in this state. Now, using the definition of advantage, we might be tempted to construct the aggregating module as follows:\n",
        "\n",
        "$$Q(s, a; \\theta, \\alpha, \\beta) = V (s; \\theta, \\beta) + A(s, a; \\theta, \\alpha),$$\n",
        "\n",
        "where $\\theta$ denotes the parameters of the convolutional layers, while $\\alpha$ and $\\beta$ are the parameters of the two streams of fully-connected layers.\n",
        "\n",
        "Unfortunately, the above equation is unidentifiable in the sense that given $Q$ we cannot recover $V$ and $A$ uniquely; for example, there are uncountable pairs of $V$ and $A$ that make $Q$ values to zero. To address this issue of identifiability, we can force the advantage function estimator to have zero advantage at the chosen action. That is, we let the last module of the network implement the forward mapping.\n",
        "\n",
        "$$\n",
        "Q(s, a; \\theta, \\alpha, \\beta) = V (s; \\theta, \\beta) + \\big( A(s, a; \\theta, \\alpha) - \\max_{a' \\in |\\mathcal{A}|} A(s, a'; \\theta, \\alpha) \\big).\n",
        "$$\n",
        "\n",
        "This formula guarantees that we can recover the unique $V$ and $A$, but the optimization is not so stable because the advantages have to compensate any change to the optimal action’s advantage. Due to the reason, an alternative module that replaces the max operator with an average is proposed:\n",
        "\n",
        "$$\n",
        "Q(s, a; \\theta, \\alpha, \\beta) = V (s; \\theta, \\beta) + \\big( A(s, a; \\theta, \\alpha) - \\frac{1}{|\\mathcal{A}|} \\sum_{a'} A(s, a'; \\theta, \\alpha) \\big).\n",
        "$$\n",
        "\n",
        "Unlike the max advantage form, in this formula, the advantages only need to change as fast as the mean, so it increases the stability of optimization."
      ]
    },
    {
      "cell_type": "code",
      "metadata": {
        "id": "kRgB9n0PSE10"
      },
      "source": [
        "import os\n",
        "from typing import Dict, List, Tuple\n",
        "\n",
        "import gym\n",
        "import matplotlib.pyplot as plt\n",
        "import numpy as np\n",
        "import torch\n",
        "import torch.nn as nn\n",
        "import torch.nn.functional as F\n",
        "import torch.optim as optim\n",
        "from IPython.display import clear_output\n",
        "from torch.nn.utils import clip_grad_norm_"
      ],
      "execution_count": 2,
      "outputs": []
    },
    {
      "cell_type": "markdown",
      "metadata": {
        "id": "kwz98xF3SE11"
      },
      "source": [
        "## Replay buffer\n",
        "\n",
        "Please see *01.dqn.ipynb* for detailed description."
      ]
    },
    {
      "cell_type": "code",
      "metadata": {
        "id": "9lOIw778SE12"
      },
      "source": [
        "class ReplayBuffer:\n",
        "    \"\"\"A simple numpy replay buffer.\"\"\"\n",
        "\n",
        "    def __init__(self, obs_dim: int, size: int, batch_size: int = 32):\n",
        "        self.obs_buf = np.zeros([size, obs_dim], dtype=np.float32)\n",
        "        self.next_obs_buf = np.zeros([size, obs_dim], dtype=np.float32)\n",
        "        self.acts_buf = np.zeros([size], dtype=np.float32)\n",
        "        self.rews_buf = np.zeros([size], dtype=np.float32)\n",
        "        self.done_buf = np.zeros(size, dtype=np.float32)\n",
        "        self.max_size, self.batch_size = size, batch_size\n",
        "        self.ptr, self.size, = 0, 0\n",
        "\n",
        "    def store(\n",
        "        self,\n",
        "        obs: np.ndarray,\n",
        "        act: np.ndarray, \n",
        "        rew: float, \n",
        "        next_obs: np.ndarray, \n",
        "        done: bool,\n",
        "    ):\n",
        "        self.obs_buf[self.ptr] = obs\n",
        "        self.next_obs_buf[self.ptr] = next_obs\n",
        "        self.acts_buf[self.ptr] = act\n",
        "        self.rews_buf[self.ptr] = rew\n",
        "        self.done_buf[self.ptr] = done\n",
        "        self.ptr = (self.ptr + 1) % self.max_size\n",
        "        self.size = min(self.size + 1, self.max_size)\n",
        "\n",
        "    def sample_batch(self) -> Dict[str, np.ndarray]:\n",
        "        idxs = np.random.choice(self.size, size=self.batch_size, replace=False)\n",
        "        return dict(obs=self.obs_buf[idxs],\n",
        "                    next_obs=self.next_obs_buf[idxs],\n",
        "                    acts=self.acts_buf[idxs],\n",
        "                    rews=self.rews_buf[idxs],\n",
        "                    done=self.done_buf[idxs])\n",
        "\n",
        "    def __len__(self) -> int:\n",
        "        return self.size"
      ],
      "execution_count": 3,
      "outputs": []
    },
    {
      "cell_type": "markdown",
      "metadata": {
        "id": "VTkXOt70SE12"
      },
      "source": [
        "## Dueling Network\n",
        "\n",
        "Carefully take a look at advantage and value layers separated from feature layer."
      ]
    },
    {
      "cell_type": "code",
      "metadata": {
        "id": "873-kg75SE13"
      },
      "source": [
        "class Network(nn.Module):\n",
        "    def __init__(self, in_dim: int, out_dim: int):\n",
        "        \"\"\"Initialization.\"\"\"\n",
        "        super(Network, self).__init__()\n",
        "\n",
        "        # set common feature layer\n",
        "        self.feature_layer = nn.Sequential(\n",
        "            nn.Linear(in_dim, 128), \n",
        "            nn.ReLU(),\n",
        "        )\n",
        "        \n",
        "        # set advantage layer\n",
        "        self.advantage_layer = nn.Sequential(\n",
        "            nn.Linear(128, 128),\n",
        "            nn.ReLU(),\n",
        "            nn.Linear(128, out_dim),\n",
        "        )\n",
        "\n",
        "        # set value layer\n",
        "        self.value_layer = nn.Sequential(\n",
        "            nn.Linear(128, 128),\n",
        "            nn.ReLU(),\n",
        "            nn.Linear(128, 1),\n",
        "        )\n",
        "\n",
        "    def forward(self, x: torch.Tensor) -> torch.Tensor:\n",
        "        \"\"\"Forward method implementation.\"\"\"\n",
        "        feature = self.feature_layer(x)\n",
        "        \n",
        "        value = self.value_layer(feature)\n",
        "        advantage = self.advantage_layer(feature)\n",
        "\n",
        "        q = value + advantage - advantage.mean(dim=-1, keepdim=True)\n",
        "        \n",
        "        return q"
      ],
      "execution_count": 4,
      "outputs": []
    },
    {
      "cell_type": "markdown",
      "metadata": {
        "id": "GGaqSDY3SE14"
      },
      "source": [
        "## DQN + DuelingNet Agent (w/o Double-DQN & PER)\n",
        "\n",
        "Here is a summary of DQNAgent class.\n",
        "\n",
        "| Method           | Note                                                 |\n",
        "| ---              | ---                                                  |\n",
        "|select_action     | select an action from the input state.               |\n",
        "|step              | take an action and return the response of the env.   |\n",
        "|compute_dqn_loss  | return dqn loss.                                     |\n",
        "|update_model      | update the model by gradient descent.                |\n",
        "|target_hard_update| hard update from the local model to the target model.|\n",
        "|train             | train the agent during num_frames.                   |\n",
        "|test              | test the agent (1 episode).                          |\n",
        "|plot              | plot the training progresses.                        |\n",
        "\n",
        "\n",
        "Aside from the dueling network architecture, the authors suggest to use Double-DQN and Prioritized Experience Replay as extra components for better performance. However, we don't implement them to simplify the tutorial. There is only one diffrence between DQNAgent here and the one from *01.dqn.ipynb* and that is the usage of clip_grad_norm_ to prevent gradient exploding."
      ]
    },
    {
      "cell_type": "code",
      "metadata": {
        "id": "F45S1yA4SE14"
      },
      "source": [
        "class DQNAgent:\n",
        "    \"\"\"DQN Agent interacting with environment.\n",
        "    \n",
        "    Attribute:\n",
        "        env (gym.Env): openAI Gym environment\n",
        "        memory (ReplayBuffer): replay memory to store transitions\n",
        "        batch_size (int): batch size for sampling\n",
        "        epsilon (float): parameter for epsilon greedy policy\n",
        "        epsilon_decay (float): step size to decrease epsilon\n",
        "        max_epsilon (float): max value of epsilon\n",
        "        min_epsilon (float): min value of epsilon\n",
        "        target_update (int): period for target model's hard update\n",
        "        gamma (float): discount factor\n",
        "        dqn (Network): model to train and select actions\n",
        "        dqn_target (Network): target model to update\n",
        "        optimizer (torch.optim): optimizer for training dqn\n",
        "        transition (list): transition information including\n",
        "                           state, action, reward, next_state, done\n",
        "    \"\"\"\n",
        "\n",
        "    def __init__(\n",
        "        self, \n",
        "        env: gym.Env,\n",
        "        memory_size: int,\n",
        "        batch_size: int,\n",
        "        target_update: int,\n",
        "        epsilon_decay: float,\n",
        "        max_epsilon: float = 1.0,\n",
        "        min_epsilon: float = 0.1,\n",
        "        gamma: float = 0.99,\n",
        "    ):\n",
        "        \"\"\"Initialization.\n",
        "        \n",
        "        Args:\n",
        "            env (gym.Env): openAI Gym environment\n",
        "            memory_size (int): length of memory\n",
        "            batch_size (int): batch size for sampling\n",
        "            target_update (int): period for target model's hard update\n",
        "            epsilon_decay (float): step size to decrease epsilon\n",
        "            lr (float): learning rate\n",
        "            max_epsilon (float): max value of epsilon\n",
        "            min_epsilon (float): min value of epsilon\n",
        "            gamma (float): discount factor\n",
        "        \"\"\"\n",
        "        obs_dim = env.observation_space.shape[0]\n",
        "        action_dim = env.action_space.n\n",
        "        \n",
        "        self.env = env\n",
        "        self.memory = ReplayBuffer(obs_dim, memory_size, batch_size)\n",
        "        self.batch_size = batch_size\n",
        "        self.epsilon = max_epsilon\n",
        "        self.epsilon_decay = epsilon_decay\n",
        "        self.max_epsilon = max_epsilon\n",
        "        self.min_epsilon = min_epsilon\n",
        "        self.target_update = target_update\n",
        "        self.gamma = gamma\n",
        "        \n",
        "        # device: cpu / gpu\n",
        "        self.device = torch.device(\n",
        "            \"cuda\" if torch.cuda.is_available() else \"cpu\"\n",
        "        )\n",
        "        print(self.device)\n",
        "\n",
        "        # networks: dqn, dqn_target\n",
        "        self.dqn = Network(obs_dim, action_dim).to(self.device)\n",
        "        self.dqn_target = Network(obs_dim, action_dim).to(self.device)\n",
        "        self.dqn_target.load_state_dict(self.dqn.state_dict())\n",
        "        self.dqn_target.eval()\n",
        "        \n",
        "        # optimizer\n",
        "        self.optimizer = optim.Adam(self.dqn.parameters())\n",
        "\n",
        "        # transition to store in memory\n",
        "        self.transition = list()\n",
        "        \n",
        "        # mode: train / test\n",
        "        self.is_test = False\n",
        "\n",
        "    def select_action(self, state: np.ndarray) -> np.ndarray:\n",
        "        \"\"\"Select an action from the input state.\"\"\"\n",
        "        # epsilon greedy policy\n",
        "        if self.epsilon > np.random.random():\n",
        "            selected_action = self.env.action_space.sample()\n",
        "        else:\n",
        "            selected_action = self.dqn(\n",
        "                torch.FloatTensor(state).to(self.device)\n",
        "            ).argmax()\n",
        "            selected_action = selected_action.detach().cpu().numpy()\n",
        "        \n",
        "        if not self.is_test:\n",
        "            self.transition = [state, selected_action]\n",
        "        \n",
        "        return selected_action\n",
        "\n",
        "    def step(self, action: np.ndarray) -> Tuple[np.ndarray, np.float64, bool]:\n",
        "        \"\"\"Take an action and return the response of the env.\"\"\"\n",
        "        next_state, reward, done, _ = self.env.step(action)\n",
        "\n",
        "        if not self.is_test:\n",
        "            self.transition += [reward, next_state, done]\n",
        "            self.memory.store(*self.transition)\n",
        "    \n",
        "        return next_state, reward, done\n",
        "\n",
        "    def update_model(self) -> torch.Tensor:\n",
        "        \"\"\"Update the model by gradient descent.\"\"\"\n",
        "        samples = self.memory.sample_batch()\n",
        "\n",
        "        loss = self._compute_dqn_loss(samples)\n",
        "\n",
        "        self.optimizer.zero_grad()\n",
        "        loss.backward()\n",
        "        # DuelingNet: we clip the gradients to have their norm less than or equal to 10.\n",
        "        clip_grad_norm_(self.dqn.parameters(), 10.0)\n",
        "        self.optimizer.step()\n",
        "\n",
        "        return loss.item()\n",
        "        \n",
        "    def train(self, num_frames: int, plotting_interval: int = 200):\n",
        "        \"\"\"Train the agent.\"\"\"\n",
        "        self.is_test = False\n",
        "        \n",
        "        state = self.env.reset()\n",
        "        update_cnt = 0\n",
        "        epsilons = []\n",
        "        losses = []\n",
        "        scores = []\n",
        "        score = 0\n",
        "\n",
        "        for frame_idx in range(1, num_frames + 1):\n",
        "            action = self.select_action(state)\n",
        "            next_state, reward, done = self.step(action)\n",
        "\n",
        "            state = next_state\n",
        "            score += reward\n",
        "\n",
        "            # if episode ends\n",
        "            if done:\n",
        "                state = self.env.reset()\n",
        "                scores.append(score)\n",
        "                score = 0\n",
        "\n",
        "            # if training is ready\n",
        "            if len(self.memory) >= self.batch_size:\n",
        "                loss = self.update_model()\n",
        "                losses.append(loss)\n",
        "                update_cnt += 1\n",
        "                \n",
        "                # linearly decrease epsilon\n",
        "                self.epsilon = max(\n",
        "                    self.min_epsilon, self.epsilon - (\n",
        "                        self.max_epsilon - self.min_epsilon\n",
        "                    ) * self.epsilon_decay\n",
        "                )\n",
        "                epsilons.append(self.epsilon)\n",
        "                \n",
        "                # if hard update is needed\n",
        "                if update_cnt % self.target_update == 0:\n",
        "                    self._target_hard_update()\n",
        "\n",
        "            # plotting\n",
        "            if frame_idx % plotting_interval == 0:\n",
        "                self._plot(frame_idx, scores, losses, epsilons)\n",
        "                \n",
        "        self.env.close()\n",
        "                \n",
        "    def test(self) -> List[np.ndarray]:\n",
        "        \"\"\"Test the agent.\"\"\"\n",
        "        self.is_test = True\n",
        "        \n",
        "        state = self.env.reset()\n",
        "        done = False\n",
        "        score = 0\n",
        "        \n",
        "        frames = []\n",
        "        while not done:\n",
        "            frames.append(self.env.render(mode=\"rgb_array\"))\n",
        "            action = self.select_action(state)\n",
        "            next_state, reward, done = self.step(action)\n",
        "\n",
        "            state = next_state\n",
        "            score += reward\n",
        "        \n",
        "        print(\"score: \", score)\n",
        "        self.env.close()\n",
        "        \n",
        "        return frames\n",
        "\n",
        "    def _compute_dqn_loss(self, samples: Dict[str, np.ndarray]) -> torch.Tensor:\n",
        "        \"\"\"Return dqn loss.\"\"\"\n",
        "        device = self.device  # for shortening the following lines\n",
        "        state = torch.FloatTensor(samples[\"obs\"]).to(device)\n",
        "        next_state = torch.FloatTensor(samples[\"next_obs\"]).to(device)\n",
        "        action = torch.LongTensor(samples[\"acts\"].reshape(-1, 1)).to(device)\n",
        "        reward = torch.FloatTensor(samples[\"rews\"].reshape(-1, 1)).to(device)\n",
        "        done = torch.FloatTensor(samples[\"done\"].reshape(-1, 1)).to(device)\n",
        "\n",
        "        # G_t   = r + gamma * v(s_{t+1})  if state != Terminal\n",
        "        #       = r                       otherwise\n",
        "        curr_q_value = self.dqn(state).gather(1, action)\n",
        "        next_q_value = self.dqn_target(next_state).max(\n",
        "            dim=1, keepdim=True\n",
        "        )[0].detach()\n",
        "        mask = 1 - done\n",
        "        target = (reward + self.gamma * next_q_value * mask).to(self.device)\n",
        "\n",
        "        # calculate dqn loss\n",
        "        loss = F.smooth_l1_loss(curr_q_value, target)\n",
        "\n",
        "        return loss\n",
        "\n",
        "    def _target_hard_update(self):\n",
        "        \"\"\"Hard update: target <- local.\"\"\"\n",
        "        self.dqn_target.load_state_dict(self.dqn.state_dict())\n",
        "                \n",
        "    def _plot(\n",
        "        self, \n",
        "        frame_idx: int, \n",
        "        scores: List[float], \n",
        "        losses: List[float], \n",
        "        epsilons: List[float],\n",
        "    ):\n",
        "        \"\"\"Plot the training progresses.\"\"\"\n",
        "        clear_output(True)\n",
        "        plt.figure(figsize=(20, 5))\n",
        "        plt.subplot(131)\n",
        "        plt.title('frame %s. score: %s' % (frame_idx, np.mean(scores[-10:])))\n",
        "        plt.plot(scores)\n",
        "        plt.subplot(132)\n",
        "        plt.title('loss')\n",
        "        plt.plot(losses)\n",
        "        plt.subplot(133)\n",
        "        plt.title('epsilons')\n",
        "        plt.plot(epsilons)\n",
        "        plt.show()"
      ],
      "execution_count": 6,
      "outputs": []
    },
    {
      "cell_type": "markdown",
      "metadata": {
        "id": "1TEIcRx2SE17"
      },
      "source": [
        "## Environment\n",
        "\n",
        "You can see the [code](https://github.com/openai/gym/blob/master/gym/envs/classic_control/cartpole.py) and [configurations](https://github.com/openai/gym/blob/master/gym/envs/__init__.py#L53) of CartPole-v0 from OpenAI's repository."
      ]
    },
    {
      "cell_type": "code",
      "metadata": {
        "id": "hBSPgFGrSE19"
      },
      "source": [
        "# environment\n",
        "env_id = \"CartPole-v0\"\n",
        "env = gym.make(env_id)\n",
        "if IN_COLAB:\n",
        "    env = gym.wrappers.Monitor(env, \"videos\", force=True)"
      ],
      "execution_count": 7,
      "outputs": []
    },
    {
      "cell_type": "markdown",
      "metadata": {
        "id": "1VXQWG9DSE19"
      },
      "source": [
        "## Set random seed"
      ]
    },
    {
      "cell_type": "code",
      "metadata": {
        "id": "BsP5zVaKSE19",
        "colab": {
          "base_uri": "https://localhost:8080/"
        },
        "outputId": "6346d71a-a7da-4cfd-a2c0-31691e9856f5"
      },
      "source": [
        "seed = 777\n",
        "\n",
        "def seed_torch(seed):\n",
        "    torch.manual_seed(seed)\n",
        "    if torch.backends.cudnn.enabled:\n",
        "        torch.backends.cudnn.benchmark = False\n",
        "        torch.backends.cudnn.deterministic = True\n",
        "\n",
        "np.random.seed(seed)\n",
        "seed_torch(seed)\n",
        "env.seed(seed)"
      ],
      "execution_count": 8,
      "outputs": [
        {
          "output_type": "execute_result",
          "data": {
            "text/plain": [
              "[777]"
            ]
          },
          "metadata": {},
          "execution_count": 8
        }
      ]
    },
    {
      "cell_type": "markdown",
      "metadata": {
        "id": "HldyRIgTSE1-"
      },
      "source": [
        "## Initialize"
      ]
    },
    {
      "cell_type": "code",
      "metadata": {
        "id": "rjg4nJp-SE1_",
        "colab": {
          "base_uri": "https://localhost:8080/"
        },
        "outputId": "aca65004-dc80-45dc-8e7d-908090ee7843"
      },
      "source": [
        "# parameters\n",
        "num_frames = 20000\n",
        "memory_size = 1000\n",
        "batch_size = 32\n",
        "target_update = 100\n",
        "epsilon_decay = 1 / 2000\n",
        "\n",
        "# train\n",
        "agent = DQNAgent(env, memory_size, batch_size, target_update, epsilon_decay)"
      ],
      "execution_count": 9,
      "outputs": [
        {
          "output_type": "stream",
          "name": "stdout",
          "text": [
            "cuda\n"
          ]
        }
      ]
    },
    {
      "cell_type": "markdown",
      "metadata": {
        "id": "exzdPDxMSE1_"
      },
      "source": [
        "## Train"
      ]
    },
    {
      "cell_type": "code",
      "metadata": {
        "id": "Jnn1yXs4SE1_",
        "colab": {
          "base_uri": "https://localhost:8080/",
          "height": 336
        },
        "outputId": "8a8df632-863c-4b13-dc24-8c70a7f8f92e"
      },
      "source": [
        "agent.train(num_frames)"
      ],
      "execution_count": 10,
      "outputs": [
        {
          "output_type": "display_data",
          "data": {
            "image/png": "[encoded data removed]",
            "text/plain": [
              "<Figure size 1440x360 with 3 Axes>"
            ]
          },
          "metadata": {
            "needs_background": "light"
          }
        }
      ]
    },
    {
      "cell_type": "markdown",
      "metadata": {
        "id": "KHWt11g0SE2A"
      },
      "source": [
        "## Test\n",
        "\n",
        "Run the trained agent (1 episode)."
      ]
    },
    {
      "cell_type": "code",
      "metadata": {
        "id": "RmPx823FSE2A",
        "colab": {
          "base_uri": "https://localhost:8080/"
        },
        "outputId": "30d4308c-4c01-4e8b-cd71-5194b4caefe7"
      },
      "source": [
        "frames = agent.test()"
      ],
      "execution_count": 11,
      "outputs": [
        {
          "output_type": "stream",
          "name": "stdout",
          "text": [
            "score:  199.0\n"
          ]
        }
      ]
    },
    {
      "cell_type": "markdown",
      "metadata": {
        "id": "hqzKs_R7SE2A"
      },
      "source": [
        "## Render"
      ]
    },
    {
      "cell_type": "code",
      "metadata": {
        "id": "AU4VV_YzSE2A",
        "colab": {
          "base_uri": "https://localhost:8080/",
          "height": 438
        },
        "outputId": "8a820523-1d75-4873-cd4d-8c86f1cd567b"
      },
      "source": [
        "if IN_COLAB:  # for colab\n",
        "    import base64\n",
        "    import glob\n",
        "    import io\n",
        "    import os\n",
        "\n",
        "    from IPython.display import HTML, display\n",
        "\n",
        "\n",
        "    def ipython_show_video(path: str) -> None:\n",
        "        \"\"\"Show a video at `path` within IPython Notebook.\"\"\"\n",
        "        if not os.path.isfile(path):\n",
        "            raise NameError(\"Cannot access: {}\".format(path))\n",
        "\n",
        "        video = io.open(path, \"r+b\").read()\n",
        "        encoded = base64.b64encode(video)\n",
        "\n",
        "        display(HTML(\n",
        "            data=\"\"\"\n",
        "            <video alt=\"test\" controls>\n",
        "            <source src=\"data:video/mp4;base64,{0}\" type=\"video/mp4\"/>\n",
        "            </video>\n",
        "            \"\"\".format(encoded.decode(\"ascii\"))\n",
        "        ))\n",
        "\n",
        "    list_of_files = glob.glob(\"videos/*.mp4\")\n",
        "    latest_file = max(list_of_files, key=os.path.getctime)\n",
        "    print(latest_file)\n",
        "    ipython_show_video(latest_file)\n",
        "    \n",
        "else:  # for jupyter\n",
        "    from matplotlib import animation\n",
        "    from JSAnimation.IPython_display import display_animation\n",
        "    from IPython.display import display\n",
        "\n",
        "\n",
        "    def display_frames_as_gif(frames: List[np.ndarray]) -> None:\n",
        "        \"\"\"Displays a list of frames as a gif, with controls.\"\"\"\n",
        "        patch = plt.imshow(frames[0])\n",
        "        plt.axis('off')\n",
        "\n",
        "        def animate(i):\n",
        "            patch.set_data(frames[i])\n",
        "\n",
        "        anim = animation.FuncAnimation(\n",
        "            plt.gcf(), animate, frames = len(frames), interval=50\n",
        "        )\n",
        "        display(display_animation(anim, default_mode='loop'))\n",
        "\n",
        "\n",
        "    # display \n",
        "    display_frames_as_gif(frames)"
      ],
      "execution_count": 12,
      "outputs": [
        {
          "output_type": "stream",
          "name": "stdout",
          "text": [
            "videos/openaigym.video.0.82.video000125.mp4\n"
          ]
        },
        {
          "output_type": "display_data",
          "data": {
            "text/html": [
              "\n",
              "            <video alt=\"test\" controls>\n",
              "            <source src=\"data:video/mp4;base64,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\" type=\"video/mp4\"/>\n",
              "            </video>\n",
              "            "
            ],
            "text/plain": [
              "<IPython.core.display.HTML object>"
            ]
          },
          "metadata": {}
        }
      ]
    }
  ]
}