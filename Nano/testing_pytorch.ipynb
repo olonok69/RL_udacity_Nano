{
 "cells": [
  {
   "cell_type": "code",
   "execution_count": 1,
   "id": "24ce6197",
   "metadata": {},
   "outputs": [],
   "source": [
    "from torch.distributions import Normal"
   ]
  },
  {
   "cell_type": "code",
   "execution_count": 2,
   "id": "33114fe4",
   "metadata": {},
   "outputs": [],
   "source": [
    "std= 1.5\n",
    "mu = 0.1"
   ]
  },
  {
   "cell_type": "code",
   "execution_count": 9,
   "id": "163910b7",
   "metadata": {},
   "outputs": [],
   "source": [
    "dist=Normal(mu, std)\n",
    "selected_action= dist.sample()"
   ]
  },
  {
   "cell_type": "code",
   "execution_count": 10,
   "id": "edd70695",
   "metadata": {},
   "outputs": [
    {
     "data": {
      "text/plain": [
       "tensor(0.1000)"
      ]
     },
     "execution_count": 10,
     "metadata": {},
     "output_type": "execute_result"
    }
   ],
   "source": [
    "dist.mean"
   ]
  },
  {
   "cell_type": "code",
   "execution_count": 11,
   "id": "b5048a31",
   "metadata": {},
   "outputs": [
    {
     "data": {
      "text/plain": [
       "tensor(-1.6477)"
      ]
     },
     "execution_count": 11,
     "metadata": {},
     "output_type": "execute_result"
    }
   ],
   "source": [
    "dist.log_prob(selected_action).sum(dim=-1)"
   ]
  },
  {
   "cell_type": "code",
   "execution_count": null,
   "id": "74a1ed92",
   "metadata": {},
   "outputs": [],
   "source": []
  }
 ],
 "metadata": {
  "kernelspec": {
   "display_name": "drlnd",
   "language": "python",
   "name": "drlnd"
  },
  "language_info": {
   "codemirror_mode": {
    "name": "ipython",
    "version": 3
   },
   "file_extension": ".py",
   "mimetype": "text/x-python",
   "name": "python",
   "nbconvert_exporter": "python",
   "pygments_lexer": "ipython3",
   "version": "3.6.13"
  }
 },
 "nbformat": 4,
 "nbformat_minor": 5
}
