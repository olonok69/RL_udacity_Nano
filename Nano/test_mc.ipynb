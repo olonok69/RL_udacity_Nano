{
 "cells": [
  {
   "cell_type": "code",
   "execution_count": 1,
   "id": "0b27261f",
   "metadata": {},
   "outputs": [],
   "source": [
    "import numpy as np"
   ]
  },
  {
   "cell_type": "code",
   "execution_count": 2,
   "id": "118c92c5",
   "metadata": {},
   "outputs": [],
   "source": [
    "def get_probs(Q_s, epsilon, nA):\n",
    "    \"\"\" obtains the action probabilities corresponding to epsilon-greedy policy \"\"\"\n",
    "    policy_s = np.ones(nA) * epsilon / nA\n",
    "    best_a = np.argmax(Q_s)\n",
    "    policy_s[best_a] = 1 - epsilon + (epsilon / nA)\n",
    "    return policy_s"
   ]
  },
  {
   "cell_type": "code",
   "execution_count": 3,
   "id": "670d8d51",
   "metadata": {},
   "outputs": [],
   "source": [
    "# key (20, 10, True) value [ 0.44377267 -0.27312775]\n",
    "\n",
    "nA=2\n",
    "epsilon = .098\n",
    "Q_s = [ 0.44377267 ,-0.27312775]"
   ]
  },
  {
   "cell_type": "code",
   "execution_count": 4,
   "id": "fb0b7709",
   "metadata": {},
   "outputs": [
    {
     "data": {
      "text/plain": [
       "array([0.951, 0.049])"
      ]
     },
     "execution_count": 4,
     "metadata": {},
     "output_type": "execute_result"
    }
   ],
   "source": [
    "get_probs(Q_s, epsilon, nA)"
   ]
  },
  {
   "cell_type": "code",
   "execution_count": 8,
   "id": "d1b4e38f",
   "metadata": {},
   "outputs": [
    {
     "data": {
      "text/plain": [
       "0"
      ]
     },
     "execution_count": 8,
     "metadata": {},
     "output_type": "execute_result"
    }
   ],
   "source": [
    "np.argmax(Q_s)"
   ]
  },
  {
   "cell_type": "code",
   "execution_count": 22,
   "id": "f727cfd7",
   "metadata": {},
   "outputs": [
    {
     "data": {
      "text/plain": [
       "1"
      ]
     },
     "execution_count": 22,
     "metadata": {},
     "output_type": "execute_result"
    }
   ],
   "source": [
    "np.random.choice(np.arange(nA), p=get_probs(Q_s, epsilon, nA))"
   ]
  },
  {
   "cell_type": "code",
   "execution_count": 7,
   "id": "21f068c8",
   "metadata": {},
   "outputs": [
    {
     "data": {
      "text/plain": [
       "array([0, 1])"
      ]
     },
     "execution_count": 7,
     "metadata": {},
     "output_type": "execute_result"
    }
   ],
   "source": [
    "np.arange(nA)"
   ]
  },
  {
   "cell_type": "code",
   "execution_count": null,
   "id": "92c703b0",
   "metadata": {},
   "outputs": [],
   "source": []
  }
 ],
 "metadata": {
  "kernelspec": {
   "display_name": "Python 3 (ipykernel)",
   "language": "python",
   "name": "python3"
  },
  "language_info": {
   "codemirror_mode": {
    "name": "ipython",
    "version": 3
   },
   "file_extension": ".py",
   "mimetype": "text/x-python",
   "name": "python",
   "nbconvert_exporter": "python",
   "pygments_lexer": "ipython3",
   "version": "3.8.10"
  }
 },
 "nbformat": 4,
 "nbformat_minor": 5
}
