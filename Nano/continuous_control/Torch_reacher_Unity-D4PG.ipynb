{
 "cells": [
  {
   "cell_type": "code",
   "execution_count": 2,
   "id": "807f79ac",
   "metadata": {},
   "outputs": [],
   "source": [
    "import random\n",
    "from typing import List, Tuple\n",
    "\n",
    "import gym\n",
    "import matplotlib.pyplot as plt\n",
    "import numpy as np\n",
    "import torch\n",
    "import torch.nn as nn\n",
    "import torch.nn.functional as F\n",
    "import torch.optim as optim\n",
    "from IPython.display import clear_output\n",
    "from torch.distributions import Normal\n",
    "from unityagents import UnityEnvironment\n",
    "import numpy as np\n",
    "from reacher.src.networks import * \n",
    "from reacher.src.utils import *"
   ]
  },
  {
   "cell_type": "code",
   "execution_count": 3,
   "id": "f56c2b81",
   "metadata": {},
   "outputs": [
    {
     "name": "stdout",
     "output_type": "stream",
     "text": [
      "cuda\n"
     ]
    }
   ],
   "source": [
    "device = torch.device(\n",
    "            \"cuda\" if torch.cuda.is_available() else \"cpu\"\n",
    "        )\n",
    "print(device)"
   ]
  },
  {
   "cell_type": "code",
   "execution_count": 5,
   "id": "aa3dad75",
   "metadata": {},
   "outputs": [
    {
     "name": "stderr",
     "output_type": "stream",
     "text": [
      "INFO:unityagents:\n",
      "'Academy' started successfully!\n",
      "Unity Academy name: Academy\n",
      "        Number of Brains: 1\n",
      "        Number of External Brains : 1\n",
      "        Lesson number : 0\n",
      "        Reset Parameters :\n",
      "\t\tgoal_speed -> 1.0\n",
      "\t\tgoal_size -> 5.0\n",
      "Unity brain name: ReacherBrain\n",
      "        Number of Visual Observations (per agent): 0\n",
      "        Vector Observation space type: continuous\n",
      "        Vector Observation space size (per agent): 33\n",
      "        Number of stacked Vector Observation: 1\n",
      "        Vector Action space type: continuous\n",
      "        Vector Action space size (per agent): 4\n",
      "        Vector Action descriptions: , , , \n"
     ]
    }
   ],
   "source": [
    "file_name = './Reacher_Windows_x86_One/Reacher_Windows_x86_64/Reacher.exe'\n",
    "worker_id = 10\n",
    "base_port = 5006\n",
    "env, brain_name, brain, action_size, env_info, state, state_size, n_agents = load_env(worker_id,\n",
    "                                                                                                  base_port, file_name,\n",
    "                                                                                                  True, True)"
   ]
  },
  {
   "cell_type": "code",
   "execution_count": 18,
   "id": "e695055c",
   "metadata": {},
   "outputs": [],
   "source": [
    "is_test = False\n",
    "transition= []\n",
    "gamma = 0.9\n",
    "entropy_weight = 1e-2\n",
    "TAU = 1e-3  # for soft update of target parameters\n",
    "LR_ACTOR = 1e-4  # learning rate of the actor\n",
    "LR_CRITIC = 1e-4  # learning rate of the critic\n",
    "vmax = 10\n",
    "vmin = -10\n",
    "n_atoms = 51\n",
    "N_step = 1\n",
    "UPDATE_EVERY = 10\n",
    "BATCH_SIZE = 64\n",
    "num_episodes= 10000 "
   ]
  },
  {
   "cell_type": "code",
   "execution_count": 7,
   "id": "3aece621",
   "metadata": {},
   "outputs": [],
   "source": [
    "# get the default brain\n",
    "brain_name = env.brain_names[0]\n",
    "brain = env.brains[brain_name]"
   ]
  },
  {
   "cell_type": "code",
   "execution_count": 8,
   "id": "490b1842",
   "metadata": {},
   "outputs": [
    {
     "name": "stdout",
     "output_type": "stream",
     "text": [
      "Number of agents: 1\n",
      "Size of each action: 4\n",
      "There are 1 agents. Each observes a state with length: 33\n",
      "The state for the first agent looks like: [ 0.00000000e+00 -4.00000000e+00  0.00000000e+00  1.00000000e+00\n",
      " -0.00000000e+00 -0.00000000e+00 -4.37113883e-08  0.00000000e+00\n",
      "  0.00000000e+00  0.00000000e+00  0.00000000e+00  0.00000000e+00\n",
      "  0.00000000e+00  0.00000000e+00 -1.00000000e+01  0.00000000e+00\n",
      "  1.00000000e+00 -0.00000000e+00 -0.00000000e+00 -4.37113883e-08\n",
      "  0.00000000e+00  0.00000000e+00  0.00000000e+00  0.00000000e+00\n",
      "  0.00000000e+00  0.00000000e+00 -6.30408478e+00 -1.00000000e+00\n",
      " -4.92529202e+00  0.00000000e+00  1.00000000e+00  0.00000000e+00\n",
      " -5.33014059e-01]\n"
     ]
    }
   ],
   "source": [
    "# reset the environment\n",
    "env_info = env.reset(train_mode=True)[brain_name]\n",
    "\n",
    "# number of agents\n",
    "num_agents = len(env_info.agents)\n",
    "print('Number of agents:', num_agents)\n",
    "\n",
    "# size of each action\n",
    "action_size = brain.vector_action_space_size\n",
    "print('Size of each action:', action_size)\n",
    "\n",
    "# examine the state space \n",
    "states = env_info.vector_observations\n",
    "state_size = states.shape[1]\n",
    "print('There are {} agents. Each observes a state with length: {}'.format(states.shape[0], state_size))\n",
    "print('The state for the first agent looks like:', states[0])"
   ]
  },
  {
   "cell_type": "code",
   "execution_count": 10,
   "id": "9a02e669",
   "metadata": {},
   "outputs": [
    {
     "data": {
      "text/plain": [
       "(array([[ 0.00000000e+00, -4.00000000e+00,  0.00000000e+00,\n",
       "          1.00000000e+00, -0.00000000e+00, -0.00000000e+00,\n",
       "         -4.37113883e-08,  0.00000000e+00,  0.00000000e+00,\n",
       "          0.00000000e+00,  0.00000000e+00,  0.00000000e+00,\n",
       "          0.00000000e+00,  0.00000000e+00, -1.00000000e+01,\n",
       "          0.00000000e+00,  1.00000000e+00, -0.00000000e+00,\n",
       "         -0.00000000e+00, -4.37113883e-08,  0.00000000e+00,\n",
       "          0.00000000e+00,  0.00000000e+00,  0.00000000e+00,\n",
       "          0.00000000e+00,  0.00000000e+00,  7.90150642e+00,\n",
       "         -1.00000000e+00,  1.25147498e+00,  0.00000000e+00,\n",
       "          1.00000000e+00,  0.00000000e+00, -2.99753308e-01]]),\n",
       " 1)"
      ]
     },
     "execution_count": 10,
     "metadata": {},
     "output_type": "execute_result"
    }
   ],
   "source": [
    "env_info = env.reset(train_mode=False)[brain_name]     # reset the environment    \n",
    "states = env_info.vector_observations                  # get the current state (for each agent)\n",
    "scores = np.zeros(num_agents) \n",
    "states,num_agents"
   ]
  },
  {
   "cell_type": "code",
   "execution_count": 11,
   "id": "411b12df",
   "metadata": {},
   "outputs": [
    {
     "data": {
      "text/plain": [
       "array([[ 0.00000000e+00, -4.00000000e+00,  0.00000000e+00,\n",
       "         1.00000000e+00, -0.00000000e+00, -0.00000000e+00,\n",
       "        -4.37113883e-08,  0.00000000e+00,  0.00000000e+00,\n",
       "         0.00000000e+00,  0.00000000e+00,  0.00000000e+00,\n",
       "         0.00000000e+00,  0.00000000e+00, -1.00000000e+01,\n",
       "         0.00000000e+00,  1.00000000e+00, -0.00000000e+00,\n",
       "        -0.00000000e+00, -4.37113883e-08,  0.00000000e+00,\n",
       "         0.00000000e+00,  0.00000000e+00,  0.00000000e+00,\n",
       "         0.00000000e+00,  0.00000000e+00,  7.90150642e+00,\n",
       "        -1.00000000e+00,  1.25147498e+00,  0.00000000e+00,\n",
       "         1.00000000e+00,  0.00000000e+00, -2.99753308e-01]])"
      ]
     },
     "execution_count": 11,
     "metadata": {},
     "output_type": "execute_result"
    }
   ],
   "source": [
    "states"
   ]
  },
  {
   "cell_type": "code",
   "execution_count": 12,
   "id": "ea871a30",
   "metadata": {},
   "outputs": [
    {
     "data": {
      "text/plain": [
       "(33, 4)"
      ]
     },
     "execution_count": 12,
     "metadata": {},
     "output_type": "execute_result"
    }
   ],
   "source": [
    "state_size, action_size"
   ]
  },
  {
   "cell_type": "code",
   "execution_count": 13,
   "id": "eb8b97d2",
   "metadata": {},
   "outputs": [
    {
     "data": {
      "text/plain": [
       "(33, 4)"
      ]
     },
     "execution_count": 13,
     "metadata": {},
     "output_type": "execute_result"
    }
   ],
   "source": [
    "obs_dim = state_size\n",
    "action_dim = action_size\n",
    "obs_dim, action_dim"
   ]
  },
  {
   "cell_type": "code",
   "execution_count": 19,
   "id": "ed09983f",
   "metadata": {},
   "outputs": [],
   "source": [
    "random_seed=42\n",
    "# Actor Network (w/ Target Network)\n",
    "actor_local = Actor_D4PG(state_size, action_size, random_seed).to(device)\n",
    "actor_target = Actor_D4PG(state_size, action_size, random_seed).to(device)\n",
    "actor_optimizer = optim.Adam(actor_local.parameters(), lr=LR_ACTOR)\n",
    "\n",
    "# initialize with its own Learning Rate\n",
    "actor_optimizer = optim.Adam(actor_local.parameters(), lr=LR_ACTOR)\n",
    "\n",
    "# Critic Network\n",
    "critic_local = CriticD4PG(state_size, action_size, random_seed, n_atoms=n_atoms, v_min=vmin,\n",
    "                               v_max=vmax).to(device)\n",
    "critic_target = CriticD4PG(state_size, action_size, random_seed, n_atoms=n_atoms, v_min=vmin,\n",
    "                                v_max=vmax).to(device)\n",
    "# initialize with its own Learning Rate\n",
    "critic_optimizer = optim.Adam(critic_local.parameters(), lr=LR_CRITIC)"
   ]
  },
  {
   "cell_type": "code",
   "execution_count": 31,
   "id": "8aced510",
   "metadata": {},
   "outputs": [],
   "source": [
    "BUFFER_SIZE = int(1e5)  # replay buffer size\n",
    "BATCH_SIZE = 128  # minibatch size\n",
    "memory = ReplayBuffer(device, action_size, BUFFER_SIZE, BATCH_SIZE, random_seed)"
   ]
  },
  {
   "cell_type": "code",
   "execution_count": 20,
   "id": "be5baace",
   "metadata": {},
   "outputs": [],
   "source": [
    "add_noise=True\n",
    "noise = OUNoise(action_size, random_seed)"
   ]
  },
  {
   "cell_type": "code",
   "execution_count": 21,
   "id": "c6343f9a",
   "metadata": {},
   "outputs": [],
   "source": [
    "env_info = env.reset(train_mode=True)[brain_name]  # reset the environment\n",
    "states = env_info.vector_observations\n",
    "\n",
    "score = np.zeros(n_agents)"
   ]
  },
  {
   "cell_type": "code",
   "execution_count": 22,
   "id": "a108f0bf",
   "metadata": {},
   "outputs": [
    {
     "data": {
      "text/plain": [
       "array([[ 0.00000000e+00, -4.00000000e+00,  0.00000000e+00,\n",
       "         1.00000000e+00, -0.00000000e+00, -0.00000000e+00,\n",
       "        -4.37113883e-08,  0.00000000e+00,  0.00000000e+00,\n",
       "         0.00000000e+00,  0.00000000e+00,  0.00000000e+00,\n",
       "         0.00000000e+00,  0.00000000e+00, -1.00000000e+01,\n",
       "         0.00000000e+00,  1.00000000e+00, -0.00000000e+00,\n",
       "        -0.00000000e+00, -4.37113883e-08,  0.00000000e+00,\n",
       "         0.00000000e+00,  0.00000000e+00,  0.00000000e+00,\n",
       "         0.00000000e+00,  0.00000000e+00,  3.50696945e+00,\n",
       "        -1.00000000e+00, -7.19035244e+00,  0.00000000e+00,\n",
       "         1.00000000e+00,  0.00000000e+00, -3.66842747e-03]])"
      ]
     },
     "execution_count": 22,
     "metadata": {},
     "output_type": "execute_result"
    }
   ],
   "source": [
    "states"
   ]
  },
  {
   "cell_type": "code",
   "execution_count": 24,
   "id": "1172390f",
   "metadata": {},
   "outputs": [],
   "source": [
    "state=torch.tensor(states).float().to(device)"
   ]
  },
  {
   "cell_type": "code",
   "execution_count": 25,
   "id": "4dd7ba88",
   "metadata": {},
   "outputs": [
    {
     "data": {
      "text/plain": [
       "Actor_D4PG(\n",
       "  (fc1): Linear(in_features=33, out_features=256, bias=True)\n",
       "  (fc2): Linear(in_features=256, out_features=4, bias=True)\n",
       "  (tanh): Tanh()\n",
       ")"
      ]
     },
     "execution_count": 25,
     "metadata": {},
     "output_type": "execute_result"
    }
   ],
   "source": [
    "actor_local.eval()\n",
    "with torch.no_grad():\n",
    "    action = actor_local(state).cpu().data.numpy()\n",
    "actor_local.train()"
   ]
  },
  {
   "cell_type": "code",
   "execution_count": 26,
   "id": "8eda3a98",
   "metadata": {},
   "outputs": [
    {
     "data": {
      "text/plain": [
       "array([[-0.37913406,  0.13970536,  0.31412667,  0.17244571]],\n",
       "      dtype=float32)"
      ]
     },
     "execution_count": 26,
     "metadata": {},
     "output_type": "execute_result"
    }
   ],
   "source": [
    "action += noise.sample()\n",
    "action = np.clip(action, -1.0, 1.0)\n",
    "action"
   ]
  },
  {
   "cell_type": "code",
   "execution_count": 27,
   "id": "8ec831f7",
   "metadata": {},
   "outputs": [
    {
     "data": {
      "text/plain": [
       "(array([[-7.78579712e-03, -3.99947238e+00,  7.05741048e-02,\n",
       "          9.99961019e-01, -9.68279841e-04,  7.15464284e-06,\n",
       "          8.77801143e-03, -3.49774599e-01, -4.06605803e-04,\n",
       "         -3.84921357e-02, -1.54749066e-01,  1.50330188e-02,\n",
       "          1.40603244e+00,  7.12203979e-03, -9.99792004e+00,\n",
       "          3.00594456e-02,  9.99873459e-01,  3.45206005e-03,\n",
       "          8.42855370e-05, -1.55305266e-02,  6.18893564e-01,\n",
       "         -4.83668083e-03,  1.37593284e-01,  3.43007952e-01,\n",
       "          8.03209916e-02, -3.01152080e-01,  3.50880623e+00,\n",
       "         -1.00000000e+00, -7.18945599e+00,  0.00000000e+00,\n",
       "          1.00000000e+00,  0.00000000e+00, -3.66842747e-03]]),\n",
       " [0.0],\n",
       " [False])"
      ]
     },
     "execution_count": 27,
     "metadata": {},
     "output_type": "execute_result"
    }
   ],
   "source": [
    "env_info = env.step(action)[brain_name]  # send the action to the environment\n",
    "next_states = env_info.vector_observations  # get the next state\n",
    "rewards = env_info.rewards  # get the reward\n",
    "dones = env_info.local_done\n",
    "next_states, rewards,dones"
   ]
  },
  {
   "cell_type": "code",
   "execution_count": 32,
   "id": "25c2f8bf",
   "metadata": {},
   "outputs": [],
   "source": [
    "memory.add(states, action, rewards, next_states, dones)"
   ]
  },
  {
   "cell_type": "code",
   "execution_count": 36,
   "id": "ef136f58",
   "metadata": {},
   "outputs": [
    {
     "data": {
      "text/plain": [
       "1"
      ]
     },
     "execution_count": 36,
     "metadata": {},
     "output_type": "execute_result"
    }
   ],
   "source": [
    "memory.__len__()"
   ]
  },
  {
   "cell_type": "code",
   "execution_count": 40,
   "id": "843d7bb1",
   "metadata": {},
   "outputs": [],
   "source": [
    "#critic_local(states, action)"
   ]
  },
  {
   "cell_type": "code",
   "execution_count": null,
   "id": "13ced648",
   "metadata": {},
   "outputs": [],
   "source": []
  },
  {
   "cell_type": "code",
   "execution_count": null,
   "id": "9cccc08c",
   "metadata": {},
   "outputs": [],
   "source": []
  },
  {
   "cell_type": "code",
   "execution_count": null,
   "id": "014461ef",
   "metadata": {},
   "outputs": [],
   "source": []
  },
  {
   "cell_type": "code",
   "execution_count": null,
   "id": "117ad9ce",
   "metadata": {},
   "outputs": [],
   "source": [
    "actor = Actor(obs_dim, action_dim).to(device)\n",
    "critic = Critic(obs_dim).to(device)"
   ]
  },
  {
   "cell_type": "code",
   "execution_count": null,
   "id": "ab1bad47",
   "metadata": {},
   "outputs": [],
   "source": [
    "actor_optimizer = optim.Adam(actor.parameters(), lr=1e-4)\n",
    "critic_optimizer = optim.Adam(critic.parameters(), lr=1e-3)"
   ]
  },
  {
   "cell_type": "code",
   "execution_count": null,
   "id": "9eaa87a3",
   "metadata": {},
   "outputs": [],
   "source": [
    "state = torch.from_numpy(states).float().to(device)\n",
    "state"
   ]
  },
  {
   "cell_type": "code",
   "execution_count": null,
   "id": "99e8d2e1",
   "metadata": {},
   "outputs": [],
   "source": [
    "action, dist = actor(state)\n",
    "action, dist"
   ]
  },
  {
   "cell_type": "code",
   "execution_count": null,
   "id": "4bae06a3",
   "metadata": {},
   "outputs": [],
   "source": [
    "selected_action = dist.mean if is_test else action\n",
    "selected_action"
   ]
  },
  {
   "cell_type": "code",
   "execution_count": null,
   "id": "474e94df",
   "metadata": {},
   "outputs": [],
   "source": [
    "if not is_test:\n",
    "    log_prob = dist.log_prob(selected_action).sum(dim=-1)\n",
    "    transition = [state, log_prob]\n",
    "transition"
   ]
  },
  {
   "cell_type": "code",
   "execution_count": null,
   "id": "14088335",
   "metadata": {},
   "outputs": [],
   "source": [
    "selected_action = selected_action.clamp(-2.0, 2.0).cpu().detach().numpy()\n",
    "selected_action"
   ]
  },
  {
   "cell_type": "code",
   "execution_count": null,
   "id": "a3d9c474",
   "metadata": {},
   "outputs": [],
   "source": [
    "next_state, reward, done, _ = env.step(selected_action)\n",
    "next_state, reward, done"
   ]
  },
  {
   "cell_type": "code",
   "execution_count": null,
   "id": "a008ae6a",
   "metadata": {},
   "outputs": [],
   "source": [
    "if not is_test:\n",
    "    transition.extend([next_state, reward, done])  \n",
    "transition"
   ]
  },
  {
   "cell_type": "code",
   "execution_count": null,
   "id": "89cc049c",
   "metadata": {},
   "outputs": [],
   "source": [
    "state, log_prob, next_state, reward, done = transition\n",
    "state, log_prob, next_state, reward, done"
   ]
  },
  {
   "cell_type": "code",
   "execution_count": null,
   "id": "b565d09a",
   "metadata": {},
   "outputs": [],
   "source": [
    "mask = 1 - done\n",
    "mask"
   ]
  },
  {
   "cell_type": "code",
   "execution_count": null,
   "id": "2430565c",
   "metadata": {},
   "outputs": [],
   "source": [
    "next_state = torch.FloatTensor(next_state).to(device)\n",
    "next_state"
   ]
  },
  {
   "cell_type": "code",
   "execution_count": null,
   "id": "cd448e65",
   "metadata": {},
   "outputs": [],
   "source": [
    "pred_value = critic(state)"
   ]
  },
  {
   "cell_type": "code",
   "execution_count": null,
   "id": "64e3841a",
   "metadata": {},
   "outputs": [],
   "source": [
    "pred_value"
   ]
  },
  {
   "cell_type": "code",
   "execution_count": null,
   "id": "4bd67d56",
   "metadata": {},
   "outputs": [],
   "source": [
    "targ_value = reward + gamma * critic(next_state) * mask\n",
    "targ_value"
   ]
  },
  {
   "cell_type": "code",
   "execution_count": null,
   "id": "1e0d6ec7",
   "metadata": {},
   "outputs": [],
   "source": [
    "value_loss = F.smooth_l1_loss(pred_value, targ_value.detach())\n",
    "value_loss"
   ]
  },
  {
   "cell_type": "code",
   "execution_count": null,
   "id": "767a7270",
   "metadata": {},
   "outputs": [],
   "source": [
    "# update value\n",
    "critic_optimizer.zero_grad()\n",
    "value_loss.backward()\n",
    "critic_optimizer.step()"
   ]
  },
  {
   "cell_type": "code",
   "execution_count": null,
   "id": "5d1dff24",
   "metadata": {},
   "outputs": [],
   "source": [
    "# advantage = Q_t - V(s_t)\n",
    "advantage = (targ_value - pred_value).detach()\n",
    "advantage"
   ]
  },
  {
   "cell_type": "code",
   "execution_count": null,
   "id": "04f9f616",
   "metadata": {},
   "outputs": [],
   "source": [
    "policy_loss = -advantage * log_prob\n",
    "policy_loss"
   ]
  },
  {
   "cell_type": "code",
   "execution_count": null,
   "id": "20c10b45",
   "metadata": {},
   "outputs": [],
   "source": [
    "policy_loss += entropy_weight * -log_prob\n",
    "policy_loss"
   ]
  },
  {
   "cell_type": "code",
   "execution_count": null,
   "id": "ae7c10ad",
   "metadata": {},
   "outputs": [],
   "source": [
    "# update policy\n",
    "actor_optimizer.zero_grad()\n",
    "policy_loss.backward()\n",
    "actor_optimizer.step()"
   ]
  },
  {
   "cell_type": "code",
   "execution_count": null,
   "id": "d427375d",
   "metadata": {},
   "outputs": [],
   "source": [
    "policy_loss.item(), value_loss.item()"
   ]
  },
  {
   "cell_type": "code",
   "execution_count": null,
   "id": "38797dfc",
   "metadata": {},
   "outputs": [],
   "source": []
  }
 ],
 "metadata": {
  "kernelspec": {
   "display_name": "drlnd",
   "language": "python",
   "name": "drlnd"
  },
  "language_info": {
   "codemirror_mode": {
    "name": "ipython",
    "version": 3
   },
   "file_extension": ".py",
   "mimetype": "text/x-python",
   "name": "python",
   "nbconvert_exporter": "python",
   "pygments_lexer": "ipython3",
   "version": "3.6.13"
  }
 },
 "nbformat": 4,
 "nbformat_minor": 5
}
