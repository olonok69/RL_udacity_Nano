{
 "cells": [
  {
   "cell_type": "code",
   "execution_count": 1,
   "id": "f4eed2df",
   "metadata": {},
   "outputs": [],
   "source": [
    "import random\n",
    "from typing import List, Tuple\n",
    "\n",
    "import gym\n",
    "import matplotlib.pyplot as plt\n",
    "import numpy as np\n",
    "import torch\n",
    "import torch.nn as nn\n",
    "import torch.nn.functional as F\n",
    "import torch.optim as optim\n",
    "from IPython.display import clear_output\n",
    "from torch.distributions import Normal"
   ]
  },
  {
   "cell_type": "code",
   "execution_count": 2,
   "id": "1cbd86b3",
   "metadata": {},
   "outputs": [],
   "source": [
    "def initialize_uniformly(layer: nn.Linear, init_w: float = 3e-3):\n",
    "    \"\"\"Initialize the weights and bias in [-init_w, init_w].\"\"\"\n",
    "    layer.weight.data.uniform_(-init_w, init_w)\n",
    "    layer.bias.data.uniform_(-init_w, init_w)\n",
    "\n",
    "\n",
    "class Actor(nn.Module):\n",
    "    def __init__(self, in_dim: int, out_dim: int):\n",
    "        \"\"\"Initialize.\"\"\"\n",
    "        super(Actor, self).__init__()\n",
    "        \n",
    "        self.hidden1 = nn.Linear(in_dim, 128)\n",
    "        self.mu_layer = nn.Linear(128, out_dim)     \n",
    "        self.log_std_layer = nn.Linear(128, out_dim)   \n",
    "        \n",
    "        initialize_uniformly(self.mu_layer)\n",
    "        initialize_uniformly(self.log_std_layer)\n",
    "\n",
    "    def forward(self, state: torch.Tensor) -> torch.Tensor:\n",
    "        \"\"\"Forward method implementation.\"\"\"\n",
    "        x = F.relu(self.hidden1(state))\n",
    "        \n",
    "        mu = torch.tanh(self.mu_layer(x)) * 2\n",
    "        log_std = F.softplus(self.log_std_layer(x))\n",
    "        std = torch.exp(log_std)\n",
    "        \n",
    "        dist = Normal(mu, std)\n",
    "        action = dist.sample()\n",
    "        \n",
    "        return action, dist\n",
    "    \n",
    "class Critic(nn.Module):\n",
    "    def __init__(self, in_dim: int):\n",
    "        \"\"\"Initialize.\"\"\"\n",
    "        super(Critic, self).__init__()\n",
    "        \n",
    "        self.hidden1 = nn.Linear(in_dim, 128)\n",
    "        self.out = nn.Linear(128, 1)\n",
    "        \n",
    "        initialize_uniformly(self.out)\n",
    "\n",
    "    def forward(self, state: torch.Tensor) -> torch.Tensor:\n",
    "        \"\"\"Forward method implementation.\"\"\"\n",
    "        x = F.relu(self.hidden1(state))\n",
    "        value = self.out(x)\n",
    "        \n",
    "        return value"
   ]
  },
  {
   "cell_type": "code",
   "execution_count": 7,
   "id": "2e5aece6",
   "metadata": {},
   "outputs": [
    {
     "name": "stdout",
     "output_type": "stream",
     "text": [
      "cuda\n"
     ]
    }
   ],
   "source": [
    "device = torch.device(\n",
    "            \"cuda\" if torch.cuda.is_available() else \"cpu\"\n",
    "        )\n",
    "print(device)"
   ]
  },
  {
   "cell_type": "code",
   "execution_count": 3,
   "id": "2cf8e536",
   "metadata": {},
   "outputs": [],
   "source": [
    "env_id = \"Pendulum-v0\"\n",
    "env = gym.make(env_id)"
   ]
  },
  {
   "cell_type": "code",
   "execution_count": 35,
   "id": "8374b7ed",
   "metadata": {},
   "outputs": [],
   "source": [
    "is_test = False\n",
    "transition= []\n",
    "gamma = 0.9\n",
    "entropy_weight = 1e-2"
   ]
  },
  {
   "cell_type": "code",
   "execution_count": 13,
   "id": "54be31b2",
   "metadata": {},
   "outputs": [],
   "source": [
    "state = env.reset()"
   ]
  },
  {
   "cell_type": "code",
   "execution_count": 11,
   "id": "af40c722",
   "metadata": {},
   "outputs": [
    {
     "data": {
      "text/plain": [
       "(3,)"
      ]
     },
     "execution_count": 11,
     "metadata": {},
     "output_type": "execute_result"
    }
   ],
   "source": [
    "env.observation_space.shape"
   ]
  },
  {
   "cell_type": "code",
   "execution_count": 12,
   "id": "5469098d",
   "metadata": {},
   "outputs": [
    {
     "data": {
      "text/plain": [
       "(1,)"
      ]
     },
     "execution_count": 12,
     "metadata": {},
     "output_type": "execute_result"
    }
   ],
   "source": [
    "env.action_space.shape"
   ]
  },
  {
   "cell_type": "code",
   "execution_count": 16,
   "id": "686d00fb",
   "metadata": {},
   "outputs": [
    {
     "data": {
      "text/plain": [
       "(3, 1)"
      ]
     },
     "execution_count": 16,
     "metadata": {},
     "output_type": "execute_result"
    }
   ],
   "source": [
    "obs_dim = env.observation_space.shape[0]\n",
    "action_dim = env.action_space.shape[0]\n",
    "obs_dim, action_dim"
   ]
  },
  {
   "cell_type": "code",
   "execution_count": 17,
   "id": "37c6a8bf",
   "metadata": {},
   "outputs": [],
   "source": [
    "actor = Actor(obs_dim, action_dim).to(device)\n",
    "critic = Critic(obs_dim).to(device)"
   ]
  },
  {
   "cell_type": "code",
   "execution_count": 18,
   "id": "4e4a6e9d",
   "metadata": {},
   "outputs": [],
   "source": [
    "actor_optimizer = optim.Adam(actor.parameters(), lr=1e-4)\n",
    "critic_optimizer = optim.Adam(critic.parameters(), lr=1e-3)"
   ]
  },
  {
   "cell_type": "code",
   "execution_count": 14,
   "id": "ec17a0a2",
   "metadata": {},
   "outputs": [],
   "source": [
    "state = torch.from_numpy(state).float().to(device)"
   ]
  },
  {
   "cell_type": "code",
   "execution_count": 22,
   "id": "d673bbdc",
   "metadata": {},
   "outputs": [
    {
     "data": {
      "text/plain": [
       "(tensor([-0.8187], device='cuda:0'),\n",
       " Normal(loc: tensor([-0.0029], device='cuda:0', grad_fn=<MulBackward0>), scale: tensor([1.9988], device='cuda:0', grad_fn=<ExpBackward0>)))"
      ]
     },
     "execution_count": 22,
     "metadata": {},
     "output_type": "execute_result"
    }
   ],
   "source": [
    "action, dist = actor(state)\n",
    "action, dist"
   ]
  },
  {
   "cell_type": "code",
   "execution_count": 23,
   "id": "9f60f873",
   "metadata": {},
   "outputs": [
    {
     "data": {
      "text/plain": [
       "tensor([-0.8187], device='cuda:0')"
      ]
     },
     "execution_count": 23,
     "metadata": {},
     "output_type": "execute_result"
    }
   ],
   "source": [
    "selected_action = dist.mean if is_test else action\n",
    "selected_action"
   ]
  },
  {
   "cell_type": "code",
   "execution_count": 25,
   "id": "3f66af99",
   "metadata": {},
   "outputs": [
    {
     "data": {
      "text/plain": [
       "[tensor([ 0.8697, -0.4935,  0.1179], device='cuda:0'),\n",
       " tensor(-1.6948, device='cuda:0', grad_fn=<SumBackward1>)]"
      ]
     },
     "execution_count": 25,
     "metadata": {},
     "output_type": "execute_result"
    }
   ],
   "source": [
    "if not is_test:\n",
    "    log_prob = dist.log_prob(selected_action).sum(dim=-1)\n",
    "    transition = [state, log_prob]\n",
    "transition"
   ]
  },
  {
   "cell_type": "code",
   "execution_count": 26,
   "id": "1d9a79d7",
   "metadata": {},
   "outputs": [
    {
     "data": {
      "text/plain": [
       "array([-0.81873894], dtype=float32)"
      ]
     },
     "execution_count": 26,
     "metadata": {},
     "output_type": "execute_result"
    }
   ],
   "source": [
    "selected_action = selected_action.clamp(-2.0, 2.0).cpu().detach().numpy()\n",
    "selected_action"
   ]
  },
  {
   "cell_type": "code",
   "execution_count": 28,
   "id": "c8960708",
   "metadata": {},
   "outputs": [
    {
     "data": {
      "text/plain": [
       "(array([ 0.8370765, -0.5470859, -0.8801508], dtype=float32),\n",
       " -0.3008234222532113,\n",
       " False)"
      ]
     },
     "execution_count": 28,
     "metadata": {},
     "output_type": "execute_result"
    }
   ],
   "source": [
    "next_state, reward, done, _ = env.step(selected_action)\n",
    "next_state, reward, done"
   ]
  },
  {
   "cell_type": "code",
   "execution_count": 29,
   "id": "71d83c7d",
   "metadata": {},
   "outputs": [
    {
     "data": {
      "text/plain": [
       "[tensor([ 0.8697, -0.4935,  0.1179], device='cuda:0'),\n",
       " tensor(-1.6948, device='cuda:0', grad_fn=<SumBackward1>),\n",
       " array([ 0.8370765, -0.5470859, -0.8801508], dtype=float32),\n",
       " -0.3008234222532113,\n",
       " False]"
      ]
     },
     "execution_count": 29,
     "metadata": {},
     "output_type": "execute_result"
    }
   ],
   "source": [
    "if not is_test:\n",
    "    transition.extend([next_state, reward, done])  \n",
    "transition"
   ]
  },
  {
   "cell_type": "code",
   "execution_count": 30,
   "id": "68b7e57a",
   "metadata": {},
   "outputs": [
    {
     "data": {
      "text/plain": [
       "(tensor([ 0.8697, -0.4935,  0.1179], device='cuda:0'),\n",
       " tensor(-1.6948, device='cuda:0', grad_fn=<SumBackward1>),\n",
       " array([ 0.8370765, -0.5470859, -0.8801508], dtype=float32),\n",
       " -0.3008234222532113,\n",
       " False)"
      ]
     },
     "execution_count": 30,
     "metadata": {},
     "output_type": "execute_result"
    }
   ],
   "source": [
    "state, log_prob, next_state, reward, done = transition\n",
    "state, log_prob, next_state, reward, done"
   ]
  },
  {
   "cell_type": "code",
   "execution_count": 31,
   "id": "f48bef9c",
   "metadata": {},
   "outputs": [
    {
     "data": {
      "text/plain": [
       "1"
      ]
     },
     "execution_count": 31,
     "metadata": {},
     "output_type": "execute_result"
    }
   ],
   "source": [
    "mask = 1 - done\n",
    "mask"
   ]
  },
  {
   "cell_type": "code",
   "execution_count": 32,
   "id": "74a3b9d0",
   "metadata": {},
   "outputs": [
    {
     "data": {
      "text/plain": [
       "tensor([ 0.8371, -0.5471, -0.8802], device='cuda:0')"
      ]
     },
     "execution_count": 32,
     "metadata": {},
     "output_type": "execute_result"
    }
   ],
   "source": [
    "next_state = torch.FloatTensor(next_state).to(device)\n",
    "next_state"
   ]
  },
  {
   "cell_type": "code",
   "execution_count": 44,
   "id": "c37b1044",
   "metadata": {},
   "outputs": [
    {
     "data": {
      "text/plain": [
       "tensor([ 0.8371, -0.5471, -0.8802], device='cuda:0')"
      ]
     },
     "execution_count": 44,
     "metadata": {},
     "output_type": "execute_result"
    }
   ],
   "source": [
    "torch.min(state, next_state)"
   ]
  },
  {
   "cell_type": "code",
   "execution_count": 33,
   "id": "d5c57533",
   "metadata": {},
   "outputs": [],
   "source": [
    "pred_value = critic(state)"
   ]
  },
  {
   "cell_type": "code",
   "execution_count": 34,
   "id": "dc6fd40b",
   "metadata": {},
   "outputs": [
    {
     "data": {
      "text/plain": [
       "tensor([0.0072], device='cuda:0', grad_fn=<AddBackward0>)"
      ]
     },
     "execution_count": 34,
     "metadata": {},
     "output_type": "execute_result"
    }
   ],
   "source": [
    "pred_value"
   ]
  },
  {
   "cell_type": "code",
   "execution_count": 36,
   "id": "293e44fd",
   "metadata": {},
   "outputs": [
    {
     "data": {
      "text/plain": [
       "tensor([-0.3020], device='cuda:0', grad_fn=<AddBackward0>)"
      ]
     },
     "execution_count": 36,
     "metadata": {},
     "output_type": "execute_result"
    }
   ],
   "source": [
    "targ_value = reward + gamma * critic(next_state) * mask\n",
    "targ_value"
   ]
  },
  {
   "cell_type": "code",
   "execution_count": 37,
   "id": "33e8ae6c",
   "metadata": {},
   "outputs": [
    {
     "data": {
      "text/plain": [
       "tensor(0.0478, device='cuda:0', grad_fn=<SmoothL1LossBackward0>)"
      ]
     },
     "execution_count": 37,
     "metadata": {},
     "output_type": "execute_result"
    }
   ],
   "source": [
    "value_loss = F.smooth_l1_loss(pred_value, targ_value.detach())\n",
    "value_loss"
   ]
  },
  {
   "cell_type": "code",
   "execution_count": 38,
   "id": "4abf7d03",
   "metadata": {},
   "outputs": [],
   "source": [
    "# update value\n",
    "critic_optimizer.zero_grad()\n",
    "value_loss.backward()\n",
    "critic_optimizer.step()"
   ]
  },
  {
   "cell_type": "code",
   "execution_count": 39,
   "id": "9025da9a",
   "metadata": {},
   "outputs": [
    {
     "data": {
      "text/plain": [
       "tensor([-0.3092], device='cuda:0')"
      ]
     },
     "execution_count": 39,
     "metadata": {},
     "output_type": "execute_result"
    }
   ],
   "source": [
    "# advantage = Q_t - V(s_t)\n",
    "advantage = (targ_value - pred_value).detach()\n",
    "advantage"
   ]
  },
  {
   "cell_type": "code",
   "execution_count": 40,
   "id": "69e74503",
   "metadata": {},
   "outputs": [
    {
     "data": {
      "text/plain": [
       "tensor([-0.5241], device='cuda:0', grad_fn=<MulBackward0>)"
      ]
     },
     "execution_count": 40,
     "metadata": {},
     "output_type": "execute_result"
    }
   ],
   "source": [
    "policy_loss = -advantage * log_prob\n",
    "policy_loss"
   ]
  },
  {
   "cell_type": "code",
   "execution_count": 41,
   "id": "391b66bc",
   "metadata": {},
   "outputs": [
    {
     "data": {
      "text/plain": [
       "tensor([-0.5071], device='cuda:0', grad_fn=<AddBackward0>)"
      ]
     },
     "execution_count": 41,
     "metadata": {},
     "output_type": "execute_result"
    }
   ],
   "source": [
    "policy_loss += entropy_weight * -log_prob\n",
    "policy_loss"
   ]
  },
  {
   "cell_type": "code",
   "execution_count": 42,
   "id": "93724ae4",
   "metadata": {},
   "outputs": [],
   "source": [
    "# update policy\n",
    "actor_optimizer.zero_grad()\n",
    "policy_loss.backward()\n",
    "actor_optimizer.step()"
   ]
  },
  {
   "cell_type": "code",
   "execution_count": 43,
   "id": "6ed75882",
   "metadata": {},
   "outputs": [
    {
     "data": {
      "text/plain": [
       "(-0.5071378946304321, 0.0478142611682415)"
      ]
     },
     "execution_count": 43,
     "metadata": {},
     "output_type": "execute_result"
    }
   ],
   "source": [
    "policy_loss.item(), value_loss.item()"
   ]
  },
  {
   "cell_type": "code",
   "execution_count": null,
   "id": "c88696bf",
   "metadata": {},
   "outputs": [],
   "source": []
  }
 ],
 "metadata": {
  "kernelspec": {
   "display_name": "drlnd",
   "language": "python",
   "name": "drlnd"
  },
  "language_info": {
   "codemirror_mode": {
    "name": "ipython",
    "version": 3
   },
   "file_extension": ".py",
   "mimetype": "text/x-python",
   "name": "python",
   "nbconvert_exporter": "python",
   "pygments_lexer": "ipython3",
   "version": "3.6.13"
  }
 },
 "nbformat": 4,
 "nbformat_minor": 5
}
