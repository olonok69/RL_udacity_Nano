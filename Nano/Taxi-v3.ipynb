{
 "cells": [
  {
   "cell_type": "code",
   "execution_count": 1,
   "id": "89e40ec6",
   "metadata": {},
   "outputs": [],
   "source": [
    "import sys\n",
    "import gym\n",
    "import numpy as np\n",
    "from collections import defaultdict, deque\n",
    "import matplotlib.pyplot as plt\n",
    "%matplotlib inline\n"
   ]
  },
  {
   "cell_type": "code",
   "execution_count": 3,
   "id": "3a126bb2",
   "metadata": {},
   "outputs": [],
   "source": [
    "env = gym.make('Taxi-v3')"
   ]
  },
  {
   "cell_type": "code",
   "execution_count": 4,
   "id": "9c68af2d",
   "metadata": {},
   "outputs": [
    {
     "data": {
      "text/plain": [
       "334"
      ]
     },
     "execution_count": 4,
     "metadata": {},
     "output_type": "execute_result"
    }
   ],
   "source": [
    "env.reset()"
   ]
  },
  {
   "cell_type": "code",
   "execution_count": 5,
   "id": "df3eb2ac",
   "metadata": {},
   "outputs": [
    {
     "name": "stdout",
     "output_type": "stream",
     "text": [
      "Discrete(6)\n",
      "Discrete(500)\n"
     ]
    }
   ],
   "source": [
    "print(env.action_space)\n",
    "print(env.observation_space)"
   ]
  },
  {
   "cell_type": "code",
   "execution_count": 6,
   "id": "31bec8dc",
   "metadata": {},
   "outputs": [
    {
     "data": {
      "text/plain": [
       "(234, -1, False, {'prob': 1.0})"
      ]
     },
     "execution_count": 6,
     "metadata": {},
     "output_type": "execute_result"
    }
   ],
   "source": [
    "env.step(1)"
   ]
  },
  {
   "cell_type": "code",
   "execution_count": 7,
   "id": "b26245e9",
   "metadata": {},
   "outputs": [
    {
     "data": {
      "text/plain": [
       "223"
      ]
     },
     "execution_count": 7,
     "metadata": {},
     "output_type": "execute_result"
    }
   ],
   "source": [
    "env.reset()"
   ]
  },
  {
   "cell_type": "code",
   "execution_count": 9,
   "id": "08a52991",
   "metadata": {},
   "outputs": [
    {
     "data": {
      "text/plain": [
       "(203, -1, False, {'prob': 1.0})"
      ]
     },
     "execution_count": 9,
     "metadata": {},
     "output_type": "execute_result"
    }
   ],
   "source": [
    "env.step(3)"
   ]
  },
  {
   "cell_type": "code",
   "execution_count": 10,
   "id": "b879c068",
   "metadata": {},
   "outputs": [],
   "source": [
    "def update_Q(Qsa, Qsa_next, reward, alpha, gamma):\n",
    "    \"\"\" updates the action-value function estimate using the most recent time step \"\"\"\n",
    "    return Qsa + (alpha * (reward + (gamma * Qsa_next) - Qsa))\n",
    "\n",
    "def epsilon_greedy_probs(env, Q_s, i_episode, eps=None):\n",
    "    \"\"\" obtains the action probabilities corresponding to epsilon-greedy policy \"\"\"\n",
    "    epsilon = 1.0 / i_episode\n",
    "    if eps is not None:\n",
    "        epsilon = eps\n",
    "    policy_s = np.ones(env.nA) * epsilon / env.nA\n",
    "    policy_s[np.argmax(Q_s)] = 1 - epsilon + (epsilon / env.nA)\n",
    "    return policy_s"
   ]
  },
  {
   "cell_type": "code",
   "execution_count": 11,
   "id": "a5451a27",
   "metadata": {},
   "outputs": [],
   "source": [
    "def sarsa(env, num_episodes, alpha, gamma=1.0):\n",
    "    # initialize action-value function (empty dictionary of arrays)\n",
    "    Q = defaultdict(lambda: np.zeros(env.nA))\n",
    "    # initialize performance monitor\n",
    "    plot_every = 100\n",
    "    tmp_scores = deque(maxlen=plot_every)\n",
    "    scores = deque(maxlen=num_episodes)\n",
    "    # loop over episodes\n",
    "    for i_episode in range(1, num_episodes+1):\n",
    "        # monitor progress\n",
    "        if i_episode % 100 == 0:\n",
    "            print(\"\\rEpisode {}/{}\".format(i_episode, num_episodes), end=\"\")\n",
    "            sys.stdout.flush()   \n",
    "        # initialize score\n",
    "        score = 0\n",
    "        # begin an episode, observe S\n",
    "        state = env.reset()   \n",
    "        # get epsilon-greedy action probabilities\n",
    "        policy_s = epsilon_greedy_probs(env, Q[state], i_episode)\n",
    "        # pick action A\n",
    "        action = np.random.choice(np.arange(env.nA), p=policy_s)\n",
    "        # limit number of time steps per episode\n",
    "        for t_step in np.arange(300):\n",
    "            # take action A, observe R, S'\n",
    "            next_state, reward, done, info = env.step(action)\n",
    "            # add reward to score\n",
    "            score += reward\n",
    "            if not done:\n",
    "                # get epsilon-greedy action probabilities\n",
    "                policy_s = epsilon_greedy_probs(env, Q[next_state], i_episode)\n",
    "                # pick next action A'\n",
    "                next_action = np.random.choice(np.arange(env.nA), p=policy_s)\n",
    "                # update TD estimate of Q\n",
    "                Q[state][action] = update_Q(Q[state][action], Q[next_state][next_action], \n",
    "                                            reward, alpha, gamma)\n",
    "                # S <- S'\n",
    "                state = next_state\n",
    "                # A <- A'\n",
    "                action = next_action\n",
    "            if done:\n",
    "                # update TD estimate of Q\n",
    "                #print(next_state)\n",
    "                Q[state][action] = update_Q(Q[state][action], 0, reward, alpha, gamma)\n",
    "                # append score\n",
    "                tmp_scores.append(score)\n",
    "                break\n",
    "        if (i_episode % plot_every == 0):\n",
    "            scores.append(np.mean(tmp_scores))\n",
    "    # plot performance\n",
    "    plt.plot(np.linspace(0,num_episodes,len(scores),endpoint=False),np.asarray(scores))\n",
    "    plt.xlabel('Episode Number')\n",
    "    plt.ylabel('Average Reward (Over Next %d Episodes)' % plot_every)\n",
    "    plt.show()\n",
    "    # print best 100-episode performance\n",
    "    print(('Best Average Reward over %d Episodes: ' % plot_every), np.max(scores))\n",
    "    return Q"
   ]
  },
  {
   "cell_type": "code",
   "execution_count": 12,
   "id": "fa26c4b6",
   "metadata": {},
   "outputs": [
    {
     "name": "stdout",
     "output_type": "stream",
     "text": [
      "Episode 5000/5000"
     ]
    },
    {
     "data": {
      "image/png": "[encoded data removed]",
      "text/plain": [
       "<Figure size 432x288 with 1 Axes>"
      ]
     },
     "metadata": {
      "needs_background": "light"
     },
     "output_type": "display_data"
    },
    {
     "name": "stdout",
     "output_type": "stream",
     "text": [
      "Best Average Reward over 100 Episodes:  -48.44\n"
     ]
    }
   ],
   "source": [
    "# obtain the estimated optimal policy and corresponding action-value function\n",
    "Q_sarsa = sarsa(env, 5000, .01)"
   ]
  },
  {
   "cell_type": "code",
   "execution_count": 14,
   "id": "9840c9f3",
   "metadata": {},
   "outputs": [],
   "source": [
    "# print the estimated optimal policy\n",
    "policy_sarsa = np.array([np.argmax(Q_sarsa[key]) if key in Q_sarsa else -1 for key in np.arange(500)])"
   ]
  },
  {
   "cell_type": "code",
   "execution_count": 15,
   "id": "80d45109",
   "metadata": {},
   "outputs": [
    {
     "data": {
      "text/plain": [
       "array([-1,  4,  4,  4,  3, -1,  2,  2,  3,  0, -1,  4,  1,  0,  1, -1,  5,\n",
       "        0,  0,  0, -1,  3,  3,  3,  2, -1,  1,  3,  0,  0, -1,  2,  0,  3,\n",
       "        1, -1,  3,  0,  0,  0, -1,  2,  2,  2,  0, -1,  3,  1,  3,  0, -1,\n",
       "        0,  0,  2,  0, -1,  0,  2,  0,  0, -1,  3,  2,  1,  2, -1,  3,  2,\n",
       "        1,  2, -1,  3,  3,  0,  1, -1,  0,  2,  0,  0, -1,  3,  2,  0,  4,\n",
       "       -1,  4,  4,  0,  1, -1,  3,  2,  3,  1, -1,  3,  5,  3,  0, -1,  1,\n",
       "        1,  1,  1, -1,  1,  2,  3,  3, -1,  2,  1,  0,  3, -1,  1,  0,  0,\n",
       "        0, -1,  3,  3,  3,  3, -1,  1,  2,  2,  1, -1,  0,  2,  2,  1, -1,\n",
       "        3,  0,  0,  0, -1,  1,  0,  1,  3, -1,  1,  3,  1,  2, -1,  0,  2,\n",
       "        2,  1, -1,  0,  2,  0,  0, -1,  1,  0,  0,  2, -1,  5,  3,  0,  0,\n",
       "       -1,  3,  1,  2,  2, -1,  0,  2,  0,  0, -1,  0,  0,  3,  3, -1,  1,\n",
       "        1,  3,  3, -1,  0,  3,  0,  3, -1,  3,  1,  3,  3, -1,  1,  1,  2,\n",
       "        0, -1,  3,  1,  0,  2, -1,  1,  1,  0,  1, -1,  1,  2,  0,  2, -1,\n",
       "        3,  1,  1,  2, -1,  2,  3,  3,  0, -1,  3,  3,  3,  0, -1,  3,  2,\n",
       "        3,  2, -1,  1,  2,  2,  3, -1,  0,  2,  4,  2, -1,  1,  0,  2,  3,\n",
       "       -1,  3,  2,  3,  2, -1,  1,  3,  2,  3, -1,  3,  2,  1,  2, -1,  0,\n",
       "        2,  0,  0, -1,  3,  2,  3,  0, -1,  1,  2,  3,  3, -1,  0,  3,  1,\n",
       "        0, -1,  0,  2,  4,  1, -1,  3,  1,  3,  3, -1,  0,  0,  0,  2, -1,\n",
       "        0,  3,  0,  0, -1,  0,  0,  2,  0, -1,  1,  1,  0,  1, -1,  2,  1,\n",
       "        1,  1, -1,  2,  0,  2,  2, -1,  0,  0,  2,  2, -1,  1,  0,  2,  2,\n",
       "       -1,  0,  2,  3,  3, -1,  3,  1,  3,  3, -1,  2,  3,  1,  0, -1,  0,\n",
       "        3,  0,  1, -1,  2,  0,  3,  1, -1,  2,  4,  0,  3, -1,  0,  0,  0,\n",
       "        0, -1,  1,  1,  1,  0, -1,  1,  0,  3,  0, -1,  0,  2,  3,  2, -1,\n",
       "        1,  3,  1,  0, -1,  2,  1,  0,  3, -1,  0,  0,  3,  2, -1,  0,  2,\n",
       "        4,  4, -1,  4,  0,  3,  3, -1,  1,  1,  5,  1, -1,  2,  0,  1,  5,\n",
       "       -1,  3,  0,  3,  0, -1,  1,  3,  3,  4, -1,  1,  3,  2,  0, -1,  3,\n",
       "        2,  3,  3, -1,  0,  2,  3,  0, -1,  0,  3,  0,  3, -1,  3,  0,  2,\n",
       "        3, -1,  0,  1,  0,  3, -1,  1,  1,  0,  0, -1,  0,  4,  4,  4, -1,\n",
       "        1,  1,  1,  5, -1,  0,  3,  0,  2, -1,  3,  1,  0,  3, -1,  0,  3,\n",
       "        3,  1, -1,  3,  1,  3,  3], dtype=int64)"
      ]
     },
     "execution_count": 15,
     "metadata": {},
     "output_type": "execute_result"
    }
   ],
   "source": [
    "policy_sarsa"
   ]
  },
  {
   "cell_type": "code",
   "execution_count": 19,
   "id": "800cb9fc",
   "metadata": {},
   "outputs": [
    {
     "data": {
      "text/plain": [
       "array([-4.31020292, -4.30972435, -4.31479837, -4.3151394 , -4.37754542,\n",
       "       -4.47654306])"
      ]
     },
     "execution_count": 19,
     "metadata": {},
     "output_type": "execute_result"
    }
   ],
   "source": [
    "Q_sarsa[268]"
   ]
  },
  {
   "cell_type": "code",
   "execution_count": 20,
   "id": "6e5e14cc",
   "metadata": {},
   "outputs": [],
   "source": [
    "def q_learning(env, num_episodes, alpha, gamma=1.0):\n",
    "    # initialize action-value function (empty dictionary of arrays)\n",
    "    Q = defaultdict(lambda: np.zeros(env.nA))\n",
    "    # initialize performance monitor\n",
    "    plot_every = 100\n",
    "    tmp_scores = deque(maxlen=plot_every)\n",
    "    scores = deque(maxlen=num_episodes)\n",
    "    # loop over episodes\n",
    "    for i_episode in range(1, num_episodes+1):\n",
    "        # monitor progress\n",
    "        if i_episode % 100 == 0:\n",
    "            print(\"\\rEpisode {}/{}\".format(i_episode, num_episodes), end=\"\")\n",
    "            sys.stdout.flush()\n",
    "        # initialize score\n",
    "        score = 0\n",
    "        # begin an episode, observe S\n",
    "        state = env.reset()\n",
    "        while True:\n",
    "            # get epsilon-greedy action probabilities\n",
    "            policy_s = epsilon_greedy_probs(env, Q[state], i_episode)\n",
    "            # pick next action A\n",
    "            action = np.random.choice(np.arange(env.nA), p=policy_s)\n",
    "            # take action A, observe R, S'\n",
    "            next_state, reward, done, info = env.step(action)\n",
    "            # add reward to score\n",
    "            score += reward\n",
    "            # update Q\n",
    "            Q[state][action] = update_Q(Q[state][action], np.max(Q[next_state]), \\\n",
    "                                                  reward, alpha, gamma)        \n",
    "            # S <- S'\n",
    "            state = next_state\n",
    "            # until S is terminal\n",
    "            if done:\n",
    "                # append score\n",
    "                tmp_scores.append(score)\n",
    "                break\n",
    "        if (i_episode % plot_every == 0):\n",
    "            scores.append(np.mean(tmp_scores))\n",
    "    # plot performance\n",
    "    plt.plot(np.linspace(0,num_episodes,len(scores),endpoint=False),np.asarray(scores))\n",
    "    plt.xlabel('Episode Number')\n",
    "    plt.ylabel('Average Reward (Over Next %d Episodes)' % plot_every)\n",
    "    plt.show()\n",
    "    # print best 100-episode performance\n",
    "    print(('Best Average Reward over %d Episodes: ' % plot_every), np.max(scores))\n",
    "    return Q"
   ]
  },
  {
   "cell_type": "code",
   "execution_count": 22,
   "id": "838a7362",
   "metadata": {},
   "outputs": [
    {
     "name": "stdout",
     "output_type": "stream",
     "text": [
      "Episode 5000/5000"
     ]
    },
    {
     "data": {
      "image/png": "[encoded data removed]",
      "text/plain": [
       "<Figure size 432x288 with 1 Axes>"
      ]
     },
     "metadata": {
      "needs_background": "light"
     },
     "output_type": "display_data"
    },
    {
     "name": "stdout",
     "output_type": "stream",
     "text": [
      "Best Average Reward over 100 Episodes:  8.38\n"
     ]
    }
   ],
   "source": [
    "# obtain the estimated optimal policy and corresponding action-value function\n",
    "Q_sarsamax = q_learning(env, 5000, .1)"
   ]
  },
  {
   "cell_type": "code",
   "execution_count": 23,
   "id": "f2d4aec0",
   "metadata": {},
   "outputs": [
    {
     "data": {
      "text/plain": [
       "array([ 0,  4,  4,  4,  0, -1,  0,  2,  0,  0, -1,  0,  2,  0,  0, -1,  5,\n",
       "        0,  0,  0, -1,  3,  3,  3,  0, -1,  0,  0,  3,  3, -1,  0,  0,  0,\n",
       "        0, -1,  3,  0,  2,  0, -1,  0,  0,  0,  2, -1,  2,  2,  0,  0, -1,\n",
       "        0,  2,  2,  0, -1,  0,  2,  2,  1, -1,  0,  0,  0,  2, -1,  2,  2,\n",
       "        0,  0, -1,  3,  0,  0,  0, -1,  0,  2,  0,  0, -1,  3,  0,  0,  4,\n",
       "        0,  4,  4,  3,  3, -1,  3,  3,  3,  3, -1,  0,  5,  0,  0, -1,  1,\n",
       "        1,  1,  2, -1,  2,  2,  0,  0, -1,  0,  0,  2,  0, -1,  1,  2,  0,\n",
       "        0, -1,  3,  3,  3,  0, -1,  0,  0,  0,  0, -1,  3,  0,  0,  0, -1,\n",
       "        3,  0,  1,  0, -1,  0,  0,  0,  2, -1,  2,  2,  0,  0, -1,  0,  2,\n",
       "        0,  0, -1,  0,  2,  0,  0, -1,  0,  0,  0,  2, -1,  2,  2,  0,  3,\n",
       "       -1,  3,  0,  0,  0, -1,  0,  1,  0,  0, -1,  3,  0,  0,  1, -1,  1,\n",
       "        1,  0,  3, -1,  0,  3,  3,  3, -1,  3,  1,  3,  3, -1,  1,  1,  1,\n",
       "        2, -1,  2,  2,  0,  0, -1,  0,  2,  2,  2, -1,  1,  2,  0,  2, -1,\n",
       "        1,  1,  1,  2, -1,  2,  2,  3,  3, -1,  3,  2,  2,  2, -1,  1,  2,\n",
       "        3,  2, -1,  3,  3,  3,  2, -1,  2,  1,  3,  3, -1,  3,  2,  2,  2,\n",
       "       -1,  3,  2,  3,  2, -1,  3,  3,  3,  1, -1,  1,  2,  3,  3, -1,  3,\n",
       "        0,  0,  0, -1,  3,  2,  3,  0, -1,  3,  3,  3,  1, -1,  1,  1,  3,\n",
       "        3, -1,  3,  3,  0,  3, -1,  3,  1,  3,  3, -1,  1,  1,  1,  1, -1,\n",
       "        1,  1,  0,  0, -1,  0,  1,  1,  1, -1,  1,  1,  0,  1, -1,  1,  1,\n",
       "        1,  1, -1,  2,  1,  1,  1, -1,  1,  1,  1,  1, -1,  3,  3,  0,  1,\n",
       "       -1,  1,  3,  1,  1, -1,  1,  1,  1,  1, -1,  3,  1,  1,  1, -1,  2,\n",
       "        1,  3,  2, -1,  1,  1,  1,  1, -1,  1,  1,  1,  1, -1,  1,  0,  0,\n",
       "        0, -1,  1,  1,  1,  0, -1,  3,  1,  1,  1, -1,  1,  1,  1,  1, -1,\n",
       "        3,  0,  3,  3, -1,  3,  1,  2,  3, -1,  1,  1,  1,  1, -1,  1,  1,\n",
       "        4,  4,  0,  4,  1,  1,  1, -1,  1,  1,  5,  1, -1,  1,  1,  1,  1,\n",
       "       -1,  2,  1,  1,  1, -1,  1,  1,  1,  1, -1,  3,  0,  2,  0, -1,  1,\n",
       "        3,  1,  1, -1,  1,  1,  1,  3, -1,  3,  1,  1,  1, -1,  2,  0,  0,\n",
       "        3, -1,  1,  1,  1,  1, -1,  1,  1,  1,  1, -1,  1,  4,  4,  4,  0,\n",
       "        1,  1,  1,  5, -1,  3,  1,  1,  1, -1,  1,  1,  1,  1, -1,  1,  3,\n",
       "        3,  3, -1,  0,  1,  2,  3], dtype=int64)"
      ]
     },
     "execution_count": 23,
     "metadata": {},
     "output_type": "execute_result"
    }
   ],
   "source": [
    "# print the estimated optimal policy\n",
    "policy_sarsamax = np.array([np.argmax(Q_sarsamax[key]) if key in Q_sarsamax else -1 for key in np.arange(500)])\n",
    "policy_sarsamax"
   ]
  },
  {
   "cell_type": "code",
   "execution_count": 24,
   "id": "2b48f052",
   "metadata": {},
   "outputs": [],
   "source": [
    "def expected_sarsa(env, num_episodes, alpha, gamma=1.0):\n",
    "    # initialize action-value function (empty dictionary of arrays)\n",
    "    Q = defaultdict(lambda: np.zeros(env.nA))\n",
    "    # initialize performance monitor\n",
    "    plot_every = 100\n",
    "    tmp_scores = deque(maxlen=plot_every)\n",
    "    scores = deque(maxlen=num_episodes)\n",
    "    # loop over episodes\n",
    "    for i_episode in range(1, num_episodes+1):\n",
    "        # monitor progress\n",
    "        if i_episode % 100 == 0:\n",
    "            print(\"\\rEpisode {}/{}\".format(i_episode, num_episodes), end=\"\")\n",
    "            sys.stdout.flush()\n",
    "        # initialize score\n",
    "        score = 0\n",
    "        # begin an episode\n",
    "        state = env.reset()\n",
    "        # get epsilon-greedy action probabilities\n",
    "        policy_s = epsilon_greedy_probs(env, Q[state], i_episode, 0.005)\n",
    "        while True:\n",
    "            # pick next action\n",
    "            action = np.random.choice(np.arange(env.nA), p=policy_s)\n",
    "            # take action A, observe R, S'\n",
    "            next_state, reward, done, info = env.step(action)\n",
    "            # add reward to score\n",
    "            score += reward\n",
    "            # get epsilon-greedy action probabilities (for S')\n",
    "            policy_s = epsilon_greedy_probs(env, Q[next_state], i_episode, 0.005)\n",
    "            # update Q\n",
    "            Q[state][action] = update_Q(Q[state][action], np.dot(Q[next_state], policy_s), \\\n",
    "                                                  reward, alpha, gamma)        \n",
    "            # S <- S'\n",
    "            state = next_state\n",
    "            # until S is terminal\n",
    "            if done:\n",
    "                # append score\n",
    "                tmp_scores.append(score)\n",
    "                break\n",
    "        if (i_episode % plot_every == 0):\n",
    "            scores.append(np.mean(tmp_scores))\n",
    "    # plot performance\n",
    "    plt.plot(np.linspace(0,num_episodes,len(scores),endpoint=False),np.asarray(scores))\n",
    "    plt.xlabel('Episode Number')\n",
    "    plt.ylabel('Average Reward (Over Next %d Episodes)' % plot_every)\n",
    "    plt.show()\n",
    "    # print best 100-episode performance\n",
    "    print(('Best Average Reward over %d Episodes: ' % plot_every), np.max(scores))\n",
    "    return Q"
   ]
  },
  {
   "cell_type": "code",
   "execution_count": 25,
   "id": "e54083ed",
   "metadata": {},
   "outputs": [
    {
     "name": "stdout",
     "output_type": "stream",
     "text": [
      "Episode 10000/10000"
     ]
    },
    {
     "data": {
      "image/png": "[encoded data removed]",
      "text/plain": [
       "<Figure size 432x288 with 1 Axes>"
      ]
     },
     "metadata": {
      "needs_background": "light"
     },
     "output_type": "display_data"
    },
    {
     "name": "stdout",
     "output_type": "stream",
     "text": [
      "Best Average Reward over 100 Episodes:  8.24\n"
     ]
    }
   ],
   "source": [
    "# obtain the estimated optimal policy and corresponding action-value function\n",
    "Q_expsarsa = expected_sarsa(env, 10000, 1)"
   ]
  },
  {
   "cell_type": "code",
   "execution_count": 26,
   "id": "4d3a2c5e",
   "metadata": {},
   "outputs": [
    {
     "data": {
      "text/plain": [
       "array([ 0,  4,  4,  4,  0, -1,  0,  2,  0,  2, -1,  0,  2,  0,  0, -1,  5,\n",
       "        0,  0,  2, -1,  3,  3,  3,  0, -1,  0,  0,  3,  0, -1,  0,  0,  0,\n",
       "        0, -1,  3,  3,  2,  0, -1,  0,  0,  0,  2, -1,  2,  2,  0,  0, -1,\n",
       "        0,  0,  0,  0, -1,  0,  2,  0,  3, -1,  0,  0,  0,  2, -1,  2,  2,\n",
       "        3,  0, -1,  3,  3,  0,  0, -1,  3,  2,  0,  3, -1,  0,  0,  0,  4,\n",
       "        0,  4,  4,  3,  3, -1,  3,  3,  0,  0, -1,  3,  5,  0,  0, -1,  1,\n",
       "        1,  1,  2, -1,  0,  2,  0,  0, -1,  0,  2,  0,  2, -1,  1,  0,  0,\n",
       "        2, -1,  1,  3,  3,  0, -1,  0,  0,  0,  0, -1,  3,  0,  0,  0, -1,\n",
       "        3,  0,  0,  0, -1,  0,  0,  0,  2, -1,  2,  1,  0,  0, -1,  0,  0,\n",
       "        0,  0, -1,  0,  2,  0,  2, -1,  0,  3,  0,  2, -1,  2,  1,  3,  3,\n",
       "       -1,  3,  0,  0,  0, -1,  0,  1,  0,  0, -1,  3,  3,  3,  1, -1,  1,\n",
       "        1,  0,  1, -1,  3,  3,  0,  0, -1,  3,  1,  0,  0, -1,  1,  1,  1,\n",
       "        2, -1,  2,  2,  0,  0, -1,  0,  2,  2,  2, -1,  1,  2,  0,  2, -1,\n",
       "        1,  1,  1,  2, -1,  2,  2,  3,  3, -1,  3,  2,  2,  2, -1,  1,  2,\n",
       "        3,  2, -1,  3,  3,  3,  2, -1,  2,  2,  3,  3, -1,  3,  2,  2,  2,\n",
       "       -1,  3,  2,  3,  2, -1,  3,  3,  3,  1, -1,  2,  2,  3,  1, -1,  3,\n",
       "        0,  0,  0, -1,  3,  1,  3,  0, -1,  3,  3,  3,  1, -1,  1,  1,  3,\n",
       "        3, -1,  3,  0,  3,  3, -1,  3,  3,  3,  3, -1,  1,  1,  1,  1, -1,\n",
       "        1,  1,  0,  0, -1,  0,  1,  1,  1, -1,  1,  1,  0,  1, -1,  1,  1,\n",
       "        1,  1, -1,  1,  2,  1,  1, -1,  1,  2,  2,  1, -1,  1,  2,  1,  1,\n",
       "       -1,  3,  3,  1,  1, -1,  1,  1,  1,  1, -1,  3,  1,  1,  1, -1,  1,\n",
       "        1,  3,  1, -1,  1,  1,  1,  2, -1,  1,  2,  1,  1, -1,  1,  0,  0,\n",
       "        0, -1,  1,  1,  1,  0, -1,  3,  1,  3,  1, -1,  1,  1,  1,  3, -1,\n",
       "        3,  0,  3,  3, -1,  1,  3,  2,  3, -1,  1,  1,  1,  1, -1,  1,  1,\n",
       "        4,  4,  0,  4,  1,  1,  1, -1,  1,  1,  5,  1, -1,  1,  1,  1,  1,\n",
       "       -1,  1,  1,  1,  1, -1,  1,  1,  1,  1, -1,  1,  2,  1,  1, -1,  1,\n",
       "        3,  1,  1, -1,  1,  1,  1,  1, -1,  1,  1,  1,  1, -1,  0,  1,  0,\n",
       "        0, -1,  1,  1,  1,  1, -1,  1,  2,  1,  1, -1,  1,  4,  4,  4,  0,\n",
       "        1,  1,  1,  5, -1,  3,  1,  3,  1, -1,  1,  1,  1,  1, -1,  3,  3,\n",
       "        3,  3, -1,  1,  1,  1,  3], dtype=int64)"
      ]
     },
     "execution_count": 26,
     "metadata": {},
     "output_type": "execute_result"
    }
   ],
   "source": [
    "# print the estimated optimal policy\n",
    "policy_expsarsa = np.array([np.argmax(Q_expsarsa[key]) if key in Q_expsarsa else -1 for key in np.arange(500)])\n",
    "policy_expsarsa"
   ]
  },
  {
   "cell_type": "code",
   "execution_count": 27,
   "id": "0a9f5db5",
   "metadata": {},
   "outputs": [],
   "source": [
    "def generate_episode_from_Q(env, Q, epsilon, nA):\n",
    "    \"\"\" generates an episode from following the epsilon-greedy policy \"\"\"\n",
    "    episode = []\n",
    "    state = env.reset()\n",
    "    while True:\n",
    "        action = np.random.choice(np.arange(nA), p=get_probs(Q[state], epsilon, nA)) \\\n",
    "                                    if state in Q else env.action_space.sample()\n",
    "        next_state, reward, done, info = env.step(action)\n",
    "        episode.append((state, action, reward))\n",
    "        state = next_state\n",
    "        if done:\n",
    "            break\n",
    "    return episode\n",
    "\n",
    "def get_probs(Q_s, epsilon, nA):\n",
    "    \"\"\" obtains the action probabilities corresponding to epsilon-greedy policy \n",
    "        overwrite the current returned on the state\n",
    "    \"\"\"\n",
    "    policy_s = np.ones(nA) * epsilon / nA\n",
    "    best_a = np.argmax(Q_s)\n",
    "    policy_s[best_a] = 1 - epsilon + (epsilon / nA)\n",
    "    return policy_s\n",
    "\n",
    "def update_Q(env, episode, Q, alpha, gamma):\n",
    "    \"\"\" updates the action-value function estimate using the most recent episode \"\"\"\n",
    "    states, actions, rewards = zip(*episode)\n",
    "    # prepare for discounting\n",
    "    discounts = np.array([gamma**i for i in range(len(rewards)+1)])\n",
    "    for i, state in enumerate(states):\n",
    "        old_Q = Q[state][actions[i]] \n",
    "        # Constant-alpha\n",
    "        Q[state][actions[i]] = old_Q + alpha*(sum(rewards[i:]*discounts[:-(1+i)]) - old_Q)\n",
    "    return Q"
   ]
  },
  {
   "cell_type": "code",
   "execution_count": 28,
   "id": "095a153b",
   "metadata": {},
   "outputs": [],
   "source": [
    "def mc_control(env, num_episodes, alpha, gamma=1.0, eps_start=1.0, eps_decay=.99999, eps_min=0.05):\n",
    "    nA = env.action_space.n\n",
    "    # initialize empty dictionary of arrays\n",
    "    Q = defaultdict(lambda: np.zeros(nA))\n",
    "    epsilon = eps_start\n",
    "    # loop over episodes\n",
    "    for i_episode in range(1, num_episodes+1):\n",
    "        # monitor progress\n",
    "        if i_episode % 1000 == 0:\n",
    "            print(\"\\rEpisode {}/{}.\".format(i_episode, num_episodes), end=\"\")\n",
    "            sys.stdout.flush()\n",
    "        # set the value of epsilon\n",
    "        epsilon = max(epsilon*eps_decay, eps_min)\n",
    "        # generate an episode by following epsilon-greedy policy\n",
    "        episode = generate_episode_from_Q(env, Q, epsilon, nA)\n",
    "        # update the action-value function estimate using the episode ##### Incremental Mean ###\n",
    "        Q = update_Q(env, episode, Q, alpha, gamma)\n",
    "    # determine the policy corresponding to the final action-value function estimate\n",
    "    policy = dict((k,np.argmax(v)) for k, v in Q.items())\n",
    "    return policy, Q"
   ]
  },
  {
   "cell_type": "code",
   "execution_count": 49,
   "id": "42ef6b73",
   "metadata": {},
   "outputs": [
    {
     "name": "stdout",
     "output_type": "stream",
     "text": [
      "Episode 500000/500000."
     ]
    }
   ],
   "source": [
    "# obtain the estimated optimal policy and action-value function\n",
    "policy, Q = mc_control(env, 500000, 0.3)"
   ]
  },
  {
   "cell_type": "code",
   "execution_count": 55,
   "id": "e561e5fe",
   "metadata": {},
   "outputs": [
    {
     "data": {
      "text/plain": [
       "array([-1,  0,  0,  0,  0, -1,  0,  0,  0,  0, -1,  0,  0,  0,  0, -1,  0,\n",
       "        0,  0,  0, -1,  0,  0,  0,  0, -1,  0,  0,  0,  0, -1,  0,  0,  0,\n",
       "        0, -1,  0,  0,  0,  0, -1,  0,  0,  0,  0, -1,  0,  0,  0,  0, -1,\n",
       "        0,  0,  0,  0, -1,  0,  0,  0,  0, -1,  0,  0,  0,  0, -1,  0,  0,\n",
       "        0,  0, -1,  0,  0,  0,  0, -1,  0,  0,  0,  0, -1,  0,  0,  0,  0,\n",
       "       -1,  0,  0,  0,  0, -1,  0,  0,  0,  0, -1,  0,  0,  0,  0, -1,  0,\n",
       "        0,  0,  0, -1,  0,  0,  0,  0, -1,  0,  0,  0,  0, -1,  0,  0,  0,\n",
       "        0, -1,  0,  0,  0,  0, -1,  0,  0,  0,  0, -1,  0,  0,  0,  0, -1,\n",
       "        0,  0,  0,  0, -1,  0,  0,  0,  0, -1,  0,  0,  0,  0, -1,  0,  0,\n",
       "        0,  0, -1,  0,  0,  0,  0, -1,  0,  0,  0,  0, -1,  0,  0,  0,  0,\n",
       "       -1,  0,  0,  0,  0, -1,  0,  0,  0,  0, -1,  0,  0,  0,  0, -1,  0,\n",
       "        0,  0,  0, -1,  0,  0,  0,  0, -1,  0,  0,  0,  0, -1,  0,  0,  0,\n",
       "        0, -1,  0,  0,  0,  0, -1,  0,  0,  0,  0, -1,  0,  0,  0,  0, -1,\n",
       "        0,  0,  0,  0, -1,  0,  0,  0,  0, -1,  0,  0,  0,  0, -1,  0,  0,\n",
       "        0,  0, -1,  0,  0,  0,  0, -1,  0,  0,  0,  0, -1,  0,  0,  0,  0,\n",
       "       -1,  0,  0,  0,  0, -1,  0,  0,  0,  0, -1,  0,  0,  0,  0, -1,  0,\n",
       "        0,  0,  0, -1,  0,  0,  0,  0, -1,  0,  0,  0,  0, -1,  0,  0,  0,\n",
       "        0, -1,  0,  0,  0,  0, -1,  0,  0,  0,  0, -1,  0,  0,  0,  0, -1,\n",
       "        0,  0,  0,  0, -1,  0,  0,  0,  0, -1,  0,  0,  0,  0, -1,  0,  0,\n",
       "        0,  0, -1,  0,  0,  0,  0, -1,  0,  0,  0,  0, -1,  0,  0,  0,  0,\n",
       "       -1,  0,  0,  0,  0, -1,  0,  0,  0,  0, -1,  0,  0,  0,  0, -1,  0,\n",
       "        0,  0,  0, -1,  0,  0,  0,  0, -1,  0,  0,  0,  0, -1,  0,  0,  0,\n",
       "        0, -1,  0,  0,  0,  0, -1,  0,  0,  0,  0, -1,  0,  0,  0,  0, -1,\n",
       "        0,  0,  0,  0, -1,  0,  0,  0,  0, -1,  0,  0,  0,  0, -1,  0,  0,\n",
       "        0,  0, -1,  0,  0,  0,  0, -1,  0,  0,  0,  0, -1,  0,  0,  0,  0,\n",
       "       -1,  0,  0,  0,  0, -1,  0,  0,  0,  0, -1,  0,  0,  0,  0, -1,  0,\n",
       "        0,  0,  0, -1,  0,  0,  0,  0, -1,  0,  0,  0,  0, -1,  0,  0,  0,\n",
       "        0, -1,  0,  0,  0,  0, -1,  0,  0,  0,  0, -1,  0,  0,  0,  0, -1,\n",
       "        0,  0,  0,  0, -1,  0,  0,  0,  0, -1,  0,  0,  0,  0, -1,  0,  0,\n",
       "        0,  0, -1,  0,  0,  0,  0], dtype=int64)"
      ]
     },
     "execution_count": 55,
     "metadata": {},
     "output_type": "execute_result"
    }
   ],
   "source": [
    "policy"
   ]
  },
  {
   "cell_type": "code",
   "execution_count": 50,
   "id": "af942d29",
   "metadata": {},
   "outputs": [
    {
     "data": {
      "text/plain": [
       "array([-1,  0,  0,  0,  0, -1,  0,  0,  0,  0, -1,  0,  0,  0,  0, -1,  0,\n",
       "        0,  0,  0, -1,  0,  0,  0,  0, -1,  0,  0,  0,  0, -1,  0,  0,  0,\n",
       "        0, -1,  0,  0,  0,  0, -1,  0,  0,  0,  0, -1,  0,  0,  0,  0, -1,\n",
       "        0,  0,  0,  0, -1,  0,  0,  0,  0, -1,  0,  0,  0,  0, -1,  0,  0,\n",
       "        0,  0, -1,  0,  0,  0,  0, -1,  0,  0,  0,  0, -1,  0,  0,  0,  0,\n",
       "       -1,  0,  0,  0,  0, -1,  0,  0,  0,  0, -1,  0,  0,  0,  0, -1,  0,\n",
       "        0,  0,  0, -1,  0,  0,  0,  0, -1,  0,  0,  0,  0, -1,  0,  0,  0,\n",
       "        0, -1,  0,  0,  0,  0, -1,  0,  0,  0,  0, -1,  0,  0,  0,  0, -1,\n",
       "        0,  0,  0,  0, -1,  0,  0,  0,  0, -1,  0,  0,  0,  0, -1,  0,  0,\n",
       "        0,  0, -1,  0,  0,  0,  0, -1,  0,  0,  0,  0, -1,  0,  0,  0,  0,\n",
       "       -1,  0,  0,  0,  0, -1,  0,  0,  0,  0, -1,  0,  0,  0,  0, -1,  0,\n",
       "        0,  0,  0, -1,  0,  0,  0,  0, -1,  0,  0,  0,  0, -1,  0,  0,  0,\n",
       "        0, -1,  0,  0,  0,  0, -1,  0,  0,  0,  0, -1,  0,  0,  0,  0, -1,\n",
       "        0,  0,  0,  0, -1,  0,  0,  0,  0, -1,  0,  0,  0,  0, -1,  0,  0,\n",
       "        0,  0, -1,  0,  0,  0,  0, -1,  0,  0,  0,  0, -1,  0,  0,  0,  0,\n",
       "       -1,  0,  0,  0,  0, -1,  0,  0,  0,  0, -1,  0,  0,  0,  0, -1,  0,\n",
       "        0,  0,  0, -1,  0,  0,  0,  0, -1,  0,  0,  0,  0, -1,  0,  0,  0,\n",
       "        0, -1,  0,  0,  0,  0, -1,  0,  0,  0,  0, -1,  0,  0,  0,  0, -1,\n",
       "        0,  0,  0,  0, -1,  0,  0,  0,  0, -1,  0,  0,  0,  0, -1,  0,  0,\n",
       "        0,  0, -1,  0,  0,  0,  0, -1,  0,  0,  0,  0, -1,  0,  0,  0,  0,\n",
       "       -1,  0,  0,  0,  0, -1,  0,  0,  0,  0, -1,  0,  0,  0,  0, -1,  0,\n",
       "        0,  0,  0, -1,  0,  0,  0,  0, -1,  0,  0,  0,  0, -1,  0,  0,  0,\n",
       "        0, -1,  0,  0,  0,  0, -1,  0,  0,  0,  0, -1,  0,  0,  0,  0, -1,\n",
       "        0,  0,  0,  0, -1,  0,  0,  0,  0, -1,  0,  0,  0,  0, -1,  0,  0,\n",
       "        0,  0, -1,  0,  0,  0,  0, -1,  0,  0,  0,  0, -1,  0,  0,  0,  0,\n",
       "       -1,  0,  0,  0,  0, -1,  0,  0,  0,  0, -1,  0,  0,  0,  0, -1,  0,\n",
       "        0,  0,  0, -1,  0,  0,  0,  0, -1,  0,  0,  0,  0, -1,  0,  0,  0,\n",
       "        0, -1,  0,  0,  0,  0, -1,  0,  0,  0,  0, -1,  0,  0,  0,  0, -1,\n",
       "        0,  0,  0,  0, -1,  0,  0,  0,  0, -1,  0,  0,  0,  0, -1,  0,  0,\n",
       "        0,  0, -1,  0,  0,  0,  0], dtype=int64)"
      ]
     },
     "execution_count": 50,
     "metadata": {},
     "output_type": "execute_result"
    }
   ],
   "source": [
    "# print the estimated optimal policy\n",
    "policy = np.array([np.argmax(policy[key]) if key in policy else -1 for key in np.arange(500)])\n",
    "policy"
   ]
  },
  {
   "cell_type": "code",
   "execution_count": 32,
   "id": "19fd5c2e",
   "metadata": {},
   "outputs": [
    {
     "name": "stdout",
     "output_type": "stream",
     "text": [
      "+---------+\n",
      "|\u001b[35m\u001b[34;1m\u001b[43mR\u001b[0m\u001b[0m\u001b[0m: | : :G|\n",
      "| : | : : |\n",
      "| : : : : |\n",
      "| | : | : |\n",
      "|Y| : |B: |\n",
      "+---------+\n",
      "  (Dropoff)\n"
     ]
    }
   ],
   "source": [
    "env.render()"
   ]
  },
  {
   "cell_type": "code",
   "execution_count": 34,
   "id": "3bfdb73b",
   "metadata": {},
   "outputs": [
    {
     "data": {
      "text/plain": [
       "242"
      ]
     },
     "execution_count": 34,
     "metadata": {},
     "output_type": "execute_result"
    }
   ],
   "source": [
    "env.reset()"
   ]
  },
  {
   "cell_type": "code",
   "execution_count": 38,
   "id": "5080efd1",
   "metadata": {},
   "outputs": [
    {
     "data": {
      "text/plain": [
       "(202, -1, False, {'prob': 1.0})"
      ]
     },
     "execution_count": 38,
     "metadata": {},
     "output_type": "execute_result"
    }
   ],
   "source": [
    "action, reward, done, _ = env.step(action)"
   ]
  },
  {
   "cell_type": "code",
   "execution_count": 42,
   "id": "585579de",
   "metadata": {},
   "outputs": [],
   "source": [
    "from time import sleep"
   ]
  },
  {
   "cell_type": "markdown",
   "id": "8b71db7e",
   "metadata": {},
   "source": [
    "### APPLY Expected SARSA POLICY"
   ]
  },
  {
   "cell_type": "code",
   "execution_count": 44,
   "id": "645fae40",
   "metadata": {},
   "outputs": [
    {
     "name": "stdout",
     "output_type": "stream",
     "text": [
      "+---------+\n",
      "|R: | : :G|\n",
      "| : | : : |\n",
      "| : : : : |\n",
      "| | : | : |\n",
      "|\u001b[34;1m\u001b[43mY\u001b[0m\u001b[0m| : |\u001b[35mB\u001b[0m: |\n",
      "+---------+\n",
      "  (South)\n",
      "+---------+\n",
      "|R: | : :G|\n",
      "| : | : : |\n",
      "| : : : : |\n",
      "| | : | : |\n",
      "|\u001b[42mY\u001b[0m| : |\u001b[35mB\u001b[0m: |\n",
      "+---------+\n",
      "  (Pickup)\n",
      "+---------+\n",
      "|R: | : :G|\n",
      "| : | : : |\n",
      "| : : : : |\n",
      "|\u001b[42m_\u001b[0m| : | : |\n",
      "|Y| : |\u001b[35mB\u001b[0m: |\n",
      "+---------+\n",
      "  (North)\n",
      "+---------+\n",
      "|R: | : :G|\n",
      "| : | : : |\n",
      "|\u001b[42m_\u001b[0m: : : : |\n",
      "| | : | : |\n",
      "|Y| : |\u001b[35mB\u001b[0m: |\n",
      "+---------+\n",
      "  (North)\n",
      "+---------+\n",
      "|R: | : :G|\n",
      "| : | : : |\n",
      "| :\u001b[42m_\u001b[0m: : : |\n",
      "| | : | : |\n",
      "|Y| : |\u001b[35mB\u001b[0m: |\n",
      "+---------+\n",
      "  (East)\n",
      "+---------+\n",
      "|R: | : :G|\n",
      "| : | : : |\n",
      "| : :\u001b[42m_\u001b[0m: : |\n",
      "| | : | : |\n",
      "|Y| : |\u001b[35mB\u001b[0m: |\n",
      "+---------+\n",
      "  (East)\n",
      "+---------+\n",
      "|R: | : :G|\n",
      "| : | : : |\n",
      "| : : :\u001b[42m_\u001b[0m: |\n",
      "| | : | : |\n",
      "|Y| : |\u001b[35mB\u001b[0m: |\n",
      "+---------+\n",
      "  (East)\n",
      "+---------+\n",
      "|R: | : :G|\n",
      "| : | : : |\n",
      "| : : : : |\n",
      "| | : |\u001b[42m_\u001b[0m: |\n",
      "|Y| : |\u001b[35mB\u001b[0m: |\n",
      "+---------+\n",
      "  (South)\n",
      "+---------+\n",
      "|R: | : :G|\n",
      "| : | : : |\n",
      "| : : : : |\n",
      "| | : | : |\n",
      "|Y| : |\u001b[35m\u001b[42mB\u001b[0m\u001b[0m: |\n",
      "+---------+\n",
      "  (South)\n",
      "+---------+\n",
      "|R: | : :G|\n",
      "| : | : : |\n",
      "| : : : : |\n",
      "| | : | : |\n",
      "|Y| : |\u001b[35m\u001b[34;1m\u001b[43mB\u001b[0m\u001b[0m\u001b[0m: |\n",
      "+---------+\n",
      "  (Dropoff)\n",
      "11\n"
     ]
    }
   ],
   "source": [
    "#\n",
    "action = env.reset()\n",
    "done = False\n",
    "final_reward=0\n",
    "while done==False:\n",
    "    action=policy_expsarsa[action]\n",
    "    action, reward, done, _ = env.step(action)\n",
    "    final_reward = final_reward + reward\n",
    "    env.render()\n",
    "    sleep(1)\n",
    "print(final_reward)"
   ]
  },
  {
   "cell_type": "markdown",
   "id": "7255c314",
   "metadata": {},
   "source": [
    "### APPLY Q-LEARNING POLICY"
   ]
  },
  {
   "cell_type": "code",
   "execution_count": 45,
   "id": "0bc0d4f7",
   "metadata": {},
   "outputs": [
    {
     "name": "stdout",
     "output_type": "stream",
     "text": [
      "+---------+\n",
      "|R: | : :G|\n",
      "| : | : : |\n",
      "| : : : : |\n",
      "| | : |\u001b[43m \u001b[0m: |\n",
      "|\u001b[34;1mY\u001b[0m| : |\u001b[35mB\u001b[0m: |\n",
      "+---------+\n",
      "  (West)\n",
      "+---------+\n",
      "|R: | : :G|\n",
      "| : | : : |\n",
      "| : : :\u001b[43m \u001b[0m: |\n",
      "| | : | : |\n",
      "|\u001b[34;1mY\u001b[0m| : |\u001b[35mB\u001b[0m: |\n",
      "+---------+\n",
      "  (North)\n",
      "+---------+\n",
      "|R: | : :G|\n",
      "| : | : : |\n",
      "| : :\u001b[43m \u001b[0m: : |\n",
      "| | : | : |\n",
      "|\u001b[34;1mY\u001b[0m| : |\u001b[35mB\u001b[0m: |\n",
      "+---------+\n",
      "  (West)\n",
      "+---------+\n",
      "|R: | : :G|\n",
      "| : | : : |\n",
      "| :\u001b[43m \u001b[0m: : : |\n",
      "| | : | : |\n",
      "|\u001b[34;1mY\u001b[0m| : |\u001b[35mB\u001b[0m: |\n",
      "+---------+\n",
      "  (West)\n",
      "+---------+\n",
      "|R: | : :G|\n",
      "| : | : : |\n",
      "|\u001b[43m \u001b[0m: : : : |\n",
      "| | : | : |\n",
      "|\u001b[34;1mY\u001b[0m| : |\u001b[35mB\u001b[0m: |\n",
      "+---------+\n",
      "  (West)\n",
      "+---------+\n",
      "|R: | : :G|\n",
      "| : | : : |\n",
      "| : : : : |\n",
      "|\u001b[43m \u001b[0m| : | : |\n",
      "|\u001b[34;1mY\u001b[0m| : |\u001b[35mB\u001b[0m: |\n",
      "+---------+\n",
      "  (South)\n",
      "+---------+\n",
      "|R: | : :G|\n",
      "| : | : : |\n",
      "| : : : : |\n",
      "| | : | : |\n",
      "|\u001b[34;1m\u001b[43mY\u001b[0m\u001b[0m| : |\u001b[35mB\u001b[0m: |\n",
      "+---------+\n",
      "  (South)\n",
      "+---------+\n",
      "|R: | : :G|\n",
      "| : | : : |\n",
      "| : : : : |\n",
      "| | : | : |\n",
      "|\u001b[42mY\u001b[0m| : |\u001b[35mB\u001b[0m: |\n",
      "+---------+\n",
      "  (Pickup)\n",
      "+---------+\n",
      "|R: | : :G|\n",
      "| : | : : |\n",
      "| : : : : |\n",
      "|\u001b[42m_\u001b[0m| : | : |\n",
      "|Y| : |\u001b[35mB\u001b[0m: |\n",
      "+---------+\n",
      "  (North)\n",
      "+---------+\n",
      "|R: | : :G|\n",
      "| : | : : |\n",
      "|\u001b[42m_\u001b[0m: : : : |\n",
      "| | : | : |\n",
      "|Y| : |\u001b[35mB\u001b[0m: |\n",
      "+---------+\n",
      "  (North)\n",
      "+---------+\n",
      "|R: | : :G|\n",
      "| : | : : |\n",
      "| :\u001b[42m_\u001b[0m: : : |\n",
      "| | : | : |\n",
      "|Y| : |\u001b[35mB\u001b[0m: |\n",
      "+---------+\n",
      "  (East)\n",
      "+---------+\n",
      "|R: | : :G|\n",
      "| : | : : |\n",
      "| : :\u001b[42m_\u001b[0m: : |\n",
      "| | : | : |\n",
      "|Y| : |\u001b[35mB\u001b[0m: |\n",
      "+---------+\n",
      "  (East)\n",
      "+---------+\n",
      "|R: | : :G|\n",
      "| : | : : |\n",
      "| : : :\u001b[42m_\u001b[0m: |\n",
      "| | : | : |\n",
      "|Y| : |\u001b[35mB\u001b[0m: |\n",
      "+---------+\n",
      "  (East)\n",
      "+---------+\n",
      "|R: | : :G|\n",
      "| : | : : |\n",
      "| : : : : |\n",
      "| | : |\u001b[42m_\u001b[0m: |\n",
      "|Y| : |\u001b[35mB\u001b[0m: |\n",
      "+---------+\n",
      "  (South)\n",
      "+---------+\n",
      "|R: | : :G|\n",
      "| : | : : |\n",
      "| : : : : |\n",
      "| | : | : |\n",
      "|Y| : |\u001b[35m\u001b[42mB\u001b[0m\u001b[0m: |\n",
      "+---------+\n",
      "  (South)\n",
      "+---------+\n",
      "|R: | : :G|\n",
      "| : | : : |\n",
      "| : : : : |\n",
      "| | : | : |\n",
      "|Y| : |\u001b[35m\u001b[34;1m\u001b[43mB\u001b[0m\u001b[0m\u001b[0m: |\n",
      "+---------+\n",
      "  (Dropoff)\n",
      "5\n"
     ]
    }
   ],
   "source": [
    "# policy_sarsamax \n",
    "action = env.reset()\n",
    "done = False\n",
    "final_reward=0\n",
    "while done==False:\n",
    "    action=policy_sarsamax[action]\n",
    "    action, reward, done, _ = env.step(action)\n",
    "    final_reward = final_reward + reward\n",
    "    env.render()\n",
    "    sleep(1)\n",
    "print(final_reward)"
   ]
  },
  {
   "cell_type": "markdown",
   "id": "4217342d",
   "metadata": {},
   "source": [
    "### APPLY SARSA POLICY"
   ]
  },
  {
   "cell_type": "code",
   "execution_count": 48,
   "id": "33b28840",
   "metadata": {},
   "outputs": [
    {
     "name": "stdout",
     "output_type": "stream",
     "text": [
      "+---------+\n",
      "|R: | : :\u001b[35mG\u001b[0m|\n",
      "| : | : : |\n",
      "| : : : : |\n",
      "| | : | : |\n",
      "|\u001b[42mY\u001b[0m| : |B: |\n",
      "+---------+\n",
      "  (Pickup)\n",
      "+---------+\n",
      "|R: | : :\u001b[35mG\u001b[0m|\n",
      "| : | : : |\n",
      "| : : : : |\n",
      "|\u001b[42m_\u001b[0m| : | : |\n",
      "|Y| : |B: |\n",
      "+---------+\n",
      "  (North)\n",
      "+---------+\n",
      "|R: | : :\u001b[35mG\u001b[0m|\n",
      "| : | : : |\n",
      "|\u001b[42m_\u001b[0m: : : : |\n",
      "| | : | : |\n",
      "|Y| : |B: |\n",
      "+---------+\n",
      "  (North)\n",
      "+---------+\n",
      "|R: | : :\u001b[35mG\u001b[0m|\n",
      "| : | : : |\n",
      "| :\u001b[42m_\u001b[0m: : : |\n",
      "| | : | : |\n",
      "|Y| : |B: |\n",
      "+---------+\n",
      "  (East)\n",
      "+---------+\n",
      "|R: | : :\u001b[35mG\u001b[0m|\n",
      "| : | : : |\n",
      "| : :\u001b[42m_\u001b[0m: : |\n",
      "| | : | : |\n",
      "|Y| : |B: |\n",
      "+---------+\n",
      "  (East)\n",
      "+---------+\n",
      "|R: | : :\u001b[35mG\u001b[0m|\n",
      "| : | : : |\n",
      "| : : :\u001b[42m_\u001b[0m: |\n",
      "| | : | : |\n",
      "|Y| : |B: |\n",
      "+---------+\n",
      "  (East)\n",
      "+---------+\n",
      "|R: | : :\u001b[35mG\u001b[0m|\n",
      "| : | : : |\n",
      "| : : : :\u001b[42m_\u001b[0m|\n",
      "| | : | : |\n",
      "|Y| : |B: |\n",
      "+---------+\n",
      "  (East)\n",
      "+---------+\n",
      "|R: | : :\u001b[35mG\u001b[0m|\n",
      "| : | : :\u001b[42m_\u001b[0m|\n",
      "| : : : : |\n",
      "| | : | : |\n",
      "|Y| : |B: |\n",
      "+---------+\n",
      "  (North)\n",
      "+---------+\n",
      "|R: | : :\u001b[35m\u001b[42mG\u001b[0m\u001b[0m|\n",
      "| : | : : |\n",
      "| : : : : |\n",
      "| | : | : |\n",
      "|Y| : |B: |\n",
      "+---------+\n",
      "  (North)\n",
      "+---------+\n",
      "|R: | : :\u001b[35m\u001b[34;1m\u001b[43mG\u001b[0m\u001b[0m\u001b[0m|\n",
      "| : | : : |\n",
      "| : : : : |\n",
      "| | : | : |\n",
      "|Y| : |B: |\n",
      "+---------+\n",
      "  (Dropoff)\n",
      "11\n"
     ]
    }
   ],
   "source": [
    "# policy_sarsa\n",
    "action = env.reset()\n",
    "done = False\n",
    "final_reward=0\n",
    "while done==False:\n",
    "    action=policy_sarsa[action]\n",
    "    action, reward, done, _ = env.step(action)\n",
    "    final_reward = final_reward + reward\n",
    "    env.render()\n",
    "    sleep(1)\n",
    "print(final_reward)"
   ]
  },
  {
   "cell_type": "code",
   "execution_count": null,
   "id": "a7607910",
   "metadata": {},
   "outputs": [],
   "source": [
    "# policy_sarsa\n",
    "# action = env.reset()\n",
    "# done = False\n",
    "# final_reward=0\n",
    "# while done==False:\n",
    "#     action=policy[action]\n",
    "#     action, reward, done, _ = env.step(action)\n",
    "#     final_reward = final_reward + reward\n",
    "#     env.render()\n",
    "#     sleep(1)\n",
    "# print(final_reward)"
   ]
  },
  {
   "cell_type": "code",
   "execution_count": null,
   "id": "d34729f9",
   "metadata": {},
   "outputs": [],
   "source": []
  }
 ],
 "metadata": {
  "kernelspec": {
   "display_name": "Python 3",
   "language": "python",
   "name": "python3"
  },
  "language_info": {
   "codemirror_mode": {
    "name": "ipython",
    "version": 3
   },
   "file_extension": ".py",
   "mimetype": "text/x-python",
   "name": "python",
   "nbconvert_exporter": "python",
   "pygments_lexer": "ipython3",
   "version": "3.8.5"
  }
 },
 "nbformat": 4,
 "nbformat_minor": 5
}
