{
 "cells": [
  {
   "cell_type": "code",
   "execution_count": 1,
   "id": "angry-portrait",
   "metadata": {},
   "outputs": [],
   "source": [
    "from __future__ import absolute_import, division, print_function\n",
    "\n",
    "import base64\n",
    "import imageio\n",
    "import IPython\n",
    "import matplotlib\n",
    "import matplotlib.pyplot as plt\n",
    "import numpy as np\n",
    "import PIL.Image\n",
    "import pyvirtualdisplay\n",
    "\n",
    "import tensorflow as tf\n",
    "\n",
    "from tf_agents.agents.dqn import dqn_agent\n",
    "from tf_agents.drivers import dynamic_step_driver\n",
    "from tf_agents.environments import suite_gym\n",
    "from tf_agents.environments import tf_py_environment\n",
    "from tf_agents.eval import metric_utils\n",
    "from tf_agents.metrics import tf_metrics\n",
    "from tf_agents.networks import q_network\n",
    "from tf_agents.policies import random_tf_policy\n",
    "from tf_agents.replay_buffers import tf_uniform_replay_buffer\n",
    "from tf_agents.trajectories import trajectory\n",
    "from tf_agents.utils import common"
   ]
  },
  {
   "cell_type": "code",
   "execution_count": 2,
   "id": "progressive-double",
   "metadata": {},
   "outputs": [],
   "source": [
    "tf.compat.v1.enable_v2_behavior()\n",
    "\n",
    "# Set up a virtual display for rendering OpenAI gym environments.\n",
    "display = pyvirtualdisplay.Display(visible=0, size=(1400, 900)).start()"
   ]
  },
  {
   "cell_type": "code",
   "execution_count": 3,
   "id": "impossible-payroll",
   "metadata": {},
   "outputs": [
    {
     "data": {
      "text/plain": [
       "'2.2.0'"
      ]
     },
     "execution_count": 3,
     "metadata": {},
     "output_type": "execute_result"
    }
   ],
   "source": [
    "tf.version.VERSION"
   ]
  },
  {
   "cell_type": "code",
   "execution_count": 4,
   "id": "synthetic-manual",
   "metadata": {},
   "outputs": [],
   "source": [
    "num_iterations = 20000 # @param {type:\"integer\"}\n",
    "\n",
    "initial_collect_steps = 100  # @param {type:\"integer\"} \n",
    "collect_steps_per_iteration = 1  # @param {type:\"integer\"}\n",
    "replay_buffer_max_length = 100000  # @param {type:\"integer\"}\n",
    "\n",
    "batch_size = 64  # @param {type:\"integer\"}\n",
    "learning_rate = 1e-3  # @param {type:\"number\"}\n",
    "log_interval = 200  # @param {type:\"integer\"}\n",
    "\n",
    "num_eval_episodes = 10  # @param {type:\"integer\"}\n",
    "eval_interval = 1000  # @param {type:\"integer\"}"
   ]
  },
  {
   "cell_type": "code",
   "execution_count": 5,
   "id": "joined-peninsula",
   "metadata": {},
   "outputs": [],
   "source": [
    "env_name = 'CartPole-v0'\n",
    "env = suite_gym.load(env_name)"
   ]
  },
  {
   "cell_type": "code",
   "execution_count": 6,
   "id": "australian-voice",
   "metadata": {},
   "outputs": [
    {
     "data": {
      "image/png": "[encoded data removed]",
      "text/plain": [
       "<PIL.Image.Image image mode=RGB size=600x400 at 0x7F9A5D848790>"
      ]
     },
     "execution_count": 6,
     "metadata": {},
     "output_type": "execute_result"
    }
   ],
   "source": [
    "#@test {\"skip\": true}\n",
    "env.reset()\n",
    "PIL.Image.fromarray(env.render())"
   ]
  },
  {
   "cell_type": "code",
   "execution_count": 7,
   "id": "increased-traveler",
   "metadata": {},
   "outputs": [
    {
     "name": "stdout",
     "output_type": "stream",
     "text": [
      "Observation Spec:\n",
      "BoundedArraySpec(shape=(4,), dtype=dtype('float32'), name='observation', minimum=[-4.8000002e+00 -3.4028235e+38 -4.1887903e-01 -3.4028235e+38], maximum=[4.8000002e+00 3.4028235e+38 4.1887903e-01 3.4028235e+38])\n"
     ]
    }
   ],
   "source": [
    "print('Observation Spec:')\n",
    "print(env.time_step_spec().observation)"
   ]
  },
  {
   "cell_type": "code",
   "execution_count": 8,
   "id": "partial-export",
   "metadata": {},
   "outputs": [
    {
     "name": "stdout",
     "output_type": "stream",
     "text": [
      "Reward Spec:\n",
      "ArraySpec(shape=(), dtype=dtype('float32'), name='reward')\n"
     ]
    }
   ],
   "source": [
    "print('Reward Spec:')\n",
    "print(env.time_step_spec().reward)"
   ]
  },
  {
   "cell_type": "code",
   "execution_count": 9,
   "id": "indoor-morocco",
   "metadata": {},
   "outputs": [
    {
     "name": "stdout",
     "output_type": "stream",
     "text": [
      "Action Spec:\n",
      "BoundedArraySpec(shape=(), dtype=dtype('int64'), name='action', minimum=0, maximum=1)\n"
     ]
    }
   ],
   "source": [
    "print('Action Spec:')\n",
    "print(env.action_spec())"
   ]
  },
  {
   "cell_type": "code",
   "execution_count": 10,
   "id": "earned-strengthening",
   "metadata": {},
   "outputs": [
    {
     "name": "stdout",
     "output_type": "stream",
     "text": [
      "Time step:\n",
      "TimeStep(step_type=array(0, dtype=int32), reward=array(0., dtype=float32), discount=array(1., dtype=float32), observation=array([-0.02050417, -0.02319848, -0.04862939,  0.02602654], dtype=float32))\n",
      "Next time step:\n",
      "TimeStep(step_type=array(1, dtype=int32), reward=array(1., dtype=float32), discount=array(1., dtype=float32), observation=array([-0.02096814,  0.1725859 , -0.04810886, -0.28159428], dtype=float32))\n"
     ]
    }
   ],
   "source": [
    "time_step = env.reset()\n",
    "print('Time step:')\n",
    "print(time_step)\n",
    "\n",
    "action = np.array(1, dtype=np.int32)\n",
    "\n",
    "next_time_step = env.step(action)\n",
    "print('Next time step:')\n",
    "print(next_time_step)"
   ]
  },
  {
   "cell_type": "code",
   "execution_count": 11,
   "id": "crazy-suite",
   "metadata": {},
   "outputs": [],
   "source": [
    "train_py_env = suite_gym.load(env_name)\n",
    "eval_py_env = suite_gym.load(env_name)"
   ]
  },
  {
   "cell_type": "code",
   "execution_count": 12,
   "id": "coastal-grass",
   "metadata": {},
   "outputs": [],
   "source": [
    "train_env = tf_py_environment.TFPyEnvironment(train_py_env)\n",
    "eval_env = tf_py_environment.TFPyEnvironment(eval_py_env)"
   ]
  },
  {
   "cell_type": "code",
   "execution_count": 13,
   "id": "circular-telling",
   "metadata": {},
   "outputs": [],
   "source": [
    "fc_layer_params = (100,)\n",
    "\n",
    "q_net = q_network.QNetwork(\n",
    "    train_env.observation_spec(),\n",
    "    train_env.action_spec(),\n",
    "    fc_layer_params=fc_layer_params)"
   ]
  },
  {
   "cell_type": "code",
   "execution_count": 14,
   "id": "coordinated-holly",
   "metadata": {},
   "outputs": [],
   "source": [
    "optimizer = tf.compat.v1.train.AdamOptimizer(learning_rate=learning_rate)\n",
    "\n",
    "train_step_counter = tf.Variable(0)\n",
    "\n",
    "agent = dqn_agent.DqnAgent(\n",
    "    train_env.time_step_spec(),\n",
    "    train_env.action_spec(),\n",
    "    q_network=q_net,\n",
    "    optimizer=optimizer,\n",
    "    td_errors_loss_fn=common.element_wise_squared_loss,\n",
    "    train_step_counter=train_step_counter)\n",
    "\n",
    "agent.initialize()"
   ]
  },
  {
   "cell_type": "code",
   "execution_count": 15,
   "id": "described-kernel",
   "metadata": {},
   "outputs": [],
   "source": [
    "eval_policy = agent.policy\n",
    "collect_policy = agent.collect_policy"
   ]
  },
  {
   "cell_type": "code",
   "execution_count": 17,
   "id": "extended-cambridge",
   "metadata": {},
   "outputs": [],
   "source": [
    "random_policy = random_tf_policy.RandomTFPolicy(train_env.time_step_spec(),\n",
    "                                                train_env.action_spec())"
   ]
  },
  {
   "cell_type": "code",
   "execution_count": 18,
   "id": "impaired-ferry",
   "metadata": {},
   "outputs": [],
   "source": [
    "example_environment = tf_py_environment.TFPyEnvironment(\n",
    "    suite_gym.load('CartPole-v0'))"
   ]
  },
  {
   "cell_type": "code",
   "execution_count": 19,
   "id": "meaning-extension",
   "metadata": {},
   "outputs": [],
   "source": [
    "time_step = example_environment.reset()"
   ]
  },
  {
   "cell_type": "code",
   "execution_count": 20,
   "id": "reliable-minister",
   "metadata": {},
   "outputs": [
    {
     "data": {
      "text/plain": [
       "PolicyStep(action=<tf.Tensor: shape=(1,), dtype=int64, numpy=array([0])>, state=(), info=())"
      ]
     },
     "execution_count": 20,
     "metadata": {},
     "output_type": "execute_result"
    }
   ],
   "source": [
    "random_policy.action(time_step)"
   ]
  },
  {
   "cell_type": "code",
   "execution_count": 21,
   "id": "visible-repeat",
   "metadata": {},
   "outputs": [],
   "source": [
    "#@test {\"skip\": true}\n",
    "def compute_avg_return(environment, policy, num_episodes=10):\n",
    "\n",
    "  total_return = 0.0\n",
    "  for _ in range(num_episodes):\n",
    "\n",
    "    time_step = environment.reset()\n",
    "    episode_return = 0.0\n",
    "\n",
    "    while not time_step.is_last():\n",
    "      action_step = policy.action(time_step)\n",
    "      time_step = environment.step(action_step.action)\n",
    "      episode_return += time_step.reward\n",
    "    total_return += episode_return\n",
    "\n",
    "  avg_return = total_return / num_episodes\n",
    "  return avg_return.numpy()[0]\n",
    "\n",
    "\n",
    "# See also the metrics module for standard implementations of different metrics.\n",
    "# https://github.com/tensorflow/agents/tree/master/tf_agents/metrics"
   ]
  },
  {
   "cell_type": "code",
   "execution_count": 22,
   "id": "interim-plain",
   "metadata": {},
   "outputs": [
    {
     "data": {
      "text/plain": [
       "23.9"
      ]
     },
     "execution_count": 22,
     "metadata": {},
     "output_type": "execute_result"
    }
   ],
   "source": [
    "compute_avg_return(eval_env, random_policy, num_eval_episodes)"
   ]
  },
  {
   "cell_type": "code",
   "execution_count": 23,
   "id": "assigned-nylon",
   "metadata": {},
   "outputs": [],
   "source": [
    "replay_buffer = tf_uniform_replay_buffer.TFUniformReplayBuffer(\n",
    "    data_spec=agent.collect_data_spec,\n",
    "    batch_size=train_env.batch_size,\n",
    "    max_length=replay_buffer_max_length)"
   ]
  },
  {
   "cell_type": "code",
   "execution_count": 24,
   "id": "proper-mexico",
   "metadata": {},
   "outputs": [
    {
     "data": {
      "text/plain": [
       "Trajectory(step_type=TensorSpec(shape=(), dtype=tf.int32, name='step_type'), observation=BoundedTensorSpec(shape=(4,), dtype=tf.float32, name='observation', minimum=array([-4.8000002e+00, -3.4028235e+38, -4.1887903e-01, -3.4028235e+38],\n",
       "      dtype=float32), maximum=array([4.8000002e+00, 3.4028235e+38, 4.1887903e-01, 3.4028235e+38],\n",
       "      dtype=float32)), action=BoundedTensorSpec(shape=(), dtype=tf.int64, name='action', minimum=array(0), maximum=array(1)), policy_info=(), next_step_type=TensorSpec(shape=(), dtype=tf.int32, name='step_type'), reward=TensorSpec(shape=(), dtype=tf.float32, name='reward'), discount=BoundedTensorSpec(shape=(), dtype=tf.float32, name='discount', minimum=array(0., dtype=float32), maximum=array(1., dtype=float32)))"
      ]
     },
     "execution_count": 24,
     "metadata": {},
     "output_type": "execute_result"
    }
   ],
   "source": [
    "agent.collect_data_spec"
   ]
  },
  {
   "cell_type": "code",
   "execution_count": 25,
   "id": "female-sheet",
   "metadata": {},
   "outputs": [
    {
     "data": {
      "text/plain": [
       "('step_type',\n",
       " 'observation',\n",
       " 'action',\n",
       " 'policy_info',\n",
       " 'next_step_type',\n",
       " 'reward',\n",
       " 'discount')"
      ]
     },
     "execution_count": 25,
     "metadata": {},
     "output_type": "execute_result"
    }
   ],
   "source": [
    "agent.collect_data_spec._fields"
   ]
  },
  {
   "cell_type": "code",
   "execution_count": 26,
   "id": "higher-pastor",
   "metadata": {},
   "outputs": [],
   "source": [
    "#@test {\"skip\": true}\n",
    "def collect_step(environment, policy, buffer):\n",
    "  time_step = environment.current_time_step()\n",
    "  action_step = policy.action(time_step)\n",
    "  next_time_step = environment.step(action_step.action)\n",
    "  traj = trajectory.from_transition(time_step, action_step, next_time_step)\n",
    "\n",
    "  # Add trajectory to the replay buffer\n",
    "  buffer.add_batch(traj)\n",
    "\n",
    "def collect_data(env, policy, buffer, steps):\n",
    "  for _ in range(steps):\n",
    "    collect_step(env, policy, buffer)\n",
    "\n",
    "collect_data(train_env, random_policy, replay_buffer, initial_collect_steps)\n",
    "\n",
    "# This loop is so common in RL, that we provide standard implementations. \n",
    "# For more details see the drivers module.\n",
    "# https://www.tensorflow.org/agents/api_docs/python/tf_agents/drivers"
   ]
  },
  {
   "cell_type": "code",
   "execution_count": 27,
   "id": "angry-company",
   "metadata": {},
   "outputs": [
    {
     "data": {
      "text/plain": [
       "(Trajectory(step_type=<tf.Tensor: shape=(), dtype=int32, numpy=1>, observation=<tf.Tensor: shape=(4,), dtype=float32, numpy=array([ 0.02059595, -0.03353521, -0.0286429 , -0.01481507], dtype=float32)>, action=<tf.Tensor: shape=(), dtype=int64, numpy=1>, policy_info=(), next_step_type=<tf.Tensor: shape=(), dtype=int32, numpy=1>, reward=<tf.Tensor: shape=(), dtype=float32, numpy=1.0>, discount=<tf.Tensor: shape=(), dtype=float32, numpy=1.0>),\n",
       " BufferInfo(ids=<tf.Tensor: shape=(), dtype=int64, numpy=33>, probabilities=<tf.Tensor: shape=(), dtype=float32, numpy=0.01>))"
      ]
     },
     "execution_count": 27,
     "metadata": {},
     "output_type": "execute_result"
    }
   ],
   "source": [
    "# For the curious:\n",
    "# Uncomment to peel one of these off and inspect it.\n",
    "iter(replay_buffer.as_dataset()).next()"
   ]
  },
  {
   "cell_type": "code",
   "execution_count": 28,
   "id": "interior-skiing",
   "metadata": {},
   "outputs": [
    {
     "data": {
      "text/plain": [
       "<PrefetchDataset shapes: (Trajectory(step_type=(64, 2), observation=(64, 2, 4), action=(64, 2), policy_info=(), next_step_type=(64, 2), reward=(64, 2), discount=(64, 2)), BufferInfo(ids=(64, 2), probabilities=(64,))), types: (Trajectory(step_type=tf.int32, observation=tf.float32, action=tf.int64, policy_info=(), next_step_type=tf.int32, reward=tf.float32, discount=tf.float32), BufferInfo(ids=tf.int64, probabilities=tf.float32))>"
      ]
     },
     "execution_count": 28,
     "metadata": {},
     "output_type": "execute_result"
    }
   ],
   "source": [
    "# Dataset generates trajectories with shape [Bx2x...]\n",
    "dataset = replay_buffer.as_dataset(\n",
    "    num_parallel_calls=3, \n",
    "    sample_batch_size=batch_size, \n",
    "    num_steps=2).prefetch(3)\n",
    "\n",
    "\n",
    "dataset"
   ]
  },
  {
   "cell_type": "code",
   "execution_count": 29,
   "id": "facial-contemporary",
   "metadata": {},
   "outputs": [
    {
     "name": "stdout",
     "output_type": "stream",
     "text": [
      "<tensorflow.python.data.ops.iterator_ops.OwnedIterator object at 0x7f99a43036d0>\n"
     ]
    }
   ],
   "source": [
    "iterator = iter(dataset)\n",
    "\n",
    "print(iterator)"
   ]
  },
  {
   "cell_type": "code",
   "execution_count": 30,
   "id": "geological-angola",
   "metadata": {},
   "outputs": [
    {
     "name": "stdout",
     "output_type": "stream",
     "text": [
      "step = 200: loss = 29.2271785736084\n",
      "step = 400: loss = 17.217344284057617\n",
      "step = 600: loss = 8.350781440734863\n",
      "step = 800: loss = 7.884682655334473\n",
      "step = 1000: loss = 4.700870037078857\n",
      "step = 1000: Average Return = 11.699999809265137\n",
      "step = 1200: loss = 8.470251083374023\n",
      "step = 1400: loss = 11.799627304077148\n",
      "step = 1600: loss = 3.566861152648926\n",
      "step = 1800: loss = 7.355230331420898\n",
      "step = 2000: loss = 15.244498252868652\n",
      "step = 2000: Average Return = 40.0\n",
      "step = 2200: loss = 60.77824401855469\n",
      "step = 2400: loss = 69.83644104003906\n",
      "step = 2600: loss = 43.03424835205078\n",
      "step = 2800: loss = 33.2039680480957\n",
      "step = 3000: loss = 46.82030487060547\n",
      "step = 3000: Average Return = 23.299999237060547\n",
      "step = 3200: loss = 7.2730584144592285\n",
      "step = 3400: loss = 2.9860782623291016\n",
      "step = 3600: loss = 29.8825626373291\n",
      "step = 3800: loss = 3.893132209777832\n",
      "step = 4000: loss = 5.98153018951416\n",
      "step = 4000: Average Return = 69.0\n",
      "step = 4200: loss = 4.0997161865234375\n",
      "step = 4400: loss = 27.402196884155273\n",
      "step = 4600: loss = 76.089599609375\n",
      "step = 4800: loss = 76.88561248779297\n",
      "step = 5000: loss = 107.14558410644531\n",
      "step = 5000: Average Return = 90.80000305175781\n",
      "step = 5200: loss = 3.5707709789276123\n",
      "step = 5400: loss = 59.95405578613281\n",
      "step = 5600: loss = 44.73739242553711\n",
      "step = 5800: loss = 87.3465805053711\n",
      "step = 6000: loss = 11.77180290222168\n",
      "step = 6000: Average Return = 90.5999984741211\n",
      "step = 6200: loss = 18.154190063476562\n",
      "step = 6400: loss = 44.630767822265625\n",
      "step = 6600: loss = 77.75967407226562\n",
      "step = 6800: loss = 512.0236206054688\n",
      "step = 7000: loss = 71.61186981201172\n",
      "step = 7000: Average Return = 92.4000015258789\n",
      "step = 7200: loss = 14.00885009765625\n",
      "step = 7400: loss = 108.54656982421875\n",
      "step = 7600: loss = 109.02854919433594\n",
      "step = 7800: loss = 7.6738104820251465\n",
      "step = 8000: loss = 63.98594284057617\n",
      "step = 8000: Average Return = 101.80000305175781\n",
      "step = 8200: loss = 72.44081115722656\n",
      "step = 8400: loss = 163.22967529296875\n",
      "step = 8600: loss = 57.3287467956543\n",
      "step = 8800: loss = 34.89347839355469\n",
      "step = 9000: loss = 208.61795043945312\n",
      "step = 9000: Average Return = 101.80000305175781\n",
      "step = 9200: loss = 141.71287536621094\n",
      "step = 9400: loss = 45.80859375\n",
      "step = 9600: loss = 58.68430709838867\n",
      "step = 9800: loss = 23.48859977722168\n",
      "step = 10000: loss = 120.3586196899414\n",
      "step = 10000: Average Return = 127.0999984741211\n",
      "step = 10200: loss = 41.30546188354492\n",
      "step = 10400: loss = 43.25672149658203\n",
      "step = 10600: loss = 7.863930702209473\n",
      "step = 10800: loss = 50.583702087402344\n",
      "step = 11000: loss = 31.556049346923828\n",
      "step = 11000: Average Return = 138.0\n",
      "step = 11200: loss = 97.71533203125\n",
      "step = 11400: loss = 54.34208679199219\n",
      "step = 11600: loss = 49.609188079833984\n",
      "step = 11800: loss = 8.27430248260498\n",
      "step = 12000: loss = 46.179195404052734\n",
      "step = 12000: Average Return = 124.30000305175781\n",
      "step = 12200: loss = 11.43126106262207\n",
      "step = 12400: loss = 60.03121566772461\n",
      "step = 12600: loss = 8.553694725036621\n",
      "step = 12800: loss = 10.677034378051758\n",
      "step = 13000: loss = 598.6234741210938\n",
      "step = 13000: Average Return = 164.8000030517578\n",
      "step = 13200: loss = 49.31930160522461\n",
      "step = 13400: loss = 24.356250762939453\n",
      "step = 13600: loss = 39.58211898803711\n",
      "step = 13800: loss = 6.3300065994262695\n",
      "step = 14000: loss = 6.361505508422852\n",
      "step = 14000: Average Return = 143.8000030517578\n",
      "step = 14200: loss = 370.17376708984375\n",
      "step = 14400: loss = 8.840017318725586\n",
      "step = 14600: loss = 24.188087463378906\n",
      "step = 14800: loss = 9.61065673828125\n",
      "step = 15000: loss = 10.62653923034668\n",
      "step = 15000: Average Return = 134.3000030517578\n",
      "step = 15200: loss = 69.35010528564453\n",
      "step = 15400: loss = 66.56388092041016\n",
      "step = 15600: loss = 14.688175201416016\n",
      "step = 15800: loss = 109.17056274414062\n",
      "step = 16000: loss = 13.0750150680542\n",
      "step = 16000: Average Return = 139.1999969482422\n",
      "step = 16200: loss = 8.117355346679688\n",
      "step = 16400: loss = 15.893778800964355\n",
      "step = 16600: loss = 11.427573204040527\n",
      "step = 16800: loss = 12.842602729797363\n",
      "step = 17000: loss = 213.11660766601562\n",
      "step = 17000: Average Return = 153.10000610351562\n",
      "step = 17200: loss = 19.443462371826172\n",
      "step = 17400: loss = 162.29307556152344\n",
      "step = 17600: loss = 5.851240634918213\n",
      "step = 17800: loss = 106.75212097167969\n",
      "step = 18000: loss = 80.00973510742188\n",
      "step = 18000: Average Return = 164.8000030517578\n",
      "step = 18200: loss = 190.3725128173828\n",
      "step = 18400: loss = 9.252229690551758\n",
      "step = 18600: loss = 52.41980743408203\n",
      "step = 18800: loss = 23.480249404907227\n",
      "step = 19000: loss = 9.434148788452148\n",
      "step = 19000: Average Return = 170.39999389648438\n",
      "step = 19200: loss = 9.515003204345703\n",
      "step = 19400: loss = 165.4015655517578\n",
      "step = 19600: loss = 15.957176208496094\n",
      "step = 19800: loss = 14.34587574005127\n",
      "step = 20000: loss = 16.348129272460938\n",
      "step = 20000: Average Return = 181.89999389648438\n"
     ]
    }
   ],
   "source": [
    "#@test {\"skip\": true}\n",
    "try:\n",
    "  %%time\n",
    "except:\n",
    "  pass\n",
    "\n",
    "# (Optional) Optimize by wrapping some of the code in a graph using TF function.\n",
    "agent.train = common.function(agent.train)\n",
    "\n",
    "# Reset the train step\n",
    "agent.train_step_counter.assign(0)\n",
    "\n",
    "# Evaluate the agent's policy once before training.\n",
    "avg_return = compute_avg_return(eval_env, agent.policy, num_eval_episodes)\n",
    "returns = [avg_return]\n",
    "\n",
    "for _ in range(num_iterations):\n",
    "\n",
    "  # Collect a few steps using collect_policy and save to the replay buffer.\n",
    "  collect_data(train_env, agent.collect_policy, replay_buffer, collect_steps_per_iteration)\n",
    "\n",
    "  # Sample a batch of data from the buffer and update the agent's network.\n",
    "  experience, unused_info = next(iterator)\n",
    "  train_loss = agent.train(experience).loss\n",
    "\n",
    "  step = agent.train_step_counter.numpy()\n",
    "\n",
    "  if step % log_interval == 0:\n",
    "    print('step = {0}: loss = {1}'.format(step, train_loss))\n",
    "\n",
    "  if step % eval_interval == 0:\n",
    "    avg_return = compute_avg_return(eval_env, agent.policy, num_eval_episodes)\n",
    "    print('step = {0}: Average Return = {1}'.format(step, avg_return))\n",
    "    returns.append(avg_return)"
   ]
  },
  {
   "cell_type": "code",
   "execution_count": 31,
   "id": "everyday-security",
   "metadata": {},
   "outputs": [
    {
     "data": {
      "text/plain": [
       "(2.3499999046325684, 250.0)"
      ]
     },
     "execution_count": 31,
     "metadata": {},
     "output_type": "execute_result"
    },
    {
     "data": {
      "image/png": "[encoded data removed]",
      "text/plain": [
       "<Figure size 432x288 with 1 Axes>"
      ]
     },
     "metadata": {
      "needs_background": "light"
     },
     "output_type": "display_data"
    }
   ],
   "source": [
    "#@test {\"skip\": true}\n",
    "\n",
    "iterations = range(0, num_iterations + 1, eval_interval)\n",
    "plt.plot(iterations, returns)\n",
    "plt.ylabel('Average Return')\n",
    "plt.xlabel('Iterations')\n",
    "plt.ylim(top=250)"
   ]
  },
  {
   "cell_type": "code",
   "execution_count": 32,
   "id": "authentic-progressive",
   "metadata": {},
   "outputs": [],
   "source": [
    "def embed_mp4(filename):\n",
    "  \"\"\"Embeds an mp4 file in the notebook.\"\"\"\n",
    "  video = open(filename,'rb').read()\n",
    "  b64 = base64.b64encode(video)\n",
    "  tag = '''\n",
    "  <video width=\"640\" height=\"480\" controls>\n",
    "    <source src=\"data:video/mp4;base64,{0}\" type=\"video/mp4\">\n",
    "  Your browser does not support the video tag.\n",
    "  </video>'''.format(b64.decode())\n",
    "\n",
    "  return IPython.display.HTML(tag)"
   ]
  },
  {
   "cell_type": "code",
   "execution_count": 33,
   "id": "wireless-harvey",
   "metadata": {},
   "outputs": [
    {
     "name": "stderr",
     "output_type": "stream",
     "text": [
      "WARNING:root:IMAGEIO FFMPEG_WRITER WARNING: input image is not divisible by macro_block_size=16, resizing from (400, 600) to (400, 608) to ensure video compatibility with most codecs and players. To prevent resizing, make your input image divisible by the macro_block_size or set the macro_block_size to None (risking incompatibility). You may also see a FFMPEG warning concerning speedloss due to data not being aligned.\n"
     ]
    },
    {
     "data": {
      "text/html": [
       "\n",
       "  <video width=\"640\" height=\"480\" controls>\n",
       "    <source src=\"data:video/mp4;base64,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\" type=\"video/mp4\">\n",
       "  Your browser does not support the video tag.\n",
       "  </video>"
      ],
      "text/plain": [
       "<IPython.core.display.HTML object>"
      ]
     },
     "execution_count": 33,
     "metadata": {},
     "output_type": "execute_result"
    }
   ],
   "source": [
    "def create_policy_eval_video(policy, filename, num_episodes=5, fps=30):\n",
    "  filename = filename + \".mp4\"\n",
    "  with imageio.get_writer(filename, fps=fps) as video:\n",
    "    for _ in range(num_episodes):\n",
    "      time_step = eval_env.reset()\n",
    "      video.append_data(eval_py_env.render())\n",
    "      while not time_step.is_last():\n",
    "        action_step = policy.action(time_step)\n",
    "        time_step = eval_env.step(action_step.action)\n",
    "        video.append_data(eval_py_env.render())\n",
    "  return embed_mp4(filename)\n",
    "\n",
    "\n",
    "\n",
    "\n",
    "create_policy_eval_video(agent.policy, \"trained-agent\")"
   ]
  },
  {
   "cell_type": "code",
   "execution_count": null,
   "id": "premier-wedding",
   "metadata": {},
   "outputs": [],
   "source": [
    "create_policy_eval_video(random_policy, \"random-agent\")"
   ]
  }
 ],
 "metadata": {
  "kernelspec": {
   "display_name": "Python 3",
   "language": "python",
   "name": "python3"
  },
  "language_info": {
   "codemirror_mode": {
    "name": "ipython",
    "version": 3
   },
   "file_extension": ".py",
   "mimetype": "text/x-python",
   "name": "python",
   "nbconvert_exporter": "python",
   "pygments_lexer": "ipython3",
   "version": "3.7.9"
  }
 },
 "nbformat": 4,
 "nbformat_minor": 5
}
